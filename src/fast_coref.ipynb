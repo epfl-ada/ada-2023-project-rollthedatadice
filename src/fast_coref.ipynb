{
 "cells": [
  {
   "cell_type": "code",
   "execution_count": 1,
   "metadata": {},
   "outputs": [
    {
     "name": "stderr",
     "output_type": "stream",
     "text": [
      "d:\\APPS\\Anaconda\\envs\\ML\\Lib\\site-packages\\tqdm\\auto.py:21: TqdmWarning: IProgress not found. Please update jupyter and ipywidgets. See https://ipywidgets.readthedocs.io/en/stable/user_install.html\n",
      "  from .autonotebook import tqdm as notebook_tqdm\n"
     ]
    }
   ],
   "source": [
    "from fastcoref import spacy_component\n",
    "import spacy"
   ]
  },
  {
   "cell_type": "code",
   "execution_count": 5,
   "metadata": {},
   "outputs": [
    {
     "name": "stderr",
     "output_type": "stream",
     "text": [
      "12/09/2023 13:51:24 - INFO - \t missing_keys: []\n",
      "12/09/2023 13:51:24 - INFO - \t unexpected_keys: []\n",
      "12/09/2023 13:51:24 - INFO - \t mismatched_keys: []\n",
      "12/09/2023 13:51:24 - INFO - \t error_msgs: []\n",
      "12/09/2023 13:51:24 - INFO - \t Model Parameters: 90.5M, Transformer: 82.1M, Coref head: 8.4M\n",
      "12/09/2023 13:51:24 - INFO - \t Tokenize 1 inputs...\n",
      "Map: 100%|██████████| 1/1 [00:00<00:00, 96.84 examples/s]\n",
      "12/09/2023 13:51:24 - INFO - \t ***** Running Inference on 1 texts *****\n",
      "Inference: 100%|██████████| 1/1 [00:01<00:00,  1.13s/it]\n"
     ]
    },
    {
     "data": {
      "text/plain": [
       "[[(0, 5), (39, 42), (79, 82)]]"
      ]
     },
     "execution_count": 5,
     "metadata": {},
     "output_type": "execute_result"
    }
   ],
   "source": [
    "text = 'Alice goes down the rabbit hole. Where she would discover a new reality beyond her expectations.'\n",
    "\n",
    "# use gpu if available\n",
    "if spacy.prefer_gpu():\n",
    "    spacy.prefer_gpu()\n",
    "    print('GPU Enabled')\n",
    "nlp = spacy.load(\"en_core_web_sm\")\n",
    "nlp.add_pipe(\"fastcoref\")\n",
    "\n",
    "doc = nlp(text)\n",
    "doc._.coref_clusters"
   ]
  },
  {
   "cell_type": "code",
   "execution_count": 7,
   "metadata": {},
   "outputs": [
    {
     "name": "stderr",
     "output_type": "stream",
     "text": [
      "12/09/2023 13:52:50 - INFO - \t Tokenize 1 inputs...\n",
      "Map: 100%|██████████| 1/1 [00:00<00:00, 29.71 examples/s]\n",
      "12/09/2023 13:52:51 - INFO - \t ***** Running Inference on 1 texts *****\n",
      "Inference: 100%|██████████| 1/1 [00:00<00:00,  3.70it/s]\n"
     ]
    },
    {
     "data": {
      "text/plain": [
       "[[(142, 236), (238, 250), (1142, 1154)],\n",
       " [(343, 346), (362, 391), (420, 423), (464, 467)],\n",
       " [(420, 444),\n",
       "  (518, 525),\n",
       "  (537, 540),\n",
       "  (589, 596),\n",
       "  (905, 912),\n",
       "  (914, 917),\n",
       "  (1063, 1066),\n",
       "  (1188, 1195),\n",
       "  (1429, 1436),\n",
       "  (1448, 1451),\n",
       "  (1571, 1578),\n",
       "  (1591, 1594),\n",
       "  (1726, 1733),\n",
       "  (1780, 1787),\n",
       "  (1815, 1818),\n",
       "  (1896, 1903),\n",
       "  (2052, 2059),\n",
       "  (2081, 2084),\n",
       "  (2113, 2116),\n",
       "  (2206, 2213),\n",
       "  (2219, 2222),\n",
       "  (2288, 2295),\n",
       "  (2327, 2330),\n",
       "  (2383, 2386),\n",
       "  (2621, 2628),\n",
       "  (2880, 2887),\n",
       "  (2962, 2965),\n",
       "  (2975, 2982),\n",
       "  (3148, 3151),\n",
       "  (3186, 3193),\n",
       "  (3241, 3244),\n",
       "  (3280, 3283),\n",
       "  (3293, 3296),\n",
       "  (3441, 3448),\n",
       "  (3803, 3810),\n",
       "  (3903, 3910),\n",
       "  (3981, 3988),\n",
       "  (4048, 4055),\n",
       "  (4149, 4156),\n",
       "  (4339, 4346),\n",
       "  (4352, 4355),\n",
       "  (4388, 4391),\n",
       "  (4413, 4416)],\n",
       " [(407, 418), (568, 579), (4437, 4448)],\n",
       " [(475, 553),\n",
       "  (601, 606),\n",
       "  (865, 870),\n",
       "  (892, 895),\n",
       "  (1077, 1082),\n",
       "  (1094, 1096),\n",
       "  (1359, 1364),\n",
       "  (1759, 1764),\n",
       "  (2633, 2638),\n",
       "  (2901, 2906),\n",
       "  (2917, 2920),\n",
       "  (3006, 3009),\n",
       "  (3137, 3142),\n",
       "  (3172, 3175),\n",
       "  (3224, 3226),\n",
       "  (3505, 3510),\n",
       "  (3604, 3609),\n",
       "  (3815, 3820),\n",
       "  (3941, 3946),\n",
       "  (4038, 4043),\n",
       "  (4137, 4142),\n",
       "  (4180, 4183),\n",
       "  (4421, 4426)],\n",
       " [(32, 49), (620, 631)],\n",
       " [(589, 606),\n",
       "  (648, 653),\n",
       "  (720, 724),\n",
       "  (2621, 2638),\n",
       "  (3803, 3820),\n",
       "  (3866, 3870),\n",
       "  (4038, 4055),\n",
       "  (4233, 4237),\n",
       "  (4258, 4262),\n",
       "  (4413, 4426)],\n",
       " [(648, 709), (711, 713), (1221, 1231), (2699, 2707), (4324, 4332)],\n",
       " [(892, 912), (941, 943)],\n",
       " [(213, 236), (1103, 1122), (2588, 2597), (4301, 4322)],\n",
       " [(1395, 1411), (1413, 1417)],\n",
       " [(1463, 1466),\n",
       "  (1499, 1502),\n",
       "  (1766, 1769),\n",
       "  (1908, 1911),\n",
       "  (2091, 2094),\n",
       "  (2103, 2106),\n",
       "  (2123, 2126),\n",
       "  (2148, 2151),\n",
       "  (2260, 2263),\n",
       "  (2303, 2306),\n",
       "  (2345, 2358),\n",
       "  (2423, 2428),\n",
       "  (2479, 2484),\n",
       "  (3426, 3429),\n",
       "  (3471, 3474)],\n",
       " [(1516, 1569), (1585, 1587)],\n",
       " [(1591, 1613), (1615, 1623)],\n",
       " [(1371, 1389), (1840, 1852)],\n",
       " [(1866, 1882), (1917, 1921), (1941, 1954), (1995, 1997), (2045, 2047)],\n",
       " [(2195, 2202), (2230, 2239), (2249, 2251)],\n",
       " [(2399, 2407), (2440, 2444), (2459, 2461)],\n",
       " [(2498, 2512), (2561, 2564), (4520, 4534)],\n",
       " [(2521, 2548), (2728, 2733), (3651, 3656), (4456, 4461)],\n",
       " [(2479, 2496), (2824, 2841), (3338, 3349)],\n",
       " [(2795, 2804), (2874, 2878)],\n",
       " [(3069, 3135), (3254, 3263)],\n",
       " [(3265, 3270), (3306, 3311), (3365, 3370), (3389, 3392)],\n",
       " [(3320, 3357), (3431, 3433), (3786, 3792)],\n",
       " [(3519, 3552), (3589, 3592)],\n",
       " [(3571, 3609), (3624, 3628)],\n",
       " [(3725, 3755), (3776, 3780)],\n",
       " [(1324, 1357), (3844, 3858)],\n",
       " [(3881, 3885),\n",
       "  (3918, 3922),\n",
       "  (3953, 3956),\n",
       "  (3996, 4000),\n",
       "  (4010, 4013),\n",
       "  (4166, 4169),\n",
       "  (4190, 4193)]]"
      ]
     },
     "execution_count": 7,
     "metadata": {},
     "output_type": "execute_result"
    }
   ],
   "source": [
    "text = \"\"\"The nation of Panem consists of a wealthy Capitol and twelve poorer districts. As punishment for a past rebellion, each district must provide a boy and girl  between the ages of 12 and 18 selected by lottery  for the annual Hunger Games. The tributes must fight to the death in an arena; the sole survivor is rewarded with fame and wealth. In her first Reaping, 12-year-old Primrose Everdeen is chosen from District 12. Her older sister Katniss volunteers to take her place. Peeta Mellark, a baker's son who once gave Katniss bread when she was starving, is the other District 12 tribute. Katniss and Peeta are taken to the Capitol, accompanied by their frequently drunk mentor, past victor Haymitch Abernathy. He warns them about the \"Career\" tributes who train intensively at special academies and almost always win. During a TV interview with Caesar Flickerman, Peeta unexpectedly reveals his love for Katniss. She is outraged, believing it to be a ploy to gain audience support, as \"sponsors\" may provide in-Games gifts of food, medicine, and tools. However, she discovers Peeta meant what he said. The televised Games begin with half of the tributes killed in the first few minutes; Katniss barely survives ignoring Haymitch's advice to run away from the melee over the tempting supplies and weapons strewn in front of a structure called the Cornucopia. Peeta forms an uneasy alliance with the four Careers. They later find Katniss and corner her up a tree. Rue, hiding in a nearby tree, draws her attention to a poisonous tracker jacker nest hanging from a branch. Katniss drops it on her sleeping besiegers. They all scatter, except for Glimmer, who is killed by the insects. Hallucinating due to tracker jacker venom, Katniss is warned to run away by Peeta. Rue cares for Katniss for a couple of days until she recovers. Meanwhile, the alliance has gathered all the supplies into a pile. Katniss has Rue draw them off, then destroys the stockpile by setting off the mines planted around it. Furious, Cato kills the boy assigned to guard it. As Katniss runs from the scene, she hears Rue calling her name. She finds Rue trapped and releases her. Marvel, a tribute from District 1, throws a spear at Katniss, but she dodges the spear, causing it to stab Rue in the stomach instead. Katniss shoots him dead with an arrow. She then comforts the dying Rue with a song. Afterward, she gathers and arranges flowers around Rue's body. When this is televised, it sparks a riot in Rue's District 11. President Snow summons Seneca Crane, the Gamemaker, to express his displeasure at the way the Games are turning out. Since Katniss and Peeta have been presented to the public as \"star-crossed lovers\", Haymitch is able to convince Crane to make a rule change to avoid inciting further riots. It is announced that tributes from the same district can win as a pair. Upon hearing this, Katniss searches for Peeta and finds him with an infected sword wound in the leg. She portrays herself as deeply in love with him and gains a sponsor's gift of soup. An announcer proclaims a feast, where the thing each survivor needs most will be provided. Peeta begs her not to risk getting him medicine. Katniss promises not to go, but after he falls asleep, she heads to the feast. Clove ambushes her and pins her down. As Clove gloats, Thresh, the other District 11 tribute, kills Clove after overhearing her tormenting Katniss about killing Rue. He spares Katniss \"just this time...for Rue\". The medicine works, keeping Peeta mobile. Foxface, the girl from District 5, dies from eating nightlock berries she stole from Peeta; neither knew they are highly poisonous. Crane changes the time of day in the arena to late at night and unleashes a pack of hound-like creatures to speed things up. They kill Thresh and force Katniss and Peeta to flee to the roof of the Cornucopia, where they encounter Cato. After a battle, Katniss wounds Cato with an arrow and Peeta hurls him to the creatures below. Katniss shoots Cato to spare him a prolonged death. With Peeta and Katniss apparently victorious, the rule change allowing two winners is suddenly revoked. Peeta tells Katniss to shoot him. Instead, she gives him half of the nightlock. However, before they can commit suicide, they are hastily proclaimed the victors of the 74th Hunger Games. Haymitch warns Katniss that she has made powerful enemies after her display of defiance. She and Peeta return to District 12, while Crane is locked in a room with a bowl of nightlock berries, and President Snow considers the situation.\"\"\"\n",
    "\n",
    "doc = nlp(text)\n",
    "doc._.coref_clusters\n"
   ]
  }
 ],
 "metadata": {
  "kernelspec": {
   "display_name": "ada",
   "language": "python",
   "name": "python3"
  },
  "language_info": {
   "codemirror_mode": {
    "name": "ipython",
    "version": 3
   },
   "file_extension": ".py",
   "mimetype": "text/x-python",
   "name": "python",
   "nbconvert_exporter": "python",
   "pygments_lexer": "ipython3",
   "version": "3.11.5"
  }
 },
 "nbformat": 4,
 "nbformat_minor": 2
}
