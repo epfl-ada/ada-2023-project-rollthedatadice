{
 "cells": [
  {
   "cell_type": "code",
   "execution_count": 14,
   "id": "49b02be9",
   "metadata": {},
   "outputs": [],
   "source": [
    "import pandas as pd\n",
    "import spacy\n",
    "import os\n"
   ]
  },
  {
   "cell_type": "markdown",
   "id": "336f1a3f",
   "metadata": {},
   "source": [
    "### Load files"
   ]
  },
  {
   "cell_type": "code",
   "execution_count": 70,
   "id": "894d46a0",
   "metadata": {},
   "outputs": [
    {
     "data": {
      "text/html": [
       "<div>\n",
       "<style scoped>\n",
       "    .dataframe tbody tr th:only-of-type {\n",
       "        vertical-align: middle;\n",
       "    }\n",
       "\n",
       "    .dataframe tbody tr th {\n",
       "        vertical-align: top;\n",
       "    }\n",
       "\n",
       "    .dataframe thead th {\n",
       "        text-align: right;\n",
       "    }\n",
       "</style>\n",
       "<table border=\"1\" class=\"dataframe\">\n",
       "  <thead>\n",
       "    <tr style=\"text-align: right;\">\n",
       "      <th></th>\n",
       "      <th>wikipedia_movie_id</th>\n",
       "      <th>freebase_movie_id</th>\n",
       "      <th>movie_release_date</th>\n",
       "      <th>character_name</th>\n",
       "      <th>actor_dob</th>\n",
       "      <th>actor_gender</th>\n",
       "      <th>actor_height</th>\n",
       "      <th>actor_ethnicity</th>\n",
       "      <th>actor_name</th>\n",
       "      <th>actor_age</th>\n",
       "      <th>freebase_character_map_1</th>\n",
       "      <th>freebase_character_map_2</th>\n",
       "      <th>freebase_character_map_3</th>\n",
       "    </tr>\n",
       "  </thead>\n",
       "  <tbody>\n",
       "    <tr>\n",
       "      <th>0</th>\n",
       "      <td>975900</td>\n",
       "      <td>/m/03vyhn</td>\n",
       "      <td>2001-08-24</td>\n",
       "      <td>Akooshay</td>\n",
       "      <td>1958-08-26</td>\n",
       "      <td>F</td>\n",
       "      <td>1.620</td>\n",
       "      <td>NaN</td>\n",
       "      <td>Wanda De Jesus</td>\n",
       "      <td>42.0</td>\n",
       "      <td>/m/0bgchxw</td>\n",
       "      <td>/m/0bgcj3x</td>\n",
       "      <td>/m/03wcfv7</td>\n",
       "    </tr>\n",
       "    <tr>\n",
       "      <th>1</th>\n",
       "      <td>975900</td>\n",
       "      <td>/m/03vyhn</td>\n",
       "      <td>2001-08-24</td>\n",
       "      <td>Lieutenant Melanie Ballard</td>\n",
       "      <td>1974-08-15</td>\n",
       "      <td>F</td>\n",
       "      <td>1.780</td>\n",
       "      <td>/m/044038p</td>\n",
       "      <td>Natasha Henstridge</td>\n",
       "      <td>27.0</td>\n",
       "      <td>/m/0jys3m</td>\n",
       "      <td>/m/0bgchn4</td>\n",
       "      <td>/m/0346l4</td>\n",
       "    </tr>\n",
       "    <tr>\n",
       "      <th>2</th>\n",
       "      <td>975900</td>\n",
       "      <td>/m/03vyhn</td>\n",
       "      <td>2001-08-24</td>\n",
       "      <td>Desolation Williams</td>\n",
       "      <td>1969-06-15</td>\n",
       "      <td>M</td>\n",
       "      <td>1.727</td>\n",
       "      <td>/m/0x67</td>\n",
       "      <td>Ice Cube</td>\n",
       "      <td>32.0</td>\n",
       "      <td>/m/0jys3g</td>\n",
       "      <td>/m/0bgchn_</td>\n",
       "      <td>/m/01vw26l</td>\n",
       "    </tr>\n",
       "    <tr>\n",
       "      <th>3</th>\n",
       "      <td>975900</td>\n",
       "      <td>/m/03vyhn</td>\n",
       "      <td>2001-08-24</td>\n",
       "      <td>Sgt Jericho Butler</td>\n",
       "      <td>1967-09-12</td>\n",
       "      <td>M</td>\n",
       "      <td>1.750</td>\n",
       "      <td>NaN</td>\n",
       "      <td>Jason Statham</td>\n",
       "      <td>33.0</td>\n",
       "      <td>/m/02vchl6</td>\n",
       "      <td>/m/0bgchnq</td>\n",
       "      <td>/m/034hyc</td>\n",
       "    </tr>\n",
       "    <tr>\n",
       "      <th>4</th>\n",
       "      <td>975900</td>\n",
       "      <td>/m/03vyhn</td>\n",
       "      <td>2001-08-24</td>\n",
       "      <td>Bashira Kincaid</td>\n",
       "      <td>1977-09-25</td>\n",
       "      <td>F</td>\n",
       "      <td>1.650</td>\n",
       "      <td>NaN</td>\n",
       "      <td>Clea DuVall</td>\n",
       "      <td>23.0</td>\n",
       "      <td>/m/02vbb3r</td>\n",
       "      <td>/m/0bgchp9</td>\n",
       "      <td>/m/01y9xg</td>\n",
       "    </tr>\n",
       "  </tbody>\n",
       "</table>\n",
       "</div>"
      ],
      "text/plain": [
       "   wikipedia_movie_id freebase_movie_id movie_release_date  \\\n",
       "0              975900         /m/03vyhn         2001-08-24   \n",
       "1              975900         /m/03vyhn         2001-08-24   \n",
       "2              975900         /m/03vyhn         2001-08-24   \n",
       "3              975900         /m/03vyhn         2001-08-24   \n",
       "4              975900         /m/03vyhn         2001-08-24   \n",
       "\n",
       "               character_name   actor_dob actor_gender  actor_height  \\\n",
       "0                    Akooshay  1958-08-26            F         1.620   \n",
       "1  Lieutenant Melanie Ballard  1974-08-15            F         1.780   \n",
       "2         Desolation Williams  1969-06-15            M         1.727   \n",
       "3          Sgt Jericho Butler  1967-09-12            M         1.750   \n",
       "4             Bashira Kincaid  1977-09-25            F         1.650   \n",
       "\n",
       "  actor_ethnicity          actor_name  actor_age freebase_character_map_1  \\\n",
       "0             NaN      Wanda De Jesus       42.0               /m/0bgchxw   \n",
       "1      /m/044038p  Natasha Henstridge       27.0                /m/0jys3m   \n",
       "2         /m/0x67            Ice Cube       32.0                /m/0jys3g   \n",
       "3             NaN       Jason Statham       33.0               /m/02vchl6   \n",
       "4             NaN         Clea DuVall       23.0               /m/02vbb3r   \n",
       "\n",
       "  freebase_character_map_2 freebase_character_map_3  \n",
       "0               /m/0bgcj3x               /m/03wcfv7  \n",
       "1               /m/0bgchn4                /m/0346l4  \n",
       "2               /m/0bgchn_               /m/01vw26l  \n",
       "3               /m/0bgchnq                /m/034hyc  \n",
       "4               /m/0bgchp9                /m/01y9xg  "
      ]
     },
     "execution_count": 70,
     "metadata": {},
     "output_type": "execute_result"
    }
   ],
   "source": [
    "characters = pd.read_csv('../data/character.metadata.tsv', sep='\\t', header=None)\n",
    "characters.columns = [\n",
    "    'wikipedia_movie_id',\n",
    "    'freebase_movie_id',\n",
    "    'movie_release_date',\n",
    "    'character_name',\n",
    "    'actor_dob',\n",
    "    'actor_gender',\n",
    "    'actor_height',\n",
    "    'actor_ethnicity',\n",
    "    'actor_name',\n",
    "    'actor_age',\n",
    "    'freebase_character_map_1',\n",
    "    'freebase_character_map_2',\n",
    "    'freebase_character_map_3'\n",
    "]\n",
    "characters.head()"
   ]
  },
  {
   "cell_type": "code",
   "execution_count": 72,
   "id": "255345fb",
   "metadata": {
    "scrolled": true
   },
   "outputs": [],
   "source": [
    "# Movie plot EXAMPLE\n",
    "\n",
    "\n",
    "plot='''\n",
    "The nation of Panem consists of a wealthy Capitol and twelve poorer districts. As punishment for a past rebellion, each district must provide a boy and girl between the ages of 12 and 18 selected by lottery for the annual Hunger Games. The tributes must fight to the death in an arena; the sole survivor is rewarded with fame and wealth. In her first Reaping, 12-year-old Primrose Everdeen is chosen from District 12. Her older sister Katniss volunteers to take her place. Peeta Mellark, a baker's son who once gave Katniss bread when she was starving, is the other District 12 tribute. Katniss and Peeta are taken to the Capitol, accompanied by their frequently drunk mentor, past victor Haymitch Abernathy. He warns them about the \"Career\" tributes who train intensively at special academies and almost always win. During a TV interview with Caesar Flickerman, Peeta unexpectedly reveals his love for Katniss. She is outraged, believing it to be a ploy to gain audience support, as \"sponsors\" may provide in-Games gifts of food, medicine, and tools. However, she discovers Peeta meant what he said. The televised Games begin with half of the tributes killed in the first few minutes; Katniss barely survives ignoring Haymitch's advice to run away from the melee over the tempting supplies and weapons strewn in front of a structure called the Cornucopia. Peeta forms an uneasy alliance with the four Careers. They later find Katniss and corner her up a tree. Rue, hiding in a nearby tree, draws her attention to a poisonous tracker jacker nest hanging from a branch. Katniss drops it on her sleeping besiegers. They all scatter, except for Glimmer, who is killed by the insects. Hallucinating due to tracker jacker venom, Katniss is warned to run away by Peeta. Rue cares for Katniss for a couple of days until she recovers. Meanwhile, the alliance has gathered all the supplies into a pile. Katniss has Rue draw them off, then destroys the stockpile by setting off the mines planted around it. Furious, Cato kills the boy assigned to guard it. As Katniss runs from the scene, she hears Rue calling her name. She finds Rue trapped and releases her. Marvel, a tribute from District 1, throws a spear at Katniss, but she dodges the spear, causing it to stab Rue in the stomach instead. Katniss shoots him dead with an arrow. She then comforts the dying Rue with a song. Afterward, she gathers and arranges flowers around Rue's body. When this is televised, it sparks a riot in Rue's District 11. President Snow summons Seneca Crane, the Gamemaker, to express his displeasure at the way the Games are turning out. Since Katniss and Peeta have been presented to the public as \"star-crossed lovers\", Haymitch is able to convince Crane to make a rule change to avoid inciting further riots. It is announced that tributes from the same district can win as a pair. Upon hearing this, Katniss searches for Peeta and finds him with an infected sword wound in the leg. She portrays herself as deeply in love with him and gains a sponsor's gift of soup. An announcer proclaims a feast, where the thing each survivor needs most will be provided. Peeta begs her not to risk getting him medicine. Katniss promises not to go, but after he falls asleep, she heads to the feast. Clove ambushes her and pins her down. As Clove gloats, Thresh, the other District 11 tribute, kills Clove after overhearing her tormenting Katniss about killing Rue. He spares Katniss \"just this time...for Rue\". The medicine works, keeping Peeta mobile. Foxface, the girl from District 5, dies from eating nightlock berries she stole from Peeta; neither knew they are highly poisonous. Crane changes the time of day in the arena to late at night and unleashes a pack of hound-like creatures to speed things up. They kill Thresh and force Katniss and Peeta to flee to the roof of the Cornucopia, where they encounter Cato. After a battle, Katniss wounds Cato with an arrow and Peeta hurls him to the creatures below. Katniss shoots Cato to spare him a prolonged death. With Peeta and Katniss apparently victorious, the rule change allowing two winners is suddenly revoked. Peeta tells Katniss to shoot him. Instead, she gives him half of the nightlock. However, before they can commit suicide, they are hastily proclaimed the victors of the 74th Hunger Games. Haymitch warns Katniss that she has made powerful enemies after her display of defiance. She and Peeta return to District 12, while Crane is locked in a room with a bowl of nightlock berries, and President Snow considers the situation.\n",
    "'''\n",
    "\n",
    "# Load spaCy model\n",
    "nlp = spacy.load(\"en_core_web_sm\")\n",
    "\n",
    "# Process the movie plot text with spaCy\n",
    "doc1 = nlp(plot)\n",
    "\n",
    "#filter for our movie\n",
    "movie_ID=31186339\n",
    "charSex=characters[characters[\"wikipedia_movie_id\"] == movie_ID][[\"character_name\",\"actor_gender\"]]\n",
    "charSex=charSex.set_index(\"character_name\")"
   ]
  },
  {
   "cell_type": "markdown",
   "id": "eb3d5bc7",
   "metadata": {},
   "source": [
    "## Main & side characters using frequencies"
   ]
  },
  {
   "cell_type": "code",
   "execution_count": 73,
   "id": "623450aa",
   "metadata": {},
   "outputs": [],
   "source": [
    "#function that returns a list of unique characters\n",
    "def get_characters(doc):\n",
    "    characters = []\n",
    "    for ent in doc.ents:\n",
    "        if ent.label_ == \"PERSON\" and ent.text.istitle():\n",
    "            characters.append(ent.text.lower())\n",
    "    return list(set(characters))"
   ]
  },
  {
   "cell_type": "code",
   "execution_count": 74,
   "id": "a55d5e60",
   "metadata": {},
   "outputs": [
    {
     "name": "stdout",
     "output_type": "stream",
     "text": [
      "['crane', 'snow', 'thresh', 'peeta mellark', 'seneca crane', 'katniss', 'haymitch abernathy', 'cato', 'peeta', 'haymitch', 'rue']\n"
     ]
    }
   ],
   "source": [
    "char_list=get_characters(doc1)\n",
    "print(char_list)"
   ]
  },
  {
   "cell_type": "code",
   "execution_count": 75,
   "id": "db1395cf",
   "metadata": {},
   "outputs": [],
   "source": [
    "def get_character_frequencies(doc):\n",
    "    # Process the movie plot text with spaCy\n",
    "\n",
    "    char_list=get_characters(doc)\n",
    "    \n",
    "    # Initialize a dictionary to store character counts\n",
    "    char_counts = {char: 0 for char in char_list}\n",
    "\n",
    "    # Iterate through tokens in the processed text\n",
    "    for token in doc:\n",
    "        # Check if the token is a character in the list\n",
    "        if token.text.lower() in char_list:\n",
    "            char_counts[token.text.lower()] += 1\n",
    "    return char_counts"
   ]
  },
  {
   "cell_type": "code",
   "execution_count": 76,
   "id": "aeae46e4",
   "metadata": {},
   "outputs": [
    {
     "name": "stdout",
     "output_type": "stream",
     "text": [
      "crane: 4 occurrences\n",
      "snow: 2 occurrences\n",
      "thresh: 2 occurrences\n",
      "peeta mellark: 0 occurrences\n",
      "seneca crane: 0 occurrences\n",
      "katniss: 24 occurrences\n",
      "haymitch abernathy: 0 occurrences\n",
      "cato: 4 occurrences\n",
      "peeta: 16 occurrences\n",
      "haymitch: 4 occurrences\n",
      "rue: 11 occurrences\n"
     ]
    }
   ],
   "source": [
    "import seaborn as sns\n",
    "\n",
    "char_counts=character_frequencies(doc1)\n",
    "for char, count in char_counts.items():\n",
    "    print(f\"{char}: {count} occurrences\")"
   ]
  },
  {
   "cell_type": "code",
   "execution_count": 77,
   "id": "afe87067",
   "metadata": {},
   "outputs": [
    {
     "data": {
      "image/png": "[encoded data removed]",
      "text/plain": [
       "<Figure size 640x480 with 1 Axes>"
      ]
     },
     "metadata": {},
     "output_type": "display_data"
    }
   ],
   "source": [
    "sorted_char_counts = dict(sorted(char_counts.items(), key=lambda item: item[1], reverse=True))\n",
    "\n",
    "# Create a bar plot using seaborn\n",
    "ax = sns.barplot(x=list(sorted_char_counts.keys()), y=list(sorted_char_counts.values()))\n",
    "ax.set(xlabel='Characters', ylabel='Occurrences', title='Character Occurrences in Movie Plot (Decreasing Order)')\n",
    "plt.show()"
   ]
  },
  {
   "cell_type": "markdown",
   "id": "90b2d5d8",
   "metadata": {},
   "source": [
    "## Main & side characters using the network"
   ]
  },
  {
   "cell_type": "code",
   "execution_count": null,
   "id": "3e6f2b66",
   "metadata": {},
   "outputs": [],
   "source": [
    "# Import the G graph HERE"
   ]
  },
  {
   "cell_type": "code",
   "execution_count": 84,
   "id": "1f249ce6",
   "metadata": {},
   "outputs": [],
   "source": [
    "import networkx as nx\n",
    "# Example\n",
    "G=nx.read_gexf(\"./graph_test\")"
   ]
  },
  {
   "cell_type": "code",
   "execution_count": 85,
   "id": "1303e0e0",
   "metadata": {},
   "outputs": [],
   "source": [
    "def calculate_centrality_measures(graph):\n",
    "    # Calculate degree for each node\n",
    "    degree_centrality = nx.degree_centrality(graph)\n",
    "\n",
    "    # Calculate PageRank for each node\n",
    "    pagerank_centrality = nx.pagerank(graph)\n",
    "\n",
    "    # Calculate Betweenness Centrality for each node\n",
    "    betweenness_centrality = nx.betweenness_centrality(graph)\n",
    "\n",
    "    # Create a DataFrame to store the results\n",
    "    centrality_df = pd.DataFrame({\n",
    "        'Node': list(graph.nodes()),\n",
    "        'Degree': [degree_centrality[node] for node in graph.nodes()],\n",
    "        'PageRank': [pagerank_centrality[node] for node in graph.nodes()],\n",
    "        'Betweenness Centrality': [betweenness_centrality[node] for node in graph.nodes()]\n",
    "    })\n",
    "\n",
    "    return centrality_df"
   ]
  },
  {
   "cell_type": "code",
   "execution_count": 86,
   "id": "8bd1751e",
   "metadata": {
    "scrolled": true
   },
   "outputs": [
    {
     "data": {
      "text/html": [
       "<div>\n",
       "<style scoped>\n",
       "    .dataframe tbody tr th:only-of-type {\n",
       "        vertical-align: middle;\n",
       "    }\n",
       "\n",
       "    .dataframe tbody tr th {\n",
       "        vertical-align: top;\n",
       "    }\n",
       "\n",
       "    .dataframe thead th {\n",
       "        text-align: right;\n",
       "    }\n",
       "</style>\n",
       "<table border=\"1\" class=\"dataframe\">\n",
       "  <thead>\n",
       "    <tr style=\"text-align: right;\">\n",
       "      <th></th>\n",
       "      <th>Node</th>\n",
       "      <th>Degree</th>\n",
       "      <th>PageRank</th>\n",
       "      <th>Betweenness Centrality</th>\n",
       "    </tr>\n",
       "  </thead>\n",
       "  <tbody>\n",
       "    <tr>\n",
       "      <th>0</th>\n",
       "      <td>Rue</td>\n",
       "      <td>1.000000</td>\n",
       "      <td>0.050812</td>\n",
       "      <td>0.000000</td>\n",
       "    </tr>\n",
       "    <tr>\n",
       "      <th>1</th>\n",
       "      <td>Katniss</td>\n",
       "      <td>3.714286</td>\n",
       "      <td>0.087832</td>\n",
       "      <td>0.083333</td>\n",
       "    </tr>\n",
       "    <tr>\n",
       "      <th>2</th>\n",
       "      <td>Thresh</td>\n",
       "      <td>0.714286</td>\n",
       "      <td>0.064447</td>\n",
       "      <td>0.035714</td>\n",
       "    </tr>\n",
       "    <tr>\n",
       "      <th>3</th>\n",
       "      <td>Peeta</td>\n",
       "      <td>2.571429</td>\n",
       "      <td>0.191520</td>\n",
       "      <td>0.190476</td>\n",
       "    </tr>\n",
       "    <tr>\n",
       "      <th>4</th>\n",
       "      <td>Haymitch</td>\n",
       "      <td>1.000000</td>\n",
       "      <td>0.130860</td>\n",
       "      <td>0.000000</td>\n",
       "    </tr>\n",
       "  </tbody>\n",
       "</table>\n",
       "</div>"
      ],
      "text/plain": [
       "       Node    Degree  PageRank  Betweenness Centrality\n",
       "0       Rue  1.000000  0.050812                0.000000\n",
       "1   Katniss  3.714286  0.087832                0.083333\n",
       "2    Thresh  0.714286  0.064447                0.035714\n",
       "3     Peeta  2.571429  0.191520                0.190476\n",
       "4  Haymitch  1.000000  0.130860                0.000000"
      ]
     },
     "execution_count": 86,
     "metadata": {},
     "output_type": "execute_result"
    }
   ],
   "source": [
    "result_df = calculate_centrality_measures(G)\n",
    "result_df.head()"
   ]
  }
 ],
 "metadata": {
  "kernelspec": {
   "display_name": "ada",
   "language": "python",
   "name": "ada"
  },
  "language_info": {
   "codemirror_mode": {
    "name": "ipython",
    "version": 3
   },
   "file_extension": ".py",
   "mimetype": "text/x-python",
   "name": "python",
   "nbconvert_exporter": "python",
   "pygments_lexer": "ipython3",
   "version": "3.9.18"
  }
 },
 "nbformat": 4,
 "nbformat_minor": 5
}
