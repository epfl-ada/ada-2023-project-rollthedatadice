{
 "cells": [
  {
   "cell_type": "markdown",
   "metadata": {},
   "source": [
    "# Unveiling Character Dynamics: A Quantitative Exploration of Movie Narratives"
   ]
  },
  {
   "cell_type": "markdown",
   "metadata": {},
   "source": [
    "Welcome to our project notebook for Milestone P2! \n",
    "\n",
    "Throughout this phase, our team has dedicated efforts to enhance our project proposal and initiate initial examinations, laying the groundwork for an effective expedition into data exploration and analysis."
   ]
  },
  {
   "cell_type": "markdown",
   "metadata": {},
   "source": [
    "## Table of Contents\n",
    "- [Section I: Exploratory Data Analysis✅](#section-i-exploratory-data-analysis)\n",
    "- [Section II: Generation of Character Networks🏗️](#)\n",
    "- [Section III: Persona Extraction and Mapping🚧](#)\n",
    "- [Setion IV: Main and Side Character Analysis🚧](#)\n",
    "- [Section V: Network Dynamics Analysis🚧](#)"
   ]
  },
  {
   "cell_type": "code",
   "execution_count": 2,
   "id": "725b2a54",
   "metadata": {},
   "outputs": [
    {
     "ename": "ModuleNotFoundError",
     "evalue": "No module named 'plotly'",
     "output_type": "error",
     "traceback": [
      "\u001b[1;31m---------------------------------------------------------------------------\u001b[0m",
      "\u001b[1;31mModuleNotFoundError\u001b[0m                       Traceback (most recent call last)",
      "\u001b[1;32m<ipython-input-1-4f15f16138cb>\u001b[0m in \u001b[0;36m<module>\u001b[1;34m()\u001b[0m\n\u001b[0;32m      4\u001b[0m \u001b[1;32mimport\u001b[0m \u001b[0mpandas\u001b[0m \u001b[1;32mas\u001b[0m \u001b[0mpd\u001b[0m\u001b[1;33m\u001b[0m\u001b[0m\n\u001b[0;32m      5\u001b[0m \u001b[1;32mimport\u001b[0m \u001b[0mseaborn\u001b[0m \u001b[1;32mas\u001b[0m \u001b[0msns\u001b[0m\u001b[1;33m\u001b[0m\u001b[0m\n\u001b[1;32m----> 6\u001b[1;33m \u001b[1;32mimport\u001b[0m \u001b[0mplotly\u001b[0m\u001b[1;33m.\u001b[0m\u001b[0mexpress\u001b[0m \u001b[1;32mas\u001b[0m \u001b[0mpx\u001b[0m\u001b[1;33m\u001b[0m\u001b[0m\n\u001b[0m\u001b[0;32m      7\u001b[0m \u001b[1;32mimport\u001b[0m \u001b[0mmatplotlib\u001b[0m\u001b[1;33m.\u001b[0m\u001b[0mpyplot\u001b[0m \u001b[1;32mas\u001b[0m \u001b[0mplt\u001b[0m\u001b[1;33m\u001b[0m\u001b[0m\n\u001b[0;32m      8\u001b[0m \u001b[1;32mimport\u001b[0m \u001b[0mmatplotlib\u001b[0m\u001b[1;33m.\u001b[0m\u001b[0mticker\u001b[0m \u001b[1;32mas\u001b[0m \u001b[0mticker\u001b[0m\u001b[1;33m\u001b[0m\u001b[0m\n",
      "\u001b[1;31mModuleNotFoundError\u001b[0m: No module named 'plotly'"
     ]
    }
   ],
   "source": [
    "import ast\n",
    "import re\n",
    "import numpy as np\n",
    "import pandas as pd\n",
    "import seaborn as sns\n",
    "import plotly.express as px\n",
    "import matplotlib.pyplot as plt\n",
    "import matplotlib.ticker as ticker\n",
    "from helper import *\n",
    "\n",
    "%matplotlib inline\n",
    "plt.rcParams['font.family'] = 'Times New Roman'"
   ]
  },
  {
   "cell_type": "markdown",
   "metadata": {},
   "source": [
    "## Section I: Exploratory Data Analysis"
   ]
  },
  {
   "cell_type": "markdown",
   "metadata": {},
   "source": [
    "The movie metadata set includes movie box office revenue, genre, release date, runtime, and language. We did some exploratory analysis to better understand the movie distribution, providing us the neccessary context of those movies."
   ]
  },
  {
   "cell_type": "code",
   "execution_count": 4,
   "id": "fa9c248f",
   "metadata": {},
   "outputs": [
    {
     "data": {
      "text/html": [
       "<div>\n",
       "<style scoped>\n",
       "    .dataframe tbody tr th:only-of-type {\n",
       "        vertical-align: middle;\n",
       "    }\n",
       "\n",
       "    .dataframe tbody tr th {\n",
       "        vertical-align: top;\n",
       "    }\n",
       "\n",
       "    .dataframe thead th {\n",
       "        text-align: right;\n",
       "    }\n",
       "</style>\n",
       "<table border=\"1\" class=\"dataframe\">\n",
       "  <thead>\n",
       "    <tr style=\"text-align: right;\">\n",
       "      <th></th>\n",
       "      <th>wikipedia_movie_id</th>\n",
       "      <th>freebase_movie_id</th>\n",
       "      <th>movie_name</th>\n",
       "      <th>movie_release_date</th>\n",
       "      <th>movie_box_office_revenue</th>\n",
       "      <th>movie_runtime</th>\n",
       "      <th>movie_languages</th>\n",
       "      <th>movie_countries</th>\n",
       "      <th>movie_genres</th>\n",
       "    </tr>\n",
       "  </thead>\n",
       "  <tbody>\n",
       "    <tr>\n",
       "      <th>0</th>\n",
       "      <td>975900</td>\n",
       "      <td>/m/03vyhn</td>\n",
       "      <td>Ghosts of Mars</td>\n",
       "      <td>2001-08-24</td>\n",
       "      <td>14010832.0</td>\n",
       "      <td>98.0</td>\n",
       "      <td>{\"/m/02h40lc\": \"English Language\"}</td>\n",
       "      <td>{\"/m/09c7w0\": \"United States of America\"}</td>\n",
       "      <td>{\"/m/01jfsb\": \"Thriller\", \"/m/06n90\": \"Science...</td>\n",
       "    </tr>\n",
       "    <tr>\n",
       "      <th>1</th>\n",
       "      <td>3196793</td>\n",
       "      <td>/m/08yl5d</td>\n",
       "      <td>Getting Away with Murder: The JonBenét Ramsey ...</td>\n",
       "      <td>2000-02-16</td>\n",
       "      <td>NaN</td>\n",
       "      <td>95.0</td>\n",
       "      <td>{\"/m/02h40lc\": \"English Language\"}</td>\n",
       "      <td>{\"/m/09c7w0\": \"United States of America\"}</td>\n",
       "      <td>{\"/m/02n4kr\": \"Mystery\", \"/m/03bxz7\": \"Biograp...</td>\n",
       "    </tr>\n",
       "    <tr>\n",
       "      <th>2</th>\n",
       "      <td>28463795</td>\n",
       "      <td>/m/0crgdbh</td>\n",
       "      <td>Brun bitter</td>\n",
       "      <td>1988</td>\n",
       "      <td>NaN</td>\n",
       "      <td>83.0</td>\n",
       "      <td>{\"/m/05f_3\": \"Norwegian Language\"}</td>\n",
       "      <td>{\"/m/05b4w\": \"Norway\"}</td>\n",
       "      <td>{\"/m/0lsxr\": \"Crime Fiction\", \"/m/07s9rl0\": \"D...</td>\n",
       "    </tr>\n",
       "  </tbody>\n",
       "</table>\n",
       "</div>"
      ],
      "text/plain": [
       "   wikipedia_movie_id freebase_movie_id  \\\n",
       "0              975900         /m/03vyhn   \n",
       "1             3196793         /m/08yl5d   \n",
       "2            28463795        /m/0crgdbh   \n",
       "\n",
       "                                          movie_name movie_release_date  \\\n",
       "0                                     Ghosts of Mars         2001-08-24   \n",
       "1  Getting Away with Murder: The JonBenét Ramsey ...         2000-02-16   \n",
       "2                                        Brun bitter               1988   \n",
       "\n",
       "   movie_box_office_revenue  movie_runtime  \\\n",
       "0                14010832.0           98.0   \n",
       "1                       NaN           95.0   \n",
       "2                       NaN           83.0   \n",
       "\n",
       "                      movie_languages  \\\n",
       "0  {\"/m/02h40lc\": \"English Language\"}   \n",
       "1  {\"/m/02h40lc\": \"English Language\"}   \n",
       "2  {\"/m/05f_3\": \"Norwegian Language\"}   \n",
       "\n",
       "                             movie_countries  \\\n",
       "0  {\"/m/09c7w0\": \"United States of America\"}   \n",
       "1  {\"/m/09c7w0\": \"United States of America\"}   \n",
       "2                     {\"/m/05b4w\": \"Norway\"}   \n",
       "\n",
       "                                        movie_genres  \n",
       "0  {\"/m/01jfsb\": \"Thriller\", \"/m/06n90\": \"Science...  \n",
       "1  {\"/m/02n4kr\": \"Mystery\", \"/m/03bxz7\": \"Biograp...  \n",
       "2  {\"/m/0lsxr\": \"Crime Fiction\", \"/m/07s9rl0\": \"D...  "
      ]
     },
     "execution_count": 4,
     "metadata": {},
     "output_type": "execute_result"
    }
   ],
   "source": [
    "# Load Data\n",
    "movies = pd.read_csv('../data/movie.metadata.tsv', sep='\\t', header=None)\n",
    "movies.columns = [\n",
    "    'wikipedia_movie_id',\n",
    "    'freebase_movie_id',\n",
    "    'movie_name',\n",
    "    'movie_release_date',\n",
    "    'movie_box_office_revenue',\n",
    "    'movie_runtime',\n",
    "    'movie_languages',\n",
    "    'movie_countries',\n",
    "    'movie_genres'\n",
    "]\n",
    "movies.head(3)"
   ]
  },
  {
   "cell_type": "code",
   "execution_count": 5,
   "id": "1fc4b4f6",
   "metadata": {},
   "outputs": [
    {
     "name": "stdout",
     "output_type": "stream",
     "text": [
      "<class 'pandas.core.frame.DataFrame'>\n",
      "RangeIndex: 81741 entries, 0 to 81740\n",
      "Data columns (total 9 columns):\n",
      " #   Column                    Non-Null Count  Dtype  \n",
      "---  ------                    --------------  -----  \n",
      " 0   wikipedia_movie_id        81741 non-null  int64  \n",
      " 1   freebase_movie_id         81741 non-null  object \n",
      " 2   movie_name                81741 non-null  object \n",
      " 3   movie_release_date        74839 non-null  object \n",
      " 4   movie_box_office_revenue  8401 non-null   float64\n",
      " 5   movie_runtime             61291 non-null  float64\n",
      " 6   movie_languages           81741 non-null  object \n",
      " 7   movie_countries           81741 non-null  object \n",
      " 8   movie_genres              81741 non-null  object \n",
      "dtypes: float64(2), int64(1), object(6)\n",
      "memory usage: 5.6+ MB\n"
     ]
    }
   ],
   "source": [
    "# Print summary information\n",
    "movies.info()"
   ]
  },
  {
   "cell_type": "code",
   "execution_count": 6,
   "id": "5d0f2ac8",
   "metadata": {},
   "outputs": [
    {
     "data": {
      "image/png": "[encoded data removed]",
      "text/plain": [
       "<Figure size 800x600 with 1 Axes>"
      ]
     },
     "metadata": {},
     "output_type": "display_data"
    }
   ],
   "source": [
    "# find the year of the movie\n",
    "movies['year'] = movies['movie_release_date'].str.extract('(\\d{4})', expand=False)\n",
    "movies['year'] = pd.to_numeric(movies['year'], downcast='integer')\n",
    "\n",
    "# plot the number of movies released each year\n",
    "movies_per_year = movies.groupby('year')['movie_name'].count()\n",
    "\n",
    "plt.figure(figsize=(8, 6))\n",
    "plt.title('Number of movies released each year')\n",
    "plt.ylabel('Number of movies')\n",
    "plt.xlabel('Year')\n",
    "plt.xlim(1878, 2023)\n",
    "plt.plot(movies_per_year)\n",
    "plt.show()"
   ]
  },
  {
   "cell_type": "markdown",
   "metadata": {},
   "source": [
    "We first look at the movie release year because movies in different time periods may have different narrative structure and character dynamics. We know that the very first \"movie\" was produced in 1878 [[1]](https://historycooperative.org/first-movie-ever-made/), so we choose the time range from 1878 to 2023. As we can see, our dataset consists movies from the very early age to the modern times, which provides a solid foundation for us to study and compare the character dynamics over time."
   ]
  },
  {
   "cell_type": "code",
   "execution_count": null,
   "metadata": {},
   "outputs": [],
   "source": [
    "# average box office revenue per year\n",
    "movies['movie_box_office_revenue'] = pd.to_numeric(movies['movie_box_office_revenue'], errors='coerce')\n",
    "mean_revenue_per_year = movies.groupby('year')['movie_box_office_revenue'].mean()\n",
    "max_revenue_per_year = movies.groupby('year')['movie_box_office_revenue'].max()\n",
    "revenue_per_year_25 = movies.groupby('year')['movie_box_office_revenue'].quantile(0.05)\n",
    "revenue_per_year_75 = movies.groupby('year')['movie_box_office_revenue'].quantile(0.95)\n",
    "\n",
    "# find the name of the two movies with the highest revenue\n",
    "top1_movie_idx = movies[movies['movie_box_office_revenue'] == max_revenue_per_year.max()].index[0]\n",
    "top2_movie_idx = movies[movies['movie_box_office_revenue'] == max_revenue_per_year.sort_values(ascending=False).iloc[1]].index[0]\n",
    "\n",
    "\n",
    "plt.figure(figsize=(10, 6))\n",
    "plt.title('Box Office Revenue Per Year', fontsize=12)\n",
    "plt.ylabel('Box Office Revenue (in USD)', fontsize=10)\n",
    "plt.xlabel('Year', fontsize=10)\n",
    "plt.xticks(fontsize=8)\n",
    "plt.yticks(fontsize=8)\n",
    "plt.xlim(1920, 2017)\n",
    "\n",
    "plt.plot(mean_revenue_per_year, color='royalblue', linestyle='-', linewidth=2, label='Average Revenue')\n",
    "plt.plot(max_revenue_per_year, color='orangered', linestyle='--', linewidth=2, label='Maximum Revenue')\n",
    "\n",
    "# Shaded area for 5th and 95th percentile\n",
    "plt.fill_between(mean_revenue_per_year.index, \n",
    "                revenue_per_year_25,\n",
    "                revenue_per_year_75, \n",
    "                color='lightblue', alpha=0.3,\n",
    "                label='Revenue (5th and 95th percentile)')\n",
    "\n",
    "# Annotate the two movies with the highest revenue\n",
    "plt.annotate(movies['movie_name'][top1_movie_idx]+' ('+str(int(movies['year'][top1_movie_idx]))+')',\n",
    "            xy=(movies['year'][top1_movie_idx], movies['movie_box_office_revenue'][top1_movie_idx]),\n",
    "            xytext=(movies['year'][top1_movie_idx]-5, movies['movie_box_office_revenue'][top1_movie_idx]+1e8),\n",
    "            fontsize=10)\n",
    "plt.annotate(movies['movie_name'][top2_movie_idx]+' ('+str(int(movies['year'][top2_movie_idx]))+')',\n",
    "            xy=(movies['year'][top2_movie_idx], movies['movie_box_office_revenue'][top2_movie_idx]),\n",
    "            xytext=(movies['year'][top2_movie_idx]-5, movies['movie_box_office_revenue'][top2_movie_idx]+1e8),\n",
    "            fontsize=10)\n",
    "\n",
    "# Format y-axis as currency\n",
    "plt.gca().yaxis.set_major_formatter(ticker.FuncFormatter(lambda x, p: format(int(x), ',')))\n",
    "plt.gca().xaxis.grid(False)  # Disable the vertical grid lines\n",
    "plt.gca().spines['top'].set_visible(False)\n",
    "plt.gca().spines['right'].set_visible(False)\n",
    "# plt.gca().spines['left'].set_visible(False)\n",
    "\n",
    "plt.legend(loc='upper left', fontsize=10)\n",
    "\n",
    "plt.show()\n"
   ]
  },
  {
   "cell_type": "markdown",
   "metadata": {},
   "source": [
    "We will mainly focus on the character dynamics of the plot itself. However, we are still curious about what makes a good story. From this figure, we can see that the average revenue is rather stable across the time (taking inflation into account). But the most successful movies earn significantly more than others. Avatar and Titanic are two most successful movies in history.\n",
    "\n",
    "We could possibly compare the character dynamics of the most successful movies and the least successful movies to see the difference."
   ]
  },
  {
   "cell_type": "code",
   "execution_count": null,
   "metadata": {},
   "outputs": [],
   "source": [
    "# average runtime per year\n",
    "movies['movie_runtime'] = pd.to_numeric(movies['movie_runtime'], errors='coerce')\n",
    "mean_runtime_per_year = movies.groupby('year')['movie_runtime'].mean()\n",
    "# drop the outlier\n",
    "max_mean_runtime_per_year = mean_runtime_per_year.sort_values(ascending=False).iloc[1]\n",
    "mean_runtime_per_year = mean_runtime_per_year[mean_runtime_per_year < max_mean_runtime_per_year]\n",
    "\n",
    "outlier_idx = movies[movies['movie_runtime'] == movies['movie_runtime'].max()].index[0]\n",
    "print('There is an outlier which doesn\\'t show in this plot: ',\n",
    "        movies['movie_name'][outlier_idx], '(',\n",
    "        str(int(movies['year'][outlier_idx])),\n",
    "        '), which has a runtime of ',\n",
    "        movies['movie_runtime'][outlier_idx], 'minutes !')\n",
    "\n",
    "plt.figure(figsize=(10, 6))\n",
    "plt.title('Average Runtime Per Year', fontsize=12)\n",
    "plt.ylabel('Runtime (in minutes)', fontsize=10)\n",
    "plt.xlabel('Year', fontsize=10)\n",
    "plt.xticks(fontsize=8)\n",
    "plt.yticks(fontsize=8)\n",
    "plt.xlim(1920, 2017)\n",
    "plt.ylim(40, 140)\n",
    "\n",
    "plt.plot(mean_runtime_per_year, color='royalblue', linestyle='-', linewidth=2, label='Average Runtime')\n",
    "\n",
    "plt.gca().xaxis.grid(False)  # Disable the vertical grid lines\n",
    "plt.gca().spines['top'].set_visible(False)\n",
    "plt.gca().spines['right'].set_visible(False)\n",
    "\n",
    "plt.show()"
   ]
  },
  {
   "cell_type": "markdown",
   "metadata": {},
   "source": [
    "The movies in early times are usually shorter than nowadays, probably because of the techinical limitations. On the one hand, this could bring differences in movie storytelling. On the other hand, this reminds us that we should be more careful about the network attributes (degrees, density, etc.) when we do further analysis."
   ]
  },
  {
   "cell_type": "code",
   "execution_count": null,
   "metadata": {},
   "outputs": [],
   "source": [
    "# movie language distribution\n",
    "query = re.compile(r'\"(\\w+) Language\"')\n",
    "movies['movie_languages_cleaned'] = movies['movie_languages'].fillna('[]')\n",
    "movies['movie_languages_cleaned'] = movies['movie_languages'].apply(lambda x: query.findall(x))\n",
    "\n",
    "movies['movie_languages_num'] = movies['movie_languages_cleaned'].apply(lambda x: len(x) if x != [] else 1)\n",
    "movie_languages_per_year = {}\n",
    "\n",
    "for year in range(1920, 2018):\n",
    "    languages = movies[movies['year'] == year]['movie_languages_cleaned'].sum()\n",
    "    languages_count = pd.Series(languages).value_counts()\n",
    "    movie_languages_per_year[year] = languages_count\n",
    "\n",
    "movie_languages_per_year = pd.DataFrame(movie_languages_per_year).fillna(0).astype(int).transpose()\n",
    "\n",
    "# plot the top 10 languages\n",
    "top10_languages = movie_languages_per_year.sum().sort_values(ascending=False).index[:10]\n",
    "movie_languages_per_year = movie_languages_per_year[top10_languages]\n",
    "\n",
    "plt.figure(figsize=(10, 6))\n",
    "plt.title('Top 10 Movie Languages', fontsize=12)\n",
    "plt.ylabel('Number of movies', fontsize=10)\n",
    "plt.xlabel('Year', fontsize=10)\n",
    "plt.xticks(fontsize=8)\n",
    "plt.yticks(fontsize=8)\n",
    "plt.xlim(1920, 2017)\n",
    "\n",
    "plt.stackplot(movie_languages_per_year.index,\n",
    "                movie_languages_per_year.values.T,\n",
    "                labels=movie_languages_per_year.columns)\n",
    "\n",
    "plt.gca().xaxis.grid(False)  # Disable the vertical grid lines\n",
    "plt.gca().spines['top'].set_visible(False)\n",
    "plt.gca().spines['right'].set_visible(False)\n",
    "\n",
    "plt.legend(loc='upper left', fontsize=10)\n",
    "\n",
    "plt.show()"
   ]
  },
  {
   "cell_type": "markdown",
   "metadata": {},
   "source": [
    "Most of the movies are in English. And from the interactive figure below, we can see that a large proportion of movies are produced in America. This adds difficulty for us if we want to analyze the culture differences in character dynamics framing. We need to consider this seriously and make sure the data is reasonably enough for further analysis."
   ]
  },
  {
   "cell_type": "code",
   "execution_count": null,
   "metadata": {},
   "outputs": [],
   "source": [
    "# country distribution\n",
    "query = re.compile(r': \"(.+)\"')\n",
    "movies['movie_countries_cleaned'] = movies['movie_countries'].fillna('[]')\n",
    "movies['movie_countries_cleaned'] = movies['movie_countries'].apply(lambda x: query.findall(x)[0] if query.findall(x) != [] else '')\n",
    "\n",
    "# plot the country distribution per year\n",
    "country_distribution = movies.groupby(['year', 'movie_countries_cleaned']).size().reset_index(name='count')\n",
    "country_distribution = country_distribution[country_distribution['year'] >= 1920]\n",
    "country_distribution['year'] = country_distribution['year'].astype(int)\n",
    "\n",
    "fig = px.choropleth(\n",
    "    country_distribution, \n",
    "    locations=\"movie_countries_cleaned\", \n",
    "    locationmode='country names',\n",
    "    color=\"count\", \n",
    "    hover_name=\"movie_countries_cleaned\",\n",
    "    animation_frame=\"year\",\n",
    "    range_color=[0, country_distribution['count'].max()],\n",
    "    title=\"Movie Production by Country Over Time\"\n",
    ")\n",
    "\n",
    "fig.update_layout(\n",
    "    geo=dict(\n",
    "        showframe=False,\n",
    "        showcoastlines=False,\n",
    "    ),\n",
    "    width=1000,  # Adjust the width\n",
    "    height=600   # Adjust the height\n",
    ")\n",
    "\n",
    "fig.show()"
   ]
  },
  {
   "cell_type": "markdown",
   "metadata": {},
   "source": [
    "This interactive image cannot be viewed directly from github.\n",
    "\n",
    "To see it, first make sure that plotly is installed (pip install plotly) in your local environment, then run the file.\n",
    "\n",
    "![Map](../generated/images/country_distribution_per_year.png)"
   ]
  },
  {
   "cell_type": "code",
   "execution_count": null,
   "metadata": {},
   "outputs": [],
   "source": [
    "# genre distribution\n",
    "query = re.compile(r': \"(.+?)\"')\n",
    "movies['movie_genres_cleaned'] = movies['movie_genres'].fillna('[]')\n",
    "movies['movie_genres_cleaned'] = movies['movie_genres'].apply(lambda x: query.findall(x))\n",
    "\n",
    "movie_genres_per_year = {}\n",
    "for year in range(1920, 2018):\n",
    "    genres = movies[movies['year'] == year]['movie_genres_cleaned'].sum()\n",
    "    genres_count = pd.Series(genres).value_counts()\n",
    "    movie_genres_per_year[year] = genres_count\n",
    "\n",
    "movie_genres_per_year = pd.DataFrame(movie_genres_per_year).fillna(0).astype(int).transpose()\n",
    "\n",
    "# plot the top 10 genres\n",
    "top10_genres = movie_genres_per_year.sum().sort_values(ascending=False).index[:10]\n",
    "movie_genres_per_year = movie_genres_per_year[top10_genres]\n",
    "\n",
    "# change to proportion\n",
    "movie_genres_per_year = movie_genres_per_year.div(movie_genres_per_year.sum(axis=1), axis=0)\n",
    "\n",
    "plt.figure(figsize=(10, 6))\n",
    "plt.title('Top 10 Movie Genres', fontsize=12)\n",
    "plt.ylabel('Number of movies', fontsize=10)\n",
    "plt.xlabel('Year', fontsize=10)\n",
    "plt.xticks(fontsize=8)\n",
    "plt.yticks(fontsize=8)\n",
    "plt.xlim(1920, 2017)\n",
    "\n",
    "plt.stackplot(movie_genres_per_year.index,\n",
    "                movie_genres_per_year.values.T,\n",
    "                labels=movie_genres_per_year.columns)\n",
    "\n",
    "plt.gca().xaxis.grid(False)  # Disable the vertical grid lines\n",
    "plt.gca().spines['top'].set_visible(False)\n",
    "plt.gca().spines['right'].set_visible(False)\n",
    "\n",
    "plt.legend(loc='upper left', fontsize=10)\n",
    "\n",
    "plt.show()\n",
    "\n"
   ]
  },
  {
   "cell_type": "markdown",
   "metadata": {},
   "source": [
    "# Section II: Character Metadata"
   ]
  },
  {
   "cell_type": "markdown",
   "metadata": {},
   "source": [
    "Character Metadata encompasses character names and associated details regarding the actors portraying them, such as gender and estimated age during the movie's release."
   ]
  },
  {
   "cell_type": "code",
   "execution_count": null,
   "metadata": {},
   "outputs": [],
   "source": [
    "characters = pd.read_csv('../data/character.metadata.tsv', sep='\\t', header=None)\n",
    "characters.columns = [\n",
    "    'wikipedia_movie_id',\n",
    "    'freebase_movie_id',\n",
    "    'movie_release_date',\n",
    "    'character_name',\n",
    "    'actor_dob',\n",
    "    'actor_gender',\n",
    "    'actor_height',\n",
    "    'actor_ethnicity',\n",
    "    'actor_name',\n",
    "    'actor_age',\n",
    "    'freebase_character_map_1',\n",
    "    'freebase_character_map_2',\n",
    "    'freebase_character_map_3'\n",
    "]\n",
    "characters.head()"
   ]
  },
  {
   "cell_type": "code",
   "execution_count": null,
   "metadata": {
    "scrolled": true
   },
   "outputs": [],
   "source": [
    "characters.info()"
   ]
  },
  {
   "cell_type": "markdown",
   "metadata": {},
   "source": [
    "First, we'll have a look at the missing data here."
   ]
  },
  {
   "cell_type": "code",
   "execution_count": null,
   "metadata": {},
   "outputs": [],
   "source": [
    "# Calculate missing data ratio for each column\n",
    "missing_ratio = characters.isnull().mean()\n",
    "\n",
    "# Display the missing data ratio for each column\n",
    "print(\"Missing Data Ratio for Each Column:\")\n",
    "print(missing_ratio)\n"
   ]
  },
  {
   "cell_type": "markdown",
   "metadata": {},
   "source": [
    "As we can see from above, several columns have missing data. Notable columns with high missing data ratios include actor_ethnicity (76.47%), character_name (57.22%), actor_height (65.65%), and actor_age (35.08%).Meanwhile, the missing data ratios for some columns are relatively low, such as wikipedia_movie_id, freebase_movie_id, and freebase_character_map_1, which have no missing data."
   ]
  },
  {
   "cell_type": "markdown",
   "metadata": {},
   "source": [
    "Then, we shall examine the distribution of estimated character ages (inferred from actors' age in the year when the movie was released with few exceptions) across gender."
   ]
  },
  {
   "cell_type": "code",
   "execution_count": null,
   "metadata": {
    "scrolled": false
   },
   "outputs": [],
   "source": [
    "# Drop rows with missing values in 'actor_age' and 'actor_gender' for better visualization\n",
    "data_for_plot = characters.dropna(subset=['actor_age', 'actor_gender'])\n",
    "\n",
    "# Create age intervals\n",
    "age_intervals = pd.cut(data_for_plot['actor_age'], bins=range(0, 100, 5), right=False)\n",
    "\n",
    "# Set up the figure and axes\n",
    "plt.figure(figsize=(12, 6))\n",
    "\n",
    "# Create a countplot for each gender with age intervals of 3\n",
    "sns.countplot(x=age_intervals, hue='actor_gender', data=data_for_plot, palette='muted', hue_order=['M', 'F'])\n",
    "\n",
    "# Set labels and title\n",
    "plt.title('Distribution of Actors by Age Intervals and Gender')\n",
    "plt.xlabel('Actor Age Intervals')\n",
    "plt.ylabel('Number of Actors')\n",
    "\n",
    "# Display the legend\n",
    "plt.legend(title='Gender', labels=['Male', 'Female'])\n",
    "\n",
    "# Show the plot\n",
    "plt.show()\n"
   ]
  },
  {
   "cell_type": "markdown",
   "metadata": {},
   "source": [
    "As shown from the graph, for characters (actors) whose age is less than 30, there's no significantly more males than females (relatively more females than males in age interval from 15 to 25); but after 30 it's obvious that there are much more males than females.And overall, it still holds true that there are more male characters/actors than female ones. For our further analysis about gender dynamics, this column would remain very useful to us."
   ]
  },
  {
   "cell_type": "markdown",
   "metadata": {},
   "source": [
    "Then we'll look at the height of characters/actors."
   ]
  },
  {
   "cell_type": "code",
   "execution_count": null,
   "metadata": {},
   "outputs": [],
   "source": [
    "# Drop rows with missing values in 'actor_height' and 'actor_gender'\n",
    "data_for_height_plot = characters.dropna(subset=['actor_height', 'actor_gender']).copy() \n",
    "\n",
    "# Convert height to centimeters and create height intervals in centimeters\n",
    "data_for_height_plot.loc[:, 'actor_height_cm'] = data_for_height_plot['actor_height'] * 100\n",
    "\n",
    "# Create height intervals in centimeters\n",
    "data_for_height_plot.loc[:, 'height_intervals'] = pd.cut(data_for_height_plot['actor_height_cm'], bins=range(150, 210, 3), right=False)\n",
    "\n",
    "# Set up the figure and axes\n",
    "plt.figure(figsize=(12, 6))\n",
    "\n",
    "# Create a countplot for height intervals with gender as hues\n",
    "sns.countplot(x='height_intervals', hue='actor_gender', data=data_for_height_plot, palette='muted', hue_order=['M', 'F'], dodge=True)\n",
    "\n",
    "# Set labels and title\n",
    "plt.title('Distribution of Actor Height by Gender (Intervals of 3 cm)')\n",
    "plt.xlabel('Actor Height Intervals (in centimeters)')\n",
    "plt.ylabel('Number of Actors')\n",
    "plt.xticks(rotation=45)\n",
    "\n",
    "# Display the legend with specified labels\n",
    "plt.legend(title='Gender', labels=['Male', 'Female'])\n",
    "\n",
    "# Show the plot\n",
    "plt.show()\n"
   ]
  },
  {
   "cell_type": "markdown",
   "metadata": {},
   "source": [
    "As we can see, generally speaking, the height of both male and female actors respectively follows the normal distribution with different mean values, which is consistent with common biological difference."
   ]
  },
  {
   "cell_type": "markdown",
   "metadata": {},
   "source": [
    "Ethnicity is also an important factor about the actors and characters, though it's not always the same for both. Despite the three-quarters missing data in this column, we try to calculate and list the top 9 ethnicities here."
   ]
  },
  {
   "cell_type": "code",
   "execution_count": null,
   "metadata": {},
   "outputs": [],
   "source": [
    "# Drop rows with missing values in 'actor_ethnicity' and 'actor_gender'\n",
    "data_for_ethnicity_plot = characters.dropna(subset=['actor_ethnicity', 'actor_gender'])\n",
    "\n",
    "# Calculate the percentage distribution of each ethnicity\n",
    "ethnicity_percentage = data_for_ethnicity_plot['actor_ethnicity'].value_counts(normalize=True) * 100\n",
    "\n",
    "# Select the top 9 ethnicities\n",
    "top_9_ethnicities = ethnicity_percentage.head(9)\n",
    "top_9_ethnicities_series = pd.Series(top_9_ethnicities.values, index=top_9_ethnicities.index, name='Ethnicity Distribution')\n",
    "\n",
    "# Apply convert_freebase_id_to_entity function to the index of top_10_ethnicities_series\n",
    "converted_ethnicities = top_9_ethnicities_series.index.map(convert_freebase_id_to_entity)\n",
    "\n",
    "# Create a new DataFrame with the converted ethnicities and their distribution percentages\n",
    "top_9_actor_ethnicity = pd.DataFrame({'actor_ethnicity': converted_ethnicities, 'percentage_distribution': top_9_ethnicities_series})\n",
    "\n",
    "# Display the new DataFrame\n",
    "print(top_9_actor_ethnicity)"
   ]
  },
  {
   "cell_type": "code",
   "execution_count": null,
   "metadata": {},
   "outputs": [],
   "source": [
    "# Set up the figure and axes\n",
    "plt.figure(figsize=(8, 8))\n",
    "\n",
    "# Create a pie chart for the top 10 ethnicities\n",
    "plt.pie(top_9_actor_ethnicity['percentage_distribution'], labels=top_9_actor_ethnicity['actor_ethnicity'],\n",
    "        autopct='%1.1f%%', startangle=90, colors=sns.color_palette('muted'), wedgeprops=dict(width=0.3))\n",
    "\n",
    "# Set labels and title\n",
    "plt.title('Top 9 Ethnicities Among Actors and Their Percentage Distribution')\n",
    "\n",
    "# Show the plot\n",
    "plt.show()\n"
   ]
  },
  {
   "cell_type": "markdown",
   "metadata": {},
   "source": [
    "The top three ethnicities are Indian People, African Americans, and Jews, each contributing significantly to the overall distribution."
   ]
  }
 ],
 "metadata": {
  "kernelspec": {
   "display_name": "ada",
   "language": "python",
   "name": "python3"
  },
  "language_info": {
   "codemirror_mode": {
    "name": "ipython",
    "version": 3
   },
   "file_extension": ".py",
   "mimetype": "text/x-python",
   "name": "python",
   "nbconvert_exporter": "python",
   "pygments_lexer": "ipython3",
   "version": "3.9.18"
  }
 },
 "nbformat": 4,
 "nbformat_minor": 5
}
