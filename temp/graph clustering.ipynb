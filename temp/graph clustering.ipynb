{
 "cells": [
  {
   "cell_type": "code",
   "execution_count": 3,
   "id": "82bbab57",
   "metadata": {},
   "outputs": [],
   "source": [
    "import pandas as pd\n",
    "import networkx as nx\n"
   ]
  },
  {
   "cell_type": "code",
   "execution_count": 228,
   "id": "eb49d784",
   "metadata": {},
   "outputs": [],
   "source": [
    "final_df= pd.read_csv(\"../Data/final_merged_df.csv\", delimiter=',')\n"
   ]
  },
  {
   "cell_type": "code",
   "execution_count": 229,
   "id": "b02c0cf0",
   "metadata": {},
   "outputs": [],
   "source": [
    "film1 = df[df['Wikipedia movie ID'] == 31186339]\n",
    "film2 = df[df['Wikipedia movie ID'] == 20663735]\n"
   ]
  },
  {
   "cell_type": "code",
   "execution_count": 233,
   "id": "6f02adcf",
   "metadata": {},
   "outputs": [],
   "source": [
    "import networkx as nx\n",
    "\n",
    "def create_networkx_graph(df):\n",
    "    \"\"\"\n",
    "    Create a NetworkX directed graph from a DataFrame containing three columns:\n",
    "    Char A, Char B, and Combined_action.\n",
    "\n",
    "    Each node in the graph is a number with a 'name' attribute storing the character's name.\n",
    "\n",
    "    Args:\n",
    "    df (pd.DataFrame): Input DataFrame with columns Char A, Char B, and Combined_action.\n",
    "\n",
    "    Returns:\n",
    "    nx.DiGraph: NetworkX directed graph representing the relationships.\n",
    "    \"\"\"\n",
    "    G = nx.DiGraph()\n",
    "    name_to_number = {}  # Mapping from character names to numbers\n",
    "    current_number = 0   # Current number to assign to a new node\n",
    "\n",
    "    for _, row in df.iterrows():\n",
    "        char_a = row['char A']\n",
    "        char_b = row['char B']\n",
    "        action = row['combined_action']\n",
    "\n",
    "        # Assign numbers to char_a and char_b if not already assigned\n",
    "        if char_a not in name_to_number:\n",
    "            name_to_number[char_a] = current_number\n",
    "            current_number += 1\n",
    "        if char_b not in name_to_number:\n",
    "            name_to_number[char_b] = current_number\n",
    "            current_number += 1\n",
    "\n",
    "        # Get the numbers corresponding to char_a and char_b\n",
    "        num_a = name_to_number[char_a]\n",
    "        num_b = name_to_number[char_b]\n",
    "\n",
    "        # Add nodes with 'name' attribute\n",
    "        G.add_node(num_a, name=char_a)\n",
    "        G.add_node(num_b, name=char_b)\n",
    "\n",
    "        # Add edge\n",
    "        G.add_edge(num_a, num_b, label=action)\n",
    "\n",
    "\n",
    "    return G\n"
   ]
  },
  {
   "cell_type": "code",
   "execution_count": 239,
   "id": "9e8a5536",
   "metadata": {},
   "outputs": [
    {
     "data": {
      "text/plain": [
       "<pandas.core.groupby.generic.DataFrameGroupBy object at 0x129f56580>"
      ]
     },
     "execution_count": 239,
     "metadata": {},
     "output_type": "execute_result"
    }
   ],
   "source": [
    "final_df.groupby(['Wikipedia movie ID'])"
   ]
  },
  {
   "cell_type": "code",
   "execution_count": 235,
   "id": "ce1a2705",
   "metadata": {},
   "outputs": [],
   "source": [
    "for film in \n",
    "G1 = create_networkx_graph(film1)\n",
    "G2 = create_networkx_graph(film2)"
   ]
  },
  {
   "cell_type": "code",
   "execution_count": 237,
   "id": "2188ee23",
   "metadata": {},
   "outputs": [],
   "source": [
    "list_graphs.append(G2)"
   ]
  },
  {
   "cell_type": "code",
   "execution_count": 140,
   "id": "80d72f4b",
   "metadata": {},
   "outputs": [
    {
     "name": "stdout",
     "output_type": "stream",
     "text": [
      "Edge from 0 to 1 has label: tell\n",
      "Edge from 0 to 3 has label: hurl\n",
      "Edge from 1 to 0 has label: discover\n",
      "Edge from 1 to 2 has label: comfort the dying\n",
      "Edge from 1 to 3 has label: shoot\n",
      "Edge from 2 to 1 has label: call\n",
      "Edge from 4 to 1 has label: warn\n"
     ]
    }
   ],
   "source": [
    "# Assuming G is your graph created by create_networkx_graph\n",
    "\n",
    "# List all edges with their labels\n",
    "for u, v, data in G1.edges(data=True):\n",
    "    print(f\"Edge from {u} to {v} has label: {data.get('label')}\")\n",
    "\n",
    "# Access label of a specific edge\n",
    "# Replace 'node_a' and 'node_b' with the specific nodes you're interested in\n",
    "if G1.has_edge('node_a', 'node_b'):\n",
    "    label = G['node_a']['node_b'].get('label')\n",
    "    print(f\"The label of the edge from 'node_a' to 'node_b' is: {label}\")\n"
   ]
  },
  {
   "cell_type": "markdown",
   "id": "10f75a02",
   "metadata": {},
   "source": [
    "# Graph comparison structure"
   ]
  },
  {
   "cell_type": "markdown",
   "id": "972d338f",
   "metadata": {},
   "source": [
    "We could use different metrics:\n",
    "- Persona distribution distance (Cosine similarity)\n",
    "- Edge clusters distribution distance (Cosine similarity)\n",
    "- Portrait distance (see it from [This link](https://www.nature.com/articles/s41598-019-53708-y))\n",
    "    - Why portrait distance? There is an already implemented library and from the paper above seems to be an optimal method for directed graphs"
   ]
  },
  {
   "cell_type": "code",
   "execution_count": 30,
   "id": "8665508c",
   "metadata": {},
   "outputs": [],
   "source": [
    "import netrd"
   ]
  },
  {
   "cell_type": "code",
   "execution_count": 34,
   "id": "fe7d0926",
   "metadata": {},
   "outputs": [
    {
     "name": "stdout",
     "output_type": "stream",
     "text": [
      "0.10162368452869114\n"
     ]
    }
   ],
   "source": [
    "dist = netrd.distance.PortraitDivergence()\n",
    "D = dist.dist(G1, G2)\n",
    "print(D)"
   ]
  },
  {
   "cell_type": "markdown",
   "id": "329e0d7d",
   "metadata": {},
   "source": [
    "# Graph comparison personas"
   ]
  },
  {
   "cell_type": "markdown",
   "id": "7e336b98",
   "metadata": {},
   "source": [
    "# Graph comparison edges"
   ]
  },
  {
   "cell_type": "markdown",
   "id": "63db6e5e",
   "metadata": {},
   "source": [
    "# Graph visualization"
   ]
  },
  {
   "cell_type": "code",
   "execution_count": 17,
   "id": "0b664303",
   "metadata": {},
   "outputs": [],
   "source": [
    "import json\n",
    "import networkx as nx\n",
    "\n",
    "data = {\n",
    "    \"nodes\": [{\"id\": n} for n in G1.nodes()],\n",
    "    \"links\": [{\"source\": u, \"target\": v, \"label\": d['label']} for u, v, d in G1.edges(data=True)]\n",
    "}\n",
    "\n",
    "# Export to JSON\n",
    "with open('graph.json', 'w') as f:\n",
    "    json.dump(data, f)\n",
    "\n",
    "# Save the JSON to files\n",
    "with open('graph1.json', 'w') as f:\n",
    "    json.dump(d3_json_g1, f)\n",
    "with open('graph2.json', 'w') as f:\n",
    "    json.dump(d3_json_g2, f)\n"
   ]
  },
  {
   "cell_type": "code",
   "execution_count": 139,
   "id": "646338c3",
   "metadata": {},
   "outputs": [
    {
     "ename": "KeyError",
     "evalue": "'node_a'",
     "output_type": "error",
     "traceback": [
      "\u001b[0;31m---------------------------------------------------------------------------\u001b[0m",
      "\u001b[0;31mKeyError\u001b[0m                                  Traceback (most recent call last)",
      "Cell \u001b[0;32mIn[139], line 1\u001b[0m\n\u001b[0;32m----> 1\u001b[0m \u001b[43mG\u001b[49m\u001b[43m[\u001b[49m\u001b[38;5;124;43m'\u001b[39;49m\u001b[38;5;124;43mnode_a\u001b[39;49m\u001b[38;5;124;43m'\u001b[39;49m\u001b[43m]\u001b[49m[\u001b[38;5;124m'\u001b[39m\u001b[38;5;124mnode_b\u001b[39m\u001b[38;5;124m'\u001b[39m]\u001b[38;5;241m.\u001b[39mget(\u001b[38;5;124m'\u001b[39m\u001b[38;5;124mlabel\u001b[39m\u001b[38;5;124m'\u001b[39m)\n",
      "File \u001b[0;32m~/anaconda3/envs/ada/lib/python3.9/site-packages/networkx/classes/graph.py:513\u001b[0m, in \u001b[0;36mGraph.__getitem__\u001b[0;34m(self, n)\u001b[0m\n\u001b[1;32m    489\u001b[0m \u001b[38;5;28;01mdef\u001b[39;00m \u001b[38;5;21m__getitem__\u001b[39m(\u001b[38;5;28mself\u001b[39m, n):\n\u001b[1;32m    490\u001b[0m \u001b[38;5;250m    \u001b[39m\u001b[38;5;124;03m\"\"\"Returns a dict of neighbors of node n.  Use: 'G[n]'.\u001b[39;00m\n\u001b[1;32m    491\u001b[0m \n\u001b[1;32m    492\u001b[0m \u001b[38;5;124;03m    Parameters\u001b[39;00m\n\u001b[0;32m   (...)\u001b[0m\n\u001b[1;32m    511\u001b[0m \u001b[38;5;124;03m    AtlasView({1: {}})\u001b[39;00m\n\u001b[1;32m    512\u001b[0m \u001b[38;5;124;03m    \"\"\"\u001b[39;00m\n\u001b[0;32m--> 513\u001b[0m     \u001b[38;5;28;01mreturn\u001b[39;00m \u001b[38;5;28;43mself\u001b[39;49m\u001b[38;5;241;43m.\u001b[39;49m\u001b[43madj\u001b[49m\u001b[43m[\u001b[49m\u001b[43mn\u001b[49m\u001b[43m]\u001b[49m\n",
      "File \u001b[0;32m~/anaconda3/envs/ada/lib/python3.9/site-packages/networkx/classes/coreviews.py:81\u001b[0m, in \u001b[0;36mAdjacencyView.__getitem__\u001b[0;34m(self, name)\u001b[0m\n\u001b[1;32m     80\u001b[0m \u001b[38;5;28;01mdef\u001b[39;00m \u001b[38;5;21m__getitem__\u001b[39m(\u001b[38;5;28mself\u001b[39m, name):\n\u001b[0;32m---> 81\u001b[0m     \u001b[38;5;28;01mreturn\u001b[39;00m AtlasView(\u001b[38;5;28;43mself\u001b[39;49m\u001b[38;5;241;43m.\u001b[39;49m\u001b[43m_atlas\u001b[49m\u001b[43m[\u001b[49m\u001b[43mname\u001b[49m\u001b[43m]\u001b[49m)\n",
      "\u001b[0;31mKeyError\u001b[0m: 'node_a'"
     ]
    }
   ],
   "source": [
    "G['node_a']['node_b'].get('label')"
   ]
  },
  {
   "cell_type": "code",
   "execution_count": 27,
   "id": "347da6fa",
   "metadata": {},
   "outputs": [
    {
     "name": "stdout",
     "output_type": "stream",
     "text": [
      "Mr. Hi\n"
     ]
    }
   ],
   "source": [
    "print(G.nodes[1][\"club\"])"
   ]
  },
  {
   "cell_type": "code",
   "execution_count": 71,
   "id": "5f5777d7",
   "metadata": {},
   "outputs": [
    {
     "data": {
      "text/plain": [
       "'Rue'"
      ]
     },
     "execution_count": 71,
     "metadata": {},
     "output_type": "execute_result"
    }
   ],
   "source": [
    "G1.nodes[4][\"name\"]"
   ]
  },
  {
   "cell_type": "markdown",
   "id": "bc7a588e",
   "metadata": {},
   "source": [
    "### Test"
   ]
  },
  {
   "cell_type": "code",
   "execution_count": 39,
   "id": "0f62c969",
   "metadata": {},
   "outputs": [],
   "source": [
    "import json\n",
    "import numpy as np\n",
    "import networkx as nx\n",
    "import matplotlib.pyplot as plt\n",
    "%matplotlib inline"
   ]
  },
  {
   "cell_type": "code",
   "execution_count": 40,
   "id": "5233b14f",
   "metadata": {},
   "outputs": [
    {
     "data": {
      "image/png": "[encoded data removed]",
      "text/plain": [
       "<Figure size 800x600 with 1 Axes>"
      ]
     },
     "metadata": {},
     "output_type": "display_data"
    }
   ],
   "source": [
    "g = nx.karate_club_graph()\n",
    "fig, ax = plt.subplots(1, 1, figsize=(8, 6));\n",
    "nx.draw_networkx(g, ax=ax)"
   ]
  },
  {
   "cell_type": "code",
   "execution_count": 141,
   "id": "0a215e05",
   "metadata": {},
   "outputs": [],
   "source": [
    "# Create the nodes list (assuming you're still only including integer nodes)\n",
    "nodes = [{'name': G1.nodes[i][\"name\"] if \"name\" in G1.nodes[i] else i} for i in G1.nodes() if isinstance(i, int)]\n",
    "\n",
    "# Create a mapping from node names to indices (if your nodes have string labels)\n",
    "name_to_index = {name: index for index, name in enumerate(G1.nodes()) if isinstance(name, str)}\n",
    "\n",
    "# Create the links list, including edge labels\n",
    "links = [{'source': name_to_index.get(u[0], u[0]),\n",
    "          'target': name_to_index.get(u[1], u[1]),\n",
    "          'label': G1.edges[u]['label']} for u in G1.edges()]\n",
    "\n",
    "# Write to a JSON file\n",
    "with open('graph.json', 'w') as f:\n",
    "    json.dump({'nodes': nodes, 'links': links}, f, indent=4)\n"
   ]
  },
  {
   "cell_type": "code",
   "execution_count": 142,
   "id": "5e19d479",
   "metadata": {},
   "outputs": [
    {
     "name": "stdout",
     "output_type": "stream",
     "text": [
      "[{'source': 0, 'target': 1, 'label': 'tell'}, {'source': 0, 'target': 3, 'label': 'hurl'}, {'source': 1, 'target': 0, 'label': 'discover'}, {'source': 1, 'target': 2, 'label': 'comfort the dying'}, {'source': 1, 'target': 3, 'label': 'shoot'}, {'source': 2, 'target': 1, 'label': 'call'}, {'source': 4, 'target': 1, 'label': 'warn'}]\n"
     ]
    }
   ],
   "source": [
    "print(links)"
   ]
  },
  {
   "cell_type": "code",
   "execution_count": 227,
   "id": "602cd15f",
   "metadata": {},
   "outputs": [
    {
     "data": {
      "application/javascript": [
       "// We load the d3.js library from the Web.\n",
       "require.config({paths:\n",
       "    {d3: \"http://d3js.org/d3.v3.min\"}});\n",
       "require([\"d3\"], function(d3) {\n",
       "  // The code in this block is executed when the\n",
       "  // d3.js library has been loaded.\n",
       "\n",
       "  // First, we specify the size of the canvas\n",
       "  // containing the visualization (size of the\n",
       "  // <div> element).\n",
       "  var width = 500, height = 300;\n",
       "\n",
       "  // We create a color scale.\n",
       "  var color = d3.scale.category10();\n",
       "\n",
       "  // We create a force-directed dynamic graph layout.\n",
       "  var force = d3.layout.force()\n",
       "    .charge(-120)\n",
       "    .linkDistance(120)\n",
       "    .size([width, height]);\n",
       "\n",
       "  // In the <div> element, we create a <svg> graphic\n",
       "  // that will contain our interactive visualization.\n",
       "  var svg = d3.select(\"#d3-example\").select(\"svg\")\n",
       "  if (svg.empty()) {\n",
       "    svg = d3.select(\"#d3-example\").append(\"svg\")\n",
       "          .attr(\"width\", width)\n",
       "          .attr(\"height\", height);\n",
       "  }\n",
       "\n",
       "  // We load the JSON file.\n",
       "  d3.json(\"graph.json\", function(error, graph) {\n",
       "    // In this block, the file has been loaded\n",
       "    // and the 'graph' object contains our graph.\n",
       "\n",
       "    // We load the nodes and links in the\n",
       "    // force-directed graph.\n",
       "    force.nodes(graph.nodes)\n",
       "      .links(graph.links)\n",
       "      .start();\n",
       "      \n",
       "    var linkCount = {};\n",
       "\n",
       "    graph.links.forEach(function(d) {\n",
       "        if (linkCount[d.source + \",\" + d.target]) {\n",
       "            linkCount[d.source + \",\" + d.target]++;\n",
       "        } else if (linkCount[d.target + \",\" + d.source]) {\n",
       "            linkCount[d.target + \",\" + d.source]++;\n",
       "        } else {\n",
       "            linkCount[d.source + \",\" + d.target] = 1;\n",
       "        }\n",
       "        d.linknum = linkCount[d.source + \",\" + d.target];\n",
       "    });\n",
       "\n",
       "    // Function to generate a path for each link\n",
       "    function linkPath(d) {\n",
       "        var curvature = 0.5;\n",
       "        var dx = d.target.x - d.source.x,\n",
       "            dy = d.target.y - d.source.y,\n",
       "            dr = Math.sqrt(dx * dx + dy * dy) * (d.linknum - 1) * curvature;\n",
       "        return \"M\" + d.source.x + \",\" + d.source.y + \n",
       "               \"A\" + dr + \",\" + dr + \" 0 0,1 \" + d.target.x + \",\" + d.target.y;\n",
       "    }\n",
       "\n",
       "    // Create a group for each link\n",
       "    var linkGroup = svg.selectAll(\".link-group\")\n",
       "        .data(graph.links)\n",
       "        .enter().append(\"g\")\n",
       "        .attr(\"class\", \"link-group\");\n",
       "\n",
       "    // Create the line element within each group\n",
       "    var link = linkGroup.append(\"line\")\n",
       "        .attr(\"class\", \"link\")\n",
       "        .attr(\"d\", linkPath);\n",
       "\n",
       "    // Create the text label within each group\n",
       "    var linkText = linkGroup.append(\"text\")\n",
       "        .attr(\"class\", \"link-text\")\n",
       "        .text(function(d) { return d.label; });\n",
       "      \n",
       "    // We create a <circle> SVG element for each node\n",
       "    // in the graph, and we specify a few attributes.\n",
       "    var node = svg.selectAll(\".node\")\n",
       "      .data(graph.nodes)\n",
       "      .enter().append(\"circle\")\n",
       "      .attr(\"class\", \"node\")\n",
       "      .attr(\"r\", 5)  // radius\n",
       "      .style(\"fill\", function(d) {\n",
       "         // The node color depends on the club.\n",
       "         return color(d.club);\n",
       "      })\n",
       "      .call(force.drag);\n",
       "\n",
       "    // The name of each node is the node number.\n",
       "    node.append(\"title\")\n",
       "        .text(function(d) { return d.name; });\n",
       "\n",
       "    // We bind the positions of the SVG elements\n",
       "    // to the positions of the dynamic force-directed\n",
       "    // graph, at each time step.\n",
       "    force.on(\"tick\", function() {\n",
       "        link.attr(\"d\", linkPath);\n",
       "        // Position the lines\n",
       "        link.attr(\"x1\", function(d) { return d.source.x; })\n",
       "            .attr(\"y1\", function(d) { return d.source.y; })\n",
       "            .attr(\"x2\", function(d) { return d.target.x; })\n",
       "            .attr(\"y2\", function(d) { return d.target.y; });\n",
       "\n",
       "        // Position the nodes\n",
       "        node.attr(\"cx\", function(d) { return d.x; })\n",
       "            .attr(\"cy\", function(d) { return d.y; });\n",
       "\n",
       "        // Position the link labels\n",
       "        linkText.attr(\"x\", function(d) {\n",
       "            return (d.source.x + d.target.x) / 2;\n",
       "        })\n",
       "        .attr(\"y\", function(d) {\n",
       "            return (d.source.y + d.target.y) / 2;\n",
       "        });\n",
       "    });\n",
       "\n",
       "  });\n",
       "});\n"
      ],
      "text/plain": [
       "<IPython.core.display.Javascript object>"
      ]
     },
     "metadata": {},
     "output_type": "display_data"
    }
   ],
   "source": [
    "%%javascript\n",
    "// We load the d3.js library from the Web.\n",
    "require.config({paths:\n",
    "    {d3: \"http://d3js.org/d3.v3.min\"}});\n",
    "require([\"d3\"], function(d3) {\n",
    "  // The code in this block is executed when the\n",
    "  // d3.js library has been loaded.\n",
    "\n",
    "  // First, we specify the size of the canvas\n",
    "  // containing the visualization (size of the\n",
    "  // <div> element).\n",
    "  var width = 500, height = 300;\n",
    "\n",
    "  // We create a color scale.\n",
    "  var color = d3.scale.category10();\n",
    "\n",
    "  // We create a force-directed dynamic graph layout.\n",
    "  var force = d3.layout.force()\n",
    "    .charge(-120)\n",
    "    .linkDistance(120)\n",
    "    .size([width, height]);\n",
    "\n",
    "  // In the <div> element, we create a <svg> graphic\n",
    "  // that will contain our interactive visualization.\n",
    "  var svg = d3.select(\"#d3-example\").select(\"svg\")\n",
    "  if (svg.empty()) {\n",
    "    svg = d3.select(\"#d3-example\").append(\"svg\")\n",
    "          .attr(\"width\", width)\n",
    "          .attr(\"height\", height);\n",
    "  }\n",
    "\n",
    "  // We load the JSON file.\n",
    "  d3.json(\"graph.json\", function(error, graph) {\n",
    "    // In this block, the file has been loaded\n",
    "    // and the 'graph' object contains our graph.\n",
    "\n",
    "    // We load the nodes and links in the\n",
    "    // force-directed graph.\n",
    "    force.nodes(graph.nodes)\n",
    "      .links(graph.links)\n",
    "      .start();\n",
    "      \n",
    "    var linkCount = {};\n",
    "\n",
    "    graph.links.forEach(function(d) {\n",
    "        if (linkCount[d.source + \",\" + d.target]) {\n",
    "            linkCount[d.source + \",\" + d.target]++;\n",
    "        } else if (linkCount[d.target + \",\" + d.source]) {\n",
    "            linkCount[d.target + \",\" + d.source]++;\n",
    "        } else {\n",
    "            linkCount[d.source + \",\" + d.target] = 1;\n",
    "        }\n",
    "        d.linknum = linkCount[d.source + \",\" + d.target];\n",
    "    });\n",
    "\n",
    "    // Function to generate a path for each link\n",
    "    function linkPath(d) {\n",
    "        var curvature = 0.5;\n",
    "        var dx = d.target.x - d.source.x,\n",
    "            dy = d.target.y - d.source.y,\n",
    "            dr = Math.sqrt(dx * dx + dy * dy) * (d.linknum - 1) * curvature;\n",
    "        return \"M\" + d.source.x + \",\" + d.source.y + \n",
    "               \"A\" + dr + \",\" + dr + \" 0 0,1 \" + d.target.x + \",\" + d.target.y;\n",
    "    }\n",
    "\n",
    "    // Create a group for each link\n",
    "    var linkGroup = svg.selectAll(\".link-group\")\n",
    "        .data(graph.links)\n",
    "        .enter().append(\"g\")\n",
    "        .attr(\"class\", \"link-group\");\n",
    "\n",
    "    // Create the line element within each group\n",
    "    var link = linkGroup.append(\"line\")\n",
    "        .attr(\"class\", \"link\")\n",
    "        .attr(\"d\", linkPath);\n",
    "\n",
    "    // Create the text label within each group\n",
    "    var linkText = linkGroup.append(\"text\")\n",
    "        .attr(\"class\", \"link-text\")\n",
    "        .text(function(d) { return d.label; });\n",
    "      \n",
    "    // We create a <circle> SVG element for each node\n",
    "    // in the graph, and we specify a few attributes.\n",
    "    var node = svg.selectAll(\".node\")\n",
    "      .data(graph.nodes)\n",
    "      .enter().append(\"circle\")\n",
    "      .attr(\"class\", \"node\")\n",
    "      .attr(\"r\", 5)  // radius\n",
    "      .style(\"fill\", function(d) {\n",
    "         // The node color depends on the club.\n",
    "         return color(d.club);\n",
    "      })\n",
    "      .call(force.drag);\n",
    "\n",
    "    // The name of each node is the node number.\n",
    "    node.append(\"title\")\n",
    "        .text(function(d) { return d.name; });\n",
    "\n",
    "    // We bind the positions of the SVG elements\n",
    "    // to the positions of the dynamic force-directed\n",
    "    // graph, at each time step.\n",
    "    force.on(\"tick\", function() {\n",
    "        link.attr(\"d\", linkPath);\n",
    "        // Position the lines\n",
    "        link.attr(\"x1\", function(d) { return d.source.x; })\n",
    "            .attr(\"y1\", function(d) { return d.source.y; })\n",
    "            .attr(\"x2\", function(d) { return d.target.x; })\n",
    "            .attr(\"y2\", function(d) { return d.target.y; });\n",
    "\n",
    "        // Position the nodes\n",
    "        node.attr(\"cx\", function(d) { return d.x; })\n",
    "            .attr(\"cy\", function(d) { return d.y; });\n",
    "\n",
    "        // Position the link labels\n",
    "        linkText.attr(\"x\", function(d) {\n",
    "            return (d.source.x + d.target.x) / 2;\n",
    "        })\n",
    "        .attr(\"y\", function(d) {\n",
    "            return (d.source.y + d.target.y) / 2;\n",
    "        });\n",
    "    });\n",
    "\n",
    "  });\n",
    "});"
   ]
  },
  {
   "cell_type": "code",
   "execution_count": 226,
   "id": "b5499de1",
   "metadata": {},
   "outputs": [
    {
     "data": {
      "text/html": [
       "<div id=\"d3-example\"></div>\n",
       "<style>\n",
       ".node {stroke: #fff; stroke-width: 1.5px;}\n",
       ".link {stroke: #999; stroke-opacity: .6;}\n",
       ".link-text {\n",
       "    font-size: 10px; /* Adjust the size as needed */\n",
       "    fill: grey;      /* Sets the text color to grey */\n",
       "}\n",
       "</style>\n"
      ],
      "text/plain": [
       "<IPython.core.display.HTML object>"
      ]
     },
     "metadata": {},
     "output_type": "display_data"
    }
   ],
   "source": [
    "%%html\n",
    "<div id=\"d3-example\"></div>\n",
    "<style>\n",
    ".node {stroke: #fff; stroke-width: 1.5px;}\n",
    ".link {stroke: #999; stroke-opacity: .6;}\n",
    ".link-text {\n",
    "    font-size: 10px; /* Adjust the size as needed */\n",
    "    fill: grey;      /* Sets the text color to grey */\n",
    "}\n",
    "</style>"
   ]
  },
  {
   "cell_type": "code",
   "execution_count": null,
   "id": "4246be10",
   "metadata": {},
   "outputs": [],
   "source": []
  }
 ],
 "metadata": {
  "kernelspec": {
   "display_name": "Python [conda env:ada] *",
   "language": "python",
   "name": "conda-env-ada-py"
  },
  "language_info": {
   "codemirror_mode": {
    "name": "ipython",
    "version": 3
   },
   "file_extension": ".py",
   "mimetype": "text/x-python",
   "name": "python",
   "nbconvert_exporter": "python",
   "pygments_lexer": "ipython3",
   "version": "3.9.18"
  }
 },
 "nbformat": 4,
 "nbformat_minor": 5
}
