{
 "cells": [
  {
   "cell_type": "code",
   "execution_count": 4,
   "id": "8e96cd4e",
   "metadata": {},
   "outputs": [],
   "source": [
    "import ast\n",
    "import re\n",
    "import json\n",
    "#import spacy\n",
    "import numpy as np\n",
    "import pandas as pd\n",
    "import seaborn as sns\n",
    "import plotly.express as px\n",
    "import matplotlib.pyplot as plt\n",
    "from sklearn.preprocessing import MultiLabelBinarizer\n",
    "import plotly.graph_objects as go\n",
    "from sklearn.decomposition import PCA\n",
    "from sklearn.preprocessing import StandardScaler\n",
    "import plotly.graph_objects as px\n",
    "import numpy as np\n",
    "\n",
    "%matplotlib inline\n",
    "plt.rcParams['font.family'] = 'Times New Roman'"
   ]
  },
  {
   "cell_type": "code",
   "execution_count": 7,
   "id": "ee1d46f0",
   "metadata": {},
   "outputs": [
    {
     "data": {
      "text/plain": [
       "Index(['Wikipedia movie ID', 'character', 'pagerank', 'character_type',\n",
       "       'full_name', 'freebase_char_map', 'wikipedia_movie_id', 'movie_name',\n",
       "       'related_name', 'token', 'persona_code', 'persona_distribution',\n",
       "       'freebase_movie_id', 'character_name', 'actor_dob', 'actor_gender',\n",
       "       'actor_height', 'actor_ethnicity', 'actor_name', 'actor_age_release',\n",
       "       'freebase_char_id', 'freebase_actor_id', 'movie_release_date',\n",
       "       'movie_box_office_revenue', 'movie_runtime', 'movie_genres_cleaned',\n",
       "       'movie_countries_cleaned', 'movie_languages_cleaned',\n",
       "       'movie_release_year'],\n",
       "      dtype='object')"
      ]
     },
     "execution_count": 7,
     "metadata": {},
     "output_type": "execute_result"
    }
   ],
   "source": [
    "persona_char = pd.read_csv('../Data/final_persona_char_movie_role.csv')\n",
    "persona_char.columns"
   ]
  },
  {
   "cell_type": "code",
   "execution_count": 10,
   "id": "bd3264ce",
   "metadata": {},
   "outputs": [],
   "source": [
    "# groupby by persona ids and get the proportion of each persona\n",
    "persona_char_counts = persona_char.groupby(['persona_code']).size().reset_index(name='counts')\n",
    "persona_char_counts.to_csv('../Data/persona/persona_char_counts.csv', index=False)"
   ]
  },
  {
   "cell_type": "code",
   "execution_count": 2,
   "id": "dd9a536e",
   "metadata": {},
   "outputs": [
    {
     "data": {
      "text/plain": [
       "array([[0., 0., 0., ..., 0., 0., 0.],\n",
       "       [0., 0., 0., ..., 0., 0., 0.],\n",
       "       [0., 0., 0., ..., 0., 0., 0.],\n",
       "       ...,\n",
       "       [0., 0., 0., ..., 0., 0., 0.],\n",
       "       [0., 0., 0., ..., 0., 0., 0.],\n",
       "       [0., 0., 0., ..., 0., 0., 0.]])"
      ]
     },
     "execution_count": 2,
     "metadata": {},
     "output_type": "execute_result"
    }
   ],
   "source": [
    "persona_word = json.load(open('../Data/Persona/persona_word.json', 'r'))\n",
    "categories = list(persona_word.keys())\n",
    "\n",
    "all_words = []\n",
    "for category in categories:\n",
    "    all_words += persona_word[category][\"top_verbs\"]\n",
    "\n",
    "all_words = list(set(all_words))\n",
    "\n",
    "# Create a matrix where rows correspond to categories and columns to words\n",
    "word_matrix = np.zeros((len(categories), len(all_words)))\n",
    "for i, category in enumerate(categories):\n",
    "    for word in persona_word[category][\"top_verbs\"]:\n",
    "        word_matrix[i][all_words.index(word)] = persona_word[category][\"top_freq\"][persona_word[category][\"top_verbs\"].index(word)]\n",
    "\n",
    "word_matrix"
   ]
  },
  {
   "cell_type": "code",
   "execution_count": 3,
   "id": "7d723364",
   "metadata": {},
   "outputs": [
    {
     "data": {
      "application/vnd.jupyter.widget-view+json": {
       "model_id": "2fd2f75afa83481b80b64717921b43ce",
       "version_major": 2,
       "version_minor": 0
      },
      "text/plain": [
       "FigureWidget({\n",
       "    'data': [{'marker': {'color': [#a3a7e4, #a3a7e4, #a3a7e4, #a3a7e4, #a3a7e4,\n",
       "                                   #a3a7e4, #a3a7e4, #a3a7e4, #a3a7e4, #a3a7e4,\n",
       "                                   #a3a7e4, #a3a7e4, #a3a7e4, #a3a7e4, #a3a7e4,\n",
       "                                   #a3a7e4, #a3a7e4, #a3a7e4, #a3a7e4, #a3a7e4,\n",
       "                                   #a3a7e4, #a3a7e4, #a3a7e4, #a3a7e4, #a3a7e4,\n",
       "                                   #a3a7e4, #a3a7e4, #a3a7e4, #a3a7e4, #a3a7e4,\n",
       "                                   #a3a7e4, #a3a7e4, #a3a7e4, #a3a7e4, #a3a7e4,\n",
       "                                   #a3a7e4, #a3a7e4, #a3a7e4, #a3a7e4, #a3a7e4,\n",
       "                                   #a3a7e4, #a3a7e4, #a3a7e4, #a3a7e4, #a3a7e4,\n",
       "                                   #a3a7e4, #a3a7e4, #a3a7e4, #a3a7e4, #a3a7e4,\n",
       "                                   #a3a7e4, #a3a7e4, #a3a7e4, #a3a7e4, #a3a7e4,\n",
       "                                   #a3a7e4, #a3a7e4, #a3a7e4, #a3a7e4, #a3a7e4,\n",
       "                                   #a3a7e4, #a3a7e4, #a3a7e4, #a3a7e4, #a3a7e4,\n",
       "                                   #a3a7e4, #a3a7e4, #a3a7e4, #a3a7e4, #a3a7e4,\n",
       "                                   #a3a7e4, #a3a7e4, #a3a7e4, #a3a7e4, #a3a7e4,\n",
       "                                   #a3a7e4, #a3a7e4, #a3a7e4, #a3a7e4, #a3a7e4,\n",
       "                                   #a3a7e4, #a3a7e4, #a3a7e4, #a3a7e4, #a3a7e4,\n",
       "                                   #a3a7e4, #a3a7e4, #a3a7e4, #a3a7e4, #a3a7e4,\n",
       "                                   #a3a7e4, #a3a7e4, #a3a7e4, #a3a7e4, #a3a7e4,\n",
       "                                   #a3a7e4, #a3a7e4, #a3a7e4, #a3a7e4, #a3a7e4],\n",
       "                         'size': [10, 10, 10, 10, 10, 10, 10, 10, 10, 10, 10, 10,\n",
       "                                  10, 10, 10, 10, 10, 10, 10, 10, 10, 10, 10, 10,\n",
       "                                  10, 10, 10, 10, 10, 10, 10, 10, 10, 10, 10, 10,\n",
       "                                  10, 10, 10, 10, 10, 10, 10, 10, 10, 10, 10, 10,\n",
       "                                  10, 10, 10, 10, 10, 10, 10, 10, 10, 10, 10, 10,\n",
       "                                  10, 10, 10, 10, 10, 10, 10, 10, 10, 10, 10, 10,\n",
       "                                  10, 10, 10, 10, 10, 10, 10, 10, 10, 10, 10, 10,\n",
       "                                  10, 10, 10, 10, 10, 10, 10, 10, 10, 10, 10, 10,\n",
       "                                  10, 10, 10, 10]},\n",
       "              'mode': 'markers',\n",
       "              'type': 'scatter',\n",
       "              'uid': '3ba27d48-da8a-4908-9c51-ab1aeb4aa03d',\n",
       "              'x': array([-473094.28473463,  -76010.80227228,  979745.50812141,  -71306.63404922,\n",
       "                            93059.96798215, -215132.0343267 ,  131755.71839076, -115595.34052344,\n",
       "                          -144307.42729502,   84574.76865913,  -91280.73978182,  -43717.7922891 ,\n",
       "                             3603.1869288 ,  -21399.49146636, -126371.28455028, -157539.30582449,\n",
       "                          -139311.77885169, -117350.10697046,  371145.23390571, -124731.63288405,\n",
       "                           166182.36751574,  251505.91285343,  -24933.68977906,  441461.49013772,\n",
       "                          -117490.37719983, -146400.68824189, -104557.06049556, -127997.10223518,\n",
       "                          -130673.40032853, -129518.41318409, -131971.0087095 ,  -76628.92903941,\n",
       "                          1035180.07393115,   68375.43375916,  130953.69234519, -114384.7527527 ,\n",
       "                           -12173.11060681,   35401.65374734, -131125.76314179,  -46416.47434843,\n",
       "                            15040.59459449, -153659.31615313,  -25559.57238601, -144247.08374568,\n",
       "                           -61654.73900746, -155862.71427866,  -50862.8215746 , -295244.48561449,\n",
       "                           -95819.93636581,  386344.492136  ]),\n",
       "              'y': array([1372131.72856239,  -48076.33778834,  309401.36136166,  -50231.5639403 ,\n",
       "                           -35165.43907565, -136327.07867866,  -39216.62714853,  -54124.39894244,\n",
       "                          -188822.939382  ,  -37180.05672506,  -58982.24163845,  -47517.85126416,\n",
       "                           -39909.26472396,  -39339.69574034,  -54077.88049555,  -75695.66799873,\n",
       "                           -80169.91153024,  -55527.20842965,   -8181.20634004,  -56633.34030474,\n",
       "                           -44279.54015725,   44936.40919141,  -41709.64701886,  126605.44048542,\n",
       "                           -52467.84846499,  -18848.36181434,  -57125.8184984 ,  -56781.06561947,\n",
       "                           -59777.93771466,  -55417.75791584,  -57081.24828097,  -45777.92734145,\n",
       "                            88402.89022858,  -41823.37501365,  -46484.53484354,  -74160.45568715,\n",
       "                           -14040.54769527,  -39804.97282797,  -73956.7513742 ,  -63726.69369728,\n",
       "                           -36916.16938799,   -3892.48210192,  -32755.84678909, -114562.25121202,\n",
       "                           -43003.26277816,  -53629.79511758,  -50637.99677102,  238073.2465862 ,\n",
       "                           -54687.43499637,  158977.35685064])}],\n",
       "    'layout': {'hovermode': 'closest', 'template': '...'}\n",
       "})"
      ]
     },
     "metadata": {},
     "output_type": "display_data"
    }
   ],
   "source": [
    "# Perform PCA\n",
    "pca = PCA(n_components=2)\n",
    "pca_result = pca.fit_transform(word_matrix)\n",
    "\n",
    "x = pca_result[:,0]\n",
    "y = pca_result[:,1]\n",
    "\n",
    "f = go.FigureWidget([go.Scatter(x=x, y=y, mode='markers')])\n",
    "scatter = f.data[0]\n",
    "colors = ['#a3a7e4'] * 100\n",
    "scatter.marker.color = colors\n",
    "scatter.marker.size = [10] * 100\n",
    "f.layout.hovermode = 'closest'\n",
    "\n",
    "\n",
    "# create our callback function\n",
    "def update_point(trace, points, selector):\n",
    "    c = list(scatter.marker.color)\n",
    "    s = list(scatter.marker.size)\n",
    "    for i in points.point_inds:\n",
    "        c[i] = '#bae2be'\n",
    "        s[i] = 20\n",
    "        with f.batch_update():\n",
    "            scatter.marker.color = c\n",
    "            scatter.marker.size = s\n",
    "\n",
    "\n",
    "scatter.on_click(update_point)\n",
    "\n",
    "display(f)"
   ]
  },
  {
   "cell_type": "code",
   "execution_count": 5,
   "id": "71b5efb3",
   "metadata": {},
   "outputs": [
    {
     "data": {
      "text/plain": [
       "Index(['Wikipedia movie ID', 'char A', 'action', 'char B', 'combined_action',\n",
       "       'lemmatized_action', 'char A type', 'char B type', 'freebase_movie_id',\n",
       "       'movie_name', 'movie_release_date', 'movie_box_office_revenue',\n",
       "       'movie_runtime', 'movie_languages', 'movie_countries', 'movie_genres',\n",
       "       'year', 'character_name_charA', 'actor_dob_charA', 'actor_gender_charA',\n",
       "       'actor_height_charA', 'actor_ethnicity_charA', 'actor_name_charA',\n",
       "       'actor_age_charA', 'freebase_character_map_1_charA',\n",
       "       'freebase_character_map_2_charA', 'freebase_character_map_3_charA',\n",
       "       'character_name_charB', 'actor_dob_charB', 'actor_gender_charB',\n",
       "       'actor_height_charB', 'actor_ethnicity_charB', 'actor_name_charB',\n",
       "       'actor_age_charB', 'freebase_character_map_1_charB',\n",
       "       'freebase_character_map_2_charB', 'freebase_character_map_3_charB',\n",
       "       'crime', 'violence', 'sadness', 'anger', 'love', 'fear', 'care',\n",
       "       'grief', 'mentor', 'confrontation', 'heartbreak', 'collaborate',\n",
       "       'emotional'],\n",
       "      dtype='object')"
      ]
     },
     "execution_count": 5,
     "metadata": {},
     "output_type": "execute_result"
    }
   ],
   "source": [
    "final_merged = pd.read_csv('../Data/final_merged_df.csv')\n",
    "final_merged.columns"
   ]
  },
  {
   "cell_type": "code",
   "execution_count": 2,
   "id": "33bf3d7b",
   "metadata": {},
   "outputs": [
    {
     "data": {
      "application/vnd.plotly.v1+json": {
       "config": {
        "plotlyServerURL": "https://plot.ly"
       },
       "data": [
        {
         "mode": "markers",
         "type": "scatter",
         "x": [
          118,
          29,
          12,
          14,
          24,
          87,
          29,
          33,
          70,
          107,
          12,
          92,
          36,
          100,
          98,
          100,
          34,
          6,
          114,
          17,
          12,
          113,
          55,
          47,
          43,
          62,
          46,
          80,
          55,
          77,
          64,
          40,
          101,
          23,
          72,
          40,
          8,
          64,
          21,
          35,
          118,
          44,
          79,
          85,
          75,
          65,
          60,
          64,
          66,
          115,
          102,
          83,
          7,
          26,
          87,
          16,
          96,
          86,
          27,
          1,
          91,
          39,
          31,
          50,
          10,
          88,
          18,
          106,
          75,
          119,
          26,
          90,
          96,
          11,
          14,
          66,
          118,
          47,
          60,
          13,
          21,
          76,
          43,
          10,
          17,
          23,
          13,
          29,
          68,
          56,
          49,
          108,
          31,
          62,
          33,
          74,
          102,
          78,
          50,
          60
         ],
         "y": [
          58,
          56,
          60,
          60,
          55,
          46,
          8,
          85,
          8,
          33,
          94,
          18,
          13,
          102,
          15,
          31,
          14,
          98,
          106,
          37,
          12,
          79,
          97,
          106,
          111,
          64,
          119,
          100,
          98,
          73,
          104,
          31,
          30,
          23,
          21,
          112,
          103,
          86,
          105,
          2,
          81,
          113,
          51,
          17,
          19,
          32,
          13,
          67,
          36,
          31,
          5,
          94,
          16,
          8,
          49,
          66,
          13,
          33,
          49,
          20,
          52,
          37,
          86,
          82,
          37,
          98,
          106,
          79,
          17,
          33,
          19,
          26,
          45,
          74,
          59,
          47,
          74,
          83,
          62,
          76,
          46,
          45,
          13,
          74,
          84,
          50,
          43,
          15,
          55,
          110,
          7,
          29,
          79,
          42,
          89,
          16,
          22,
          65,
          57,
          99
         ]
        }
       ],
       "layout": {
        "template": {
         "data": {
          "bar": [
           {
            "error_x": {
             "color": "#2a3f5f"
            },
            "error_y": {
             "color": "#2a3f5f"
            },
            "marker": {
             "line": {
              "color": "#E5ECF6",
              "width": 0.5
             },
             "pattern": {
              "fillmode": "overlay",
              "size": 10,
              "solidity": 0.2
             }
            },
            "type": "bar"
           }
          ],
          "barpolar": [
           {
            "marker": {
             "line": {
              "color": "#E5ECF6",
              "width": 0.5
             },
             "pattern": {
              "fillmode": "overlay",
              "size": 10,
              "solidity": 0.2
             }
            },
            "type": "barpolar"
           }
          ],
          "carpet": [
           {
            "aaxis": {
             "endlinecolor": "#2a3f5f",
             "gridcolor": "white",
             "linecolor": "white",
             "minorgridcolor": "white",
             "startlinecolor": "#2a3f5f"
            },
            "baxis": {
             "endlinecolor": "#2a3f5f",
             "gridcolor": "white",
             "linecolor": "white",
             "minorgridcolor": "white",
             "startlinecolor": "#2a3f5f"
            },
            "type": "carpet"
           }
          ],
          "choropleth": [
           {
            "colorbar": {
             "outlinewidth": 0,
             "ticks": ""
            },
            "type": "choropleth"
           }
          ],
          "contour": [
           {
            "colorbar": {
             "outlinewidth": 0,
             "ticks": ""
            },
            "colorscale": [
             [
              0,
              "#0d0887"
             ],
             [
              0.1111111111111111,
              "#46039f"
             ],
             [
              0.2222222222222222,
              "#7201a8"
             ],
             [
              0.3333333333333333,
              "#9c179e"
             ],
             [
              0.4444444444444444,
              "#bd3786"
             ],
             [
              0.5555555555555556,
              "#d8576b"
             ],
             [
              0.6666666666666666,
              "#ed7953"
             ],
             [
              0.7777777777777778,
              "#fb9f3a"
             ],
             [
              0.8888888888888888,
              "#fdca26"
             ],
             [
              1,
              "#f0f921"
             ]
            ],
            "type": "contour"
           }
          ],
          "contourcarpet": [
           {
            "colorbar": {
             "outlinewidth": 0,
             "ticks": ""
            },
            "type": "contourcarpet"
           }
          ],
          "heatmap": [
           {
            "colorbar": {
             "outlinewidth": 0,
             "ticks": ""
            },
            "colorscale": [
             [
              0,
              "#0d0887"
             ],
             [
              0.1111111111111111,
              "#46039f"
             ],
             [
              0.2222222222222222,
              "#7201a8"
             ],
             [
              0.3333333333333333,
              "#9c179e"
             ],
             [
              0.4444444444444444,
              "#bd3786"
             ],
             [
              0.5555555555555556,
              "#d8576b"
             ],
             [
              0.6666666666666666,
              "#ed7953"
             ],
             [
              0.7777777777777778,
              "#fb9f3a"
             ],
             [
              0.8888888888888888,
              "#fdca26"
             ],
             [
              1,
              "#f0f921"
             ]
            ],
            "type": "heatmap"
           }
          ],
          "heatmapgl": [
           {
            "colorbar": {
             "outlinewidth": 0,
             "ticks": ""
            },
            "colorscale": [
             [
              0,
              "#0d0887"
             ],
             [
              0.1111111111111111,
              "#46039f"
             ],
             [
              0.2222222222222222,
              "#7201a8"
             ],
             [
              0.3333333333333333,
              "#9c179e"
             ],
             [
              0.4444444444444444,
              "#bd3786"
             ],
             [
              0.5555555555555556,
              "#d8576b"
             ],
             [
              0.6666666666666666,
              "#ed7953"
             ],
             [
              0.7777777777777778,
              "#fb9f3a"
             ],
             [
              0.8888888888888888,
              "#fdca26"
             ],
             [
              1,
              "#f0f921"
             ]
            ],
            "type": "heatmapgl"
           }
          ],
          "histogram": [
           {
            "marker": {
             "pattern": {
              "fillmode": "overlay",
              "size": 10,
              "solidity": 0.2
             }
            },
            "type": "histogram"
           }
          ],
          "histogram2d": [
           {
            "colorbar": {
             "outlinewidth": 0,
             "ticks": ""
            },
            "colorscale": [
             [
              0,
              "#0d0887"
             ],
             [
              0.1111111111111111,
              "#46039f"
             ],
             [
              0.2222222222222222,
              "#7201a8"
             ],
             [
              0.3333333333333333,
              "#9c179e"
             ],
             [
              0.4444444444444444,
              "#bd3786"
             ],
             [
              0.5555555555555556,
              "#d8576b"
             ],
             [
              0.6666666666666666,
              "#ed7953"
             ],
             [
              0.7777777777777778,
              "#fb9f3a"
             ],
             [
              0.8888888888888888,
              "#fdca26"
             ],
             [
              1,
              "#f0f921"
             ]
            ],
            "type": "histogram2d"
           }
          ],
          "histogram2dcontour": [
           {
            "colorbar": {
             "outlinewidth": 0,
             "ticks": ""
            },
            "colorscale": [
             [
              0,
              "#0d0887"
             ],
             [
              0.1111111111111111,
              "#46039f"
             ],
             [
              0.2222222222222222,
              "#7201a8"
             ],
             [
              0.3333333333333333,
              "#9c179e"
             ],
             [
              0.4444444444444444,
              "#bd3786"
             ],
             [
              0.5555555555555556,
              "#d8576b"
             ],
             [
              0.6666666666666666,
              "#ed7953"
             ],
             [
              0.7777777777777778,
              "#fb9f3a"
             ],
             [
              0.8888888888888888,
              "#fdca26"
             ],
             [
              1,
              "#f0f921"
             ]
            ],
            "type": "histogram2dcontour"
           }
          ],
          "mesh3d": [
           {
            "colorbar": {
             "outlinewidth": 0,
             "ticks": ""
            },
            "type": "mesh3d"
           }
          ],
          "parcoords": [
           {
            "line": {
             "colorbar": {
              "outlinewidth": 0,
              "ticks": ""
             }
            },
            "type": "parcoords"
           }
          ],
          "pie": [
           {
            "automargin": true,
            "type": "pie"
           }
          ],
          "scatter": [
           {
            "fillpattern": {
             "fillmode": "overlay",
             "size": 10,
             "solidity": 0.2
            },
            "type": "scatter"
           }
          ],
          "scatter3d": [
           {
            "line": {
             "colorbar": {
              "outlinewidth": 0,
              "ticks": ""
             }
            },
            "marker": {
             "colorbar": {
              "outlinewidth": 0,
              "ticks": ""
             }
            },
            "type": "scatter3d"
           }
          ],
          "scattercarpet": [
           {
            "marker": {
             "colorbar": {
              "outlinewidth": 0,
              "ticks": ""
             }
            },
            "type": "scattercarpet"
           }
          ],
          "scattergeo": [
           {
            "marker": {
             "colorbar": {
              "outlinewidth": 0,
              "ticks": ""
             }
            },
            "type": "scattergeo"
           }
          ],
          "scattergl": [
           {
            "marker": {
             "colorbar": {
              "outlinewidth": 0,
              "ticks": ""
             }
            },
            "type": "scattergl"
           }
          ],
          "scattermapbox": [
           {
            "marker": {
             "colorbar": {
              "outlinewidth": 0,
              "ticks": ""
             }
            },
            "type": "scattermapbox"
           }
          ],
          "scatterpolar": [
           {
            "marker": {
             "colorbar": {
              "outlinewidth": 0,
              "ticks": ""
             }
            },
            "type": "scatterpolar"
           }
          ],
          "scatterpolargl": [
           {
            "marker": {
             "colorbar": {
              "outlinewidth": 0,
              "ticks": ""
             }
            },
            "type": "scatterpolargl"
           }
          ],
          "scatterternary": [
           {
            "marker": {
             "colorbar": {
              "outlinewidth": 0,
              "ticks": ""
             }
            },
            "type": "scatterternary"
           }
          ],
          "surface": [
           {
            "colorbar": {
             "outlinewidth": 0,
             "ticks": ""
            },
            "colorscale": [
             [
              0,
              "#0d0887"
             ],
             [
              0.1111111111111111,
              "#46039f"
             ],
             [
              0.2222222222222222,
              "#7201a8"
             ],
             [
              0.3333333333333333,
              "#9c179e"
             ],
             [
              0.4444444444444444,
              "#bd3786"
             ],
             [
              0.5555555555555556,
              "#d8576b"
             ],
             [
              0.6666666666666666,
              "#ed7953"
             ],
             [
              0.7777777777777778,
              "#fb9f3a"
             ],
             [
              0.8888888888888888,
              "#fdca26"
             ],
             [
              1,
              "#f0f921"
             ]
            ],
            "type": "surface"
           }
          ],
          "table": [
           {
            "cells": {
             "fill": {
              "color": "#EBF0F8"
             },
             "line": {
              "color": "white"
             }
            },
            "header": {
             "fill": {
              "color": "#C8D4E3"
             },
             "line": {
              "color": "white"
             }
            },
            "type": "table"
           }
          ]
         },
         "layout": {
          "annotationdefaults": {
           "arrowcolor": "#2a3f5f",
           "arrowhead": 0,
           "arrowwidth": 1
          },
          "autotypenumbers": "strict",
          "coloraxis": {
           "colorbar": {
            "outlinewidth": 0,
            "ticks": ""
           }
          },
          "colorscale": {
           "diverging": [
            [
             0,
             "#8e0152"
            ],
            [
             0.1,
             "#c51b7d"
            ],
            [
             0.2,
             "#de77ae"
            ],
            [
             0.3,
             "#f1b6da"
            ],
            [
             0.4,
             "#fde0ef"
            ],
            [
             0.5,
             "#f7f7f7"
            ],
            [
             0.6,
             "#e6f5d0"
            ],
            [
             0.7,
             "#b8e186"
            ],
            [
             0.8,
             "#7fbc41"
            ],
            [
             0.9,
             "#4d9221"
            ],
            [
             1,
             "#276419"
            ]
           ],
           "sequential": [
            [
             0,
             "#0d0887"
            ],
            [
             0.1111111111111111,
             "#46039f"
            ],
            [
             0.2222222222222222,
             "#7201a8"
            ],
            [
             0.3333333333333333,
             "#9c179e"
            ],
            [
             0.4444444444444444,
             "#bd3786"
            ],
            [
             0.5555555555555556,
             "#d8576b"
            ],
            [
             0.6666666666666666,
             "#ed7953"
            ],
            [
             0.7777777777777778,
             "#fb9f3a"
            ],
            [
             0.8888888888888888,
             "#fdca26"
            ],
            [
             1,
             "#f0f921"
            ]
           ],
           "sequentialminus": [
            [
             0,
             "#0d0887"
            ],
            [
             0.1111111111111111,
             "#46039f"
            ],
            [
             0.2222222222222222,
             "#7201a8"
            ],
            [
             0.3333333333333333,
             "#9c179e"
            ],
            [
             0.4444444444444444,
             "#bd3786"
            ],
            [
             0.5555555555555556,
             "#d8576b"
            ],
            [
             0.6666666666666666,
             "#ed7953"
            ],
            [
             0.7777777777777778,
             "#fb9f3a"
            ],
            [
             0.8888888888888888,
             "#fdca26"
            ],
            [
             1,
             "#f0f921"
            ]
           ]
          },
          "colorway": [
           "#636efa",
           "#EF553B",
           "#00cc96",
           "#ab63fa",
           "#FFA15A",
           "#19d3f3",
           "#FF6692",
           "#B6E880",
           "#FF97FF",
           "#FECB52"
          ],
          "font": {
           "color": "#2a3f5f"
          },
          "geo": {
           "bgcolor": "white",
           "lakecolor": "white",
           "landcolor": "#E5ECF6",
           "showlakes": true,
           "showland": true,
           "subunitcolor": "white"
          },
          "hoverlabel": {
           "align": "left"
          },
          "hovermode": "closest",
          "mapbox": {
           "style": "light"
          },
          "paper_bgcolor": "white",
          "plot_bgcolor": "#E5ECF6",
          "polar": {
           "angularaxis": {
            "gridcolor": "white",
            "linecolor": "white",
            "ticks": ""
           },
           "bgcolor": "#E5ECF6",
           "radialaxis": {
            "gridcolor": "white",
            "linecolor": "white",
            "ticks": ""
           }
          },
          "scene": {
           "xaxis": {
            "backgroundcolor": "#E5ECF6",
            "gridcolor": "white",
            "gridwidth": 2,
            "linecolor": "white",
            "showbackground": true,
            "ticks": "",
            "zerolinecolor": "white"
           },
           "yaxis": {
            "backgroundcolor": "#E5ECF6",
            "gridcolor": "white",
            "gridwidth": 2,
            "linecolor": "white",
            "showbackground": true,
            "ticks": "",
            "zerolinecolor": "white"
           },
           "zaxis": {
            "backgroundcolor": "#E5ECF6",
            "gridcolor": "white",
            "gridwidth": 2,
            "linecolor": "white",
            "showbackground": true,
            "ticks": "",
            "zerolinecolor": "white"
           }
          },
          "shapedefaults": {
           "line": {
            "color": "#2a3f5f"
           }
          },
          "ternary": {
           "aaxis": {
            "gridcolor": "white",
            "linecolor": "white",
            "ticks": ""
           },
           "baxis": {
            "gridcolor": "white",
            "linecolor": "white",
            "ticks": ""
           },
           "bgcolor": "#E5ECF6",
           "caxis": {
            "gridcolor": "white",
            "linecolor": "white",
            "ticks": ""
           }
          },
          "title": {
           "x": 0.05
          },
          "xaxis": {
           "automargin": true,
           "gridcolor": "white",
           "linecolor": "white",
           "ticks": "",
           "title": {
            "standoff": 15
           },
           "zerolinecolor": "white",
           "zerolinewidth": 2
          },
          "yaxis": {
           "automargin": true,
           "gridcolor": "white",
           "linecolor": "white",
           "ticks": "",
           "title": {
            "standoff": 15
           },
           "zerolinecolor": "white",
           "zerolinewidth": 2
          }
         }
        },
        "title": {
         "text": "Dropdown Menu in plotly Graph Using Python"
        },
        "updatemenus": [
         {
          "buttons": [
           {
            "args": [
             "type",
             "scatter"
            ],
            "label": "Scatter Plot",
            "method": "restyle"
           },
           {
            "args": [
             "type",
             "box"
            ],
            "label": "Box Plot",
            "method": "restyle"
           },
           {
            "args": [
             "type",
             "bar"
            ],
            "label": "Bar Plot",
            "method": "restyle"
           }
          ],
          "direction": "down"
         }
        ]
       }
      }
     },
     "metadata": {},
     "output_type": "display_data"
    }
   ],
   "source": [
    "# get the persona distribution of males\n",
    "male_data = final_merged[final_merged['actor_gender'] == 'M']\n",
    "female_data = final_merged[final_merged['actor_gender'] == 'M']\n"
   ]
  },
  {
   "cell_type": "code",
   "execution_count": null,
   "id": "00c827d4",
   "metadata": {},
   "outputs": [],
   "source": [
    "fig = px.Figure(data=[px.Scatter(\n",
    "\tx=random_x,\n",
    "\ty=random_y,\n",
    "\tmode='markers',)\n",
    "])\n",
    " \n",
    "fig.update_layout(\n",
    "\tupdatemenus=[\n",
    "\t\tdict(\n",
    "\t\tbuttons=list([\n",
    "\t\t\tdict(\n",
    "\t\t\targs=[\"type\", \"scatter\"],\n",
    "\t\t\tlabel=\"Scatter Plot\",\n",
    "\t\t\tmethod=\"restyle\"\n",
    "\t\t\t),\n",
    "                        dict(\n",
    "                        args=[\"type\", \"box\"],\n",
    "                        label=\"Box Plot\",\n",
    "                        method=\"restyle\"\n",
    "                        ),\n",
    "\t\t\tdict(\n",
    "\t\t\targs=[\"type\", \"bar\"],\n",
    "\t\t\tlabel=\"Bar Plot\",\n",
    "\t\t\tmethod=\"restyle\"\n",
    "\t\t\t)\n",
    "\t\t\t]),\n",
    "\t\t\tdirection=\"down\",\n",
    "\t\t    ),\n",
    "\t      ],\n",
    "      title = \"Dropdown Menu in plotly Graph Using Python\"\n",
    ")\n",
    " \n",
    "fig.show()"
   ]
  }
 ],
 "metadata": {
  "kernelspec": {
   "display_name": "Python 3 (ipykernel)",
   "language": "python",
   "name": "python3"
  },
  "language_info": {
   "codemirror_mode": {
    "name": "ipython",
    "version": 3
   },
   "file_extension": ".py",
   "mimetype": "text/x-python",
   "name": "python",
   "nbconvert_exporter": "python",
   "pygments_lexer": "ipython3",
   "version": "3.9.18"
  },
  "toc": {
   "base_numbering": 1,
   "nav_menu": {},
   "number_sections": true,
   "sideBar": true,
   "skip_h1_title": false,
   "title_cell": "Table of Contents",
   "title_sidebar": "Contents",
   "toc_cell": true,
   "toc_position": {},
   "toc_section_display": true,
   "toc_window_display": false
  }
 },
 "nbformat": 4,
 "nbformat_minor": 5
}
