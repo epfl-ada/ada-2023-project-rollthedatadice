{
 "cells": [
  {
   "cell_type": "markdown",
   "id": "b4dd09f6",
   "metadata": {
    "toc": true
   },
   "source": [
    "<h1>Table of Contents<span class=\"tocSkip\"></span></h1>\n",
    "<div class=\"toc\"><ul class=\"toc-item\"><li><span><a href=\"#Data\" data-toc-modified-id=\"Data-1\"><span class=\"toc-item-num\">1&nbsp;&nbsp;</span>Data</a></span><ul class=\"toc-item\"><li><span><a href=\"#Load-movies-&amp;-characters\" data-toc-modified-id=\"Load-movies-&amp;-characters-1.1\"><span class=\"toc-item-num\">1.1&nbsp;&nbsp;</span>Load movies &amp; characters</a></span></li><li><span><a href=\"#Load-Persona-CMU\" data-toc-modified-id=\"Load-Persona-CMU-1.2\"><span class=\"toc-item-num\">1.2&nbsp;&nbsp;</span>Load Persona CMU</a></span></li><li><span><a href=\"#Merge-data\" data-toc-modified-id=\"Merge-data-1.3\"><span class=\"toc-item-num\">1.3&nbsp;&nbsp;</span>Merge data</a></span></li></ul></li><li><span><a href=\"#Persona-analysis\" data-toc-modified-id=\"Persona-analysis-2\"><span class=\"toc-item-num\">2&nbsp;&nbsp;</span>Persona analysis</a></span><ul class=\"toc-item\"><li><span><a href=\"#Genre\" data-toc-modified-id=\"Genre-2.1\"><span class=\"toc-item-num\">2.1&nbsp;&nbsp;</span>Genre</a></span></li><li><span><a href=\"#Gender\" data-toc-modified-id=\"Gender-2.2\"><span class=\"toc-item-num\">2.2&nbsp;&nbsp;</span>Gender</a></span></li><li><span><a href=\"#Temporal-factors\" data-toc-modified-id=\"Temporal-factors-2.3\"><span class=\"toc-item-num\">2.3&nbsp;&nbsp;</span>Temporal factors</a></span></li></ul></li><li><span><a href=\"#Main-&amp;-side-characters\" data-toc-modified-id=\"Main-&amp;-side-characters-3\"><span class=\"toc-item-num\">3&nbsp;&nbsp;</span>Main &amp; side characters</a></span><ul class=\"toc-item\"><li><span><a href=\"#Load-graph-data\" data-toc-modified-id=\"Load-graph-data-3.1\"><span class=\"toc-item-num\">3.1&nbsp;&nbsp;</span>Load graph data</a></span></li><li><span><a href=\"#Calculate-pagerank\" data-toc-modified-id=\"Calculate-pagerank-3.2\"><span class=\"toc-item-num\">3.2&nbsp;&nbsp;</span>Calculate pagerank</a></span></li><li><span><a href=\"#Use-pagerank-to-define-the-main-&amp;-side-char\" data-toc-modified-id=\"Use-pagerank-to-define-the-main-&amp;-side-char-3.3\"><span class=\"toc-item-num\">3.3&nbsp;&nbsp;</span>Use pagerank to define the main &amp; side char</a></span></li><li><span><a href=\"#Assign-main-&amp;-side-roles\" data-toc-modified-id=\"Assign-main-&amp;-side-roles-3.4\"><span class=\"toc-item-num\">3.4&nbsp;&nbsp;</span>Assign main &amp; side roles</a></span></li><li><span><a href=\"#Merge\" data-toc-modified-id=\"Merge-3.5\"><span class=\"toc-item-num\">3.5&nbsp;&nbsp;</span>Merge</a></span></li><li><span><a href=\"#Main-&amp;-side-analysis\" data-toc-modified-id=\"Main-&amp;-side-analysis-3.6\"><span class=\"toc-item-num\">3.6&nbsp;&nbsp;</span>Main &amp; side analysis</a></span></li></ul></li></ul></div>"
   ]
  },
  {
   "cell_type": "code",
   "execution_count": 1,
   "id": "8e96cd4e",
   "metadata": {},
   "outputs": [],
   "source": [
    "import ast\n",
    "import re\n",
    "#import spacy\n",
    "import numpy as np\n",
    "import pandas as pd\n",
    "import seaborn as sns\n",
    "import networkx as nx\n",
    "import plotly.express as px\n",
    "import matplotlib.pyplot as plt\n",
    "import plotly.graph_objects as go\n",
    "import matplotlib.ticker as ticker\n",
    "from sklearn.preprocessing import MultiLabelBinarizer\n",
    "from ipywidgets import interact, widgets\n",
    "\n",
    "%matplotlib inline\n",
    "plt.rcParams['font.family'] = 'Times New Roman'"
   ]
  },
  {
   "cell_type": "markdown",
   "id": "758bbe48",
   "metadata": {},
   "source": [
    "# Data"
   ]
  },
  {
   "cell_type": "markdown",
   "id": "6a2f4c9d",
   "metadata": {},
   "source": [
    "## Load movies & characters"
   ]
  },
  {
   "cell_type": "code",
   "execution_count": 2,
   "id": "202b164c",
   "metadata": {},
   "outputs": [
    {
     "data": {
      "text/html": [
       "<div>\n",
       "<style scoped>\n",
       "    .dataframe tbody tr th:only-of-type {\n",
       "        vertical-align: middle;\n",
       "    }\n",
       "\n",
       "    .dataframe tbody tr th {\n",
       "        vertical-align: top;\n",
       "    }\n",
       "\n",
       "    .dataframe thead th {\n",
       "        text-align: right;\n",
       "    }\n",
       "</style>\n",
       "<table border=\"1\" class=\"dataframe\">\n",
       "  <thead>\n",
       "    <tr style=\"text-align: right;\">\n",
       "      <th></th>\n",
       "      <th>wikipedia_movie_id</th>\n",
       "      <th>freebase_movie_id</th>\n",
       "      <th>movie_name</th>\n",
       "      <th>movie_release_date</th>\n",
       "      <th>movie_box_office_revenue</th>\n",
       "      <th>movie_runtime</th>\n",
       "      <th>movie_genres_cleaned</th>\n",
       "      <th>movie_countries_cleaned</th>\n",
       "      <th>movie_languages_cleaned</th>\n",
       "      <th>movie_release_year</th>\n",
       "    </tr>\n",
       "  </thead>\n",
       "  <tbody>\n",
       "    <tr>\n",
       "      <th>0</th>\n",
       "      <td>975900</td>\n",
       "      <td>/m/03vyhn</td>\n",
       "      <td>Ghosts of Mars</td>\n",
       "      <td>2001-08-24</td>\n",
       "      <td>14010832.0</td>\n",
       "      <td>98.0</td>\n",
       "      <td>['Thriller', 'Science Fiction', 'Horror', 'Adv...</td>\n",
       "      <td>United States of America</td>\n",
       "      <td>['English']</td>\n",
       "      <td>2001.0</td>\n",
       "    </tr>\n",
       "    <tr>\n",
       "      <th>1</th>\n",
       "      <td>3196793</td>\n",
       "      <td>/m/08yl5d</td>\n",
       "      <td>Getting Away with Murder: The JonBenét Ramsey ...</td>\n",
       "      <td>2000-02-16</td>\n",
       "      <td>NaN</td>\n",
       "      <td>95.0</td>\n",
       "      <td>['Mystery', 'Biographical film', 'Drama', 'Cri...</td>\n",
       "      <td>United States of America</td>\n",
       "      <td>['English']</td>\n",
       "      <td>2000.0</td>\n",
       "    </tr>\n",
       "    <tr>\n",
       "      <th>2</th>\n",
       "      <td>28463795</td>\n",
       "      <td>/m/0crgdbh</td>\n",
       "      <td>Brun bitter</td>\n",
       "      <td>1988</td>\n",
       "      <td>NaN</td>\n",
       "      <td>83.0</td>\n",
       "      <td>['Crime Fiction', 'Drama']</td>\n",
       "      <td>Norway</td>\n",
       "      <td>['Norwegian']</td>\n",
       "      <td>1988.0</td>\n",
       "    </tr>\n",
       "    <tr>\n",
       "      <th>3</th>\n",
       "      <td>9363483</td>\n",
       "      <td>/m/0285_cd</td>\n",
       "      <td>White Of The Eye</td>\n",
       "      <td>1987</td>\n",
       "      <td>NaN</td>\n",
       "      <td>110.0</td>\n",
       "      <td>['Thriller', 'Erotic thriller', 'Psychological...</td>\n",
       "      <td>United Kingdom</td>\n",
       "      <td>['English']</td>\n",
       "      <td>1987.0</td>\n",
       "    </tr>\n",
       "    <tr>\n",
       "      <th>4</th>\n",
       "      <td>261236</td>\n",
       "      <td>/m/01mrr1</td>\n",
       "      <td>A Woman in Flames</td>\n",
       "      <td>1983</td>\n",
       "      <td>NaN</td>\n",
       "      <td>106.0</td>\n",
       "      <td>['Drama']</td>\n",
       "      <td>Germany</td>\n",
       "      <td>['German']</td>\n",
       "      <td>1983.0</td>\n",
       "    </tr>\n",
       "    <tr>\n",
       "      <th>...</th>\n",
       "      <td>...</td>\n",
       "      <td>...</td>\n",
       "      <td>...</td>\n",
       "      <td>...</td>\n",
       "      <td>...</td>\n",
       "      <td>...</td>\n",
       "      <td>...</td>\n",
       "      <td>...</td>\n",
       "      <td>...</td>\n",
       "      <td>...</td>\n",
       "    </tr>\n",
       "    <tr>\n",
       "      <th>81736</th>\n",
       "      <td>35228177</td>\n",
       "      <td>/m/0j7hxnt</td>\n",
       "      <td>Mermaids: The Body Found</td>\n",
       "      <td>2011-03-19</td>\n",
       "      <td>NaN</td>\n",
       "      <td>120.0</td>\n",
       "      <td>['Drama']</td>\n",
       "      <td>United States of America</td>\n",
       "      <td>['English']</td>\n",
       "      <td>2011.0</td>\n",
       "    </tr>\n",
       "    <tr>\n",
       "      <th>81737</th>\n",
       "      <td>34980460</td>\n",
       "      <td>/m/0g4pl34</td>\n",
       "      <td>Knuckle</td>\n",
       "      <td>2011-01-21</td>\n",
       "      <td>NaN</td>\n",
       "      <td>96.0</td>\n",
       "      <td>['Biographical film', 'Drama', 'Documentary']</td>\n",
       "      <td>Ireland\", \"/m/07ssc\": \"United Kingdom</td>\n",
       "      <td>['English']</td>\n",
       "      <td>2011.0</td>\n",
       "    </tr>\n",
       "    <tr>\n",
       "      <th>81738</th>\n",
       "      <td>9971909</td>\n",
       "      <td>/m/02pygw1</td>\n",
       "      <td>Another Nice Mess</td>\n",
       "      <td>1972-09-22</td>\n",
       "      <td>NaN</td>\n",
       "      <td>66.0</td>\n",
       "      <td>['Satire', 'Comedy']</td>\n",
       "      <td>United States of America</td>\n",
       "      <td>['English']</td>\n",
       "      <td>1972.0</td>\n",
       "    </tr>\n",
       "    <tr>\n",
       "      <th>81739</th>\n",
       "      <td>913762</td>\n",
       "      <td>/m/03pcrp</td>\n",
       "      <td>The Super Dimension Fortress Macross II: Lover...</td>\n",
       "      <td>1992-05-21</td>\n",
       "      <td>NaN</td>\n",
       "      <td>150.0</td>\n",
       "      <td>['Science Fiction', 'Japanese Movies', 'Advent...</td>\n",
       "      <td>Japan</td>\n",
       "      <td>['Japanese']</td>\n",
       "      <td>1992.0</td>\n",
       "    </tr>\n",
       "    <tr>\n",
       "      <th>81740</th>\n",
       "      <td>12476867</td>\n",
       "      <td>/m/02w7zz8</td>\n",
       "      <td>Spliced</td>\n",
       "      <td>2002</td>\n",
       "      <td>NaN</td>\n",
       "      <td>86.0</td>\n",
       "      <td>['Thriller', 'Horror', 'Slasher', 'Teen']</td>\n",
       "      <td>Canada</td>\n",
       "      <td>['English']</td>\n",
       "      <td>2002.0</td>\n",
       "    </tr>\n",
       "  </tbody>\n",
       "</table>\n",
       "<p>81741 rows × 10 columns</p>\n",
       "</div>"
      ],
      "text/plain": [
       "       wikipedia_movie_id freebase_movie_id  \\\n",
       "0                  975900         /m/03vyhn   \n",
       "1                 3196793         /m/08yl5d   \n",
       "2                28463795        /m/0crgdbh   \n",
       "3                 9363483        /m/0285_cd   \n",
       "4                  261236         /m/01mrr1   \n",
       "...                   ...               ...   \n",
       "81736            35228177        /m/0j7hxnt   \n",
       "81737            34980460        /m/0g4pl34   \n",
       "81738             9971909        /m/02pygw1   \n",
       "81739              913762         /m/03pcrp   \n",
       "81740            12476867        /m/02w7zz8   \n",
       "\n",
       "                                              movie_name movie_release_date  \\\n",
       "0                                         Ghosts of Mars         2001-08-24   \n",
       "1      Getting Away with Murder: The JonBenét Ramsey ...         2000-02-16   \n",
       "2                                            Brun bitter               1988   \n",
       "3                                       White Of The Eye               1987   \n",
       "4                                      A Woman in Flames               1983   \n",
       "...                                                  ...                ...   \n",
       "81736                           Mermaids: The Body Found         2011-03-19   \n",
       "81737                                            Knuckle         2011-01-21   \n",
       "81738                                  Another Nice Mess         1972-09-22   \n",
       "81739  The Super Dimension Fortress Macross II: Lover...         1992-05-21   \n",
       "81740                                            Spliced               2002   \n",
       "\n",
       "       movie_box_office_revenue  movie_runtime  \\\n",
       "0                    14010832.0           98.0   \n",
       "1                           NaN           95.0   \n",
       "2                           NaN           83.0   \n",
       "3                           NaN          110.0   \n",
       "4                           NaN          106.0   \n",
       "...                         ...            ...   \n",
       "81736                       NaN          120.0   \n",
       "81737                       NaN           96.0   \n",
       "81738                       NaN           66.0   \n",
       "81739                       NaN          150.0   \n",
       "81740                       NaN           86.0   \n",
       "\n",
       "                                    movie_genres_cleaned  \\\n",
       "0      ['Thriller', 'Science Fiction', 'Horror', 'Adv...   \n",
       "1      ['Mystery', 'Biographical film', 'Drama', 'Cri...   \n",
       "2                             ['Crime Fiction', 'Drama']   \n",
       "3      ['Thriller', 'Erotic thriller', 'Psychological...   \n",
       "4                                              ['Drama']   \n",
       "...                                                  ...   \n",
       "81736                                          ['Drama']   \n",
       "81737      ['Biographical film', 'Drama', 'Documentary']   \n",
       "81738                               ['Satire', 'Comedy']   \n",
       "81739  ['Science Fiction', 'Japanese Movies', 'Advent...   \n",
       "81740          ['Thriller', 'Horror', 'Slasher', 'Teen']   \n",
       "\n",
       "                     movie_countries_cleaned movie_languages_cleaned  \\\n",
       "0                   United States of America             ['English']   \n",
       "1                   United States of America             ['English']   \n",
       "2                                     Norway           ['Norwegian']   \n",
       "3                             United Kingdom             ['English']   \n",
       "4                                    Germany              ['German']   \n",
       "...                                      ...                     ...   \n",
       "81736               United States of America             ['English']   \n",
       "81737  Ireland\", \"/m/07ssc\": \"United Kingdom             ['English']   \n",
       "81738               United States of America             ['English']   \n",
       "81739                                  Japan            ['Japanese']   \n",
       "81740                                 Canada             ['English']   \n",
       "\n",
       "       movie_release_year  \n",
       "0                  2001.0  \n",
       "1                  2000.0  \n",
       "2                  1988.0  \n",
       "3                  1987.0  \n",
       "4                  1983.0  \n",
       "...                   ...  \n",
       "81736              2011.0  \n",
       "81737              2011.0  \n",
       "81738              1972.0  \n",
       "81739              1992.0  \n",
       "81740              2002.0  \n",
       "\n",
       "[81741 rows x 10 columns]"
      ]
     },
     "execution_count": 2,
     "metadata": {},
     "output_type": "execute_result"
    }
   ],
   "source": [
    "movies_path = \"../Data/movies.csv\" \n",
    "movies = pd.read_csv(movies_path)\n",
    "movies['movie_release_year'] = movies['movie_release_date'].str.extract('(\\d{4})', expand=False)\n",
    "movies['movie_release_year'] = pd.to_numeric(movies['movie_release_year'], downcast='integer')\n",
    "movies"
   ]
  },
  {
   "cell_type": "code",
   "execution_count": 3,
   "id": "231dc657",
   "metadata": {},
   "outputs": [
    {
     "data": {
      "text/html": [
       "<div>\n",
       "<style scoped>\n",
       "    .dataframe tbody tr th:only-of-type {\n",
       "        vertical-align: middle;\n",
       "    }\n",
       "\n",
       "    .dataframe tbody tr th {\n",
       "        vertical-align: top;\n",
       "    }\n",
       "\n",
       "    .dataframe thead th {\n",
       "        text-align: right;\n",
       "    }\n",
       "</style>\n",
       "<table border=\"1\" class=\"dataframe\">\n",
       "  <thead>\n",
       "    <tr style=\"text-align: right;\">\n",
       "      <th></th>\n",
       "      <th>wikipedia_movie_id</th>\n",
       "      <th>freebase_movie_id</th>\n",
       "      <th>character_name</th>\n",
       "      <th>actor_dob</th>\n",
       "      <th>actor_gender</th>\n",
       "      <th>actor_height</th>\n",
       "      <th>actor_ethnicity</th>\n",
       "      <th>actor_name</th>\n",
       "      <th>actor_age_release</th>\n",
       "      <th>freebase_char_map</th>\n",
       "      <th>freebase_char_id</th>\n",
       "      <th>freebase_actor_id</th>\n",
       "    </tr>\n",
       "  </thead>\n",
       "  <tbody>\n",
       "    <tr>\n",
       "      <th>0</th>\n",
       "      <td>975900</td>\n",
       "      <td>/m/03vyhn</td>\n",
       "      <td>Akooshay</td>\n",
       "      <td>1958-08-26</td>\n",
       "      <td>F</td>\n",
       "      <td>1.620</td>\n",
       "      <td>NaN</td>\n",
       "      <td>Wanda De Jesus</td>\n",
       "      <td>42.0</td>\n",
       "      <td>/m/0bgchxw</td>\n",
       "      <td>/m/0bgcj3x</td>\n",
       "      <td>/m/03wcfv7</td>\n",
       "    </tr>\n",
       "    <tr>\n",
       "      <th>1</th>\n",
       "      <td>975900</td>\n",
       "      <td>/m/03vyhn</td>\n",
       "      <td>Lieutenant Melanie Ballard</td>\n",
       "      <td>1974-08-15</td>\n",
       "      <td>F</td>\n",
       "      <td>1.780</td>\n",
       "      <td>/m/044038p</td>\n",
       "      <td>Natasha Henstridge</td>\n",
       "      <td>27.0</td>\n",
       "      <td>/m/0jys3m</td>\n",
       "      <td>/m/0bgchn4</td>\n",
       "      <td>/m/0346l4</td>\n",
       "    </tr>\n",
       "    <tr>\n",
       "      <th>2</th>\n",
       "      <td>975900</td>\n",
       "      <td>/m/03vyhn</td>\n",
       "      <td>Desolation Williams</td>\n",
       "      <td>1969-06-15</td>\n",
       "      <td>M</td>\n",
       "      <td>1.727</td>\n",
       "      <td>/m/0x67</td>\n",
       "      <td>Ice Cube</td>\n",
       "      <td>32.0</td>\n",
       "      <td>/m/0jys3g</td>\n",
       "      <td>/m/0bgchn_</td>\n",
       "      <td>/m/01vw26l</td>\n",
       "    </tr>\n",
       "    <tr>\n",
       "      <th>3</th>\n",
       "      <td>975900</td>\n",
       "      <td>/m/03vyhn</td>\n",
       "      <td>Sgt Jericho Butler</td>\n",
       "      <td>1967-09-12</td>\n",
       "      <td>M</td>\n",
       "      <td>1.750</td>\n",
       "      <td>NaN</td>\n",
       "      <td>Jason Statham</td>\n",
       "      <td>33.0</td>\n",
       "      <td>/m/02vchl6</td>\n",
       "      <td>/m/0bgchnq</td>\n",
       "      <td>/m/034hyc</td>\n",
       "    </tr>\n",
       "    <tr>\n",
       "      <th>4</th>\n",
       "      <td>975900</td>\n",
       "      <td>/m/03vyhn</td>\n",
       "      <td>Bashira Kincaid</td>\n",
       "      <td>1977-09-25</td>\n",
       "      <td>F</td>\n",
       "      <td>1.650</td>\n",
       "      <td>NaN</td>\n",
       "      <td>Clea DuVall</td>\n",
       "      <td>23.0</td>\n",
       "      <td>/m/02vbb3r</td>\n",
       "      <td>/m/0bgchp9</td>\n",
       "      <td>/m/01y9xg</td>\n",
       "    </tr>\n",
       "    <tr>\n",
       "      <th>...</th>\n",
       "      <td>...</td>\n",
       "      <td>...</td>\n",
       "      <td>...</td>\n",
       "      <td>...</td>\n",
       "      <td>...</td>\n",
       "      <td>...</td>\n",
       "      <td>...</td>\n",
       "      <td>...</td>\n",
       "      <td>...</td>\n",
       "      <td>...</td>\n",
       "      <td>...</td>\n",
       "      <td>...</td>\n",
       "    </tr>\n",
       "    <tr>\n",
       "      <th>450664</th>\n",
       "      <td>913762</td>\n",
       "      <td>/m/03pcrp</td>\n",
       "      <td>Elensh</td>\n",
       "      <td>1970-05</td>\n",
       "      <td>F</td>\n",
       "      <td>NaN</td>\n",
       "      <td>NaN</td>\n",
       "      <td>Dorothy Elias-Fahn</td>\n",
       "      <td>NaN</td>\n",
       "      <td>/m/0kr406c</td>\n",
       "      <td>/m/0kr406h</td>\n",
       "      <td>/m/0b_vcv</td>\n",
       "    </tr>\n",
       "    <tr>\n",
       "      <th>450665</th>\n",
       "      <td>913762</td>\n",
       "      <td>/m/03pcrp</td>\n",
       "      <td>Hibiki</td>\n",
       "      <td>1965-04-12</td>\n",
       "      <td>M</td>\n",
       "      <td>NaN</td>\n",
       "      <td>NaN</td>\n",
       "      <td>Jonathan Fahn</td>\n",
       "      <td>27.0</td>\n",
       "      <td>/m/0kr405_</td>\n",
       "      <td>/m/0kr4090</td>\n",
       "      <td>/m/0bx7_j</td>\n",
       "    </tr>\n",
       "    <tr>\n",
       "      <th>450666</th>\n",
       "      <td>28308153</td>\n",
       "      <td>/m/0cp05t9</td>\n",
       "      <td>NaN</td>\n",
       "      <td>1941-11-18</td>\n",
       "      <td>M</td>\n",
       "      <td>1.730</td>\n",
       "      <td>/m/02w7gg</td>\n",
       "      <td>David Hemmings</td>\n",
       "      <td>15.0</td>\n",
       "      <td>/m/0g8ngmc</td>\n",
       "      <td>NaN</td>\n",
       "      <td>/m/022g44</td>\n",
       "    </tr>\n",
       "    <tr>\n",
       "      <th>450667</th>\n",
       "      <td>28308153</td>\n",
       "      <td>/m/0cp05t9</td>\n",
       "      <td>NaN</td>\n",
       "      <td>NaN</td>\n",
       "      <td>NaN</td>\n",
       "      <td>NaN</td>\n",
       "      <td>NaN</td>\n",
       "      <td>Roberta Paterson</td>\n",
       "      <td>NaN</td>\n",
       "      <td>/m/0g8ngmj</td>\n",
       "      <td>NaN</td>\n",
       "      <td>/m/0g8ngmm</td>\n",
       "    </tr>\n",
       "    <tr>\n",
       "      <th>450668</th>\n",
       "      <td>28308153</td>\n",
       "      <td>/m/0cp05t9</td>\n",
       "      <td>NaN</td>\n",
       "      <td>NaN</td>\n",
       "      <td>NaN</td>\n",
       "      <td>NaN</td>\n",
       "      <td>NaN</td>\n",
       "      <td>John Rogers</td>\n",
       "      <td>NaN</td>\n",
       "      <td>/m/0g8ngmw</td>\n",
       "      <td>NaN</td>\n",
       "      <td>/m/0btz19d</td>\n",
       "    </tr>\n",
       "  </tbody>\n",
       "</table>\n",
       "<p>450669 rows × 12 columns</p>\n",
       "</div>"
      ],
      "text/plain": [
       "        wikipedia_movie_id freebase_movie_id              character_name  \\\n",
       "0                   975900         /m/03vyhn                    Akooshay   \n",
       "1                   975900         /m/03vyhn  Lieutenant Melanie Ballard   \n",
       "2                   975900         /m/03vyhn         Desolation Williams   \n",
       "3                   975900         /m/03vyhn          Sgt Jericho Butler   \n",
       "4                   975900         /m/03vyhn             Bashira Kincaid   \n",
       "...                    ...               ...                         ...   \n",
       "450664              913762         /m/03pcrp                      Elensh   \n",
       "450665              913762         /m/03pcrp                      Hibiki   \n",
       "450666            28308153        /m/0cp05t9                         NaN   \n",
       "450667            28308153        /m/0cp05t9                         NaN   \n",
       "450668            28308153        /m/0cp05t9                         NaN   \n",
       "\n",
       "         actor_dob actor_gender  actor_height actor_ethnicity  \\\n",
       "0       1958-08-26            F         1.620             NaN   \n",
       "1       1974-08-15            F         1.780      /m/044038p   \n",
       "2       1969-06-15            M         1.727         /m/0x67   \n",
       "3       1967-09-12            M         1.750             NaN   \n",
       "4       1977-09-25            F         1.650             NaN   \n",
       "...            ...          ...           ...             ...   \n",
       "450664     1970-05            F           NaN             NaN   \n",
       "450665  1965-04-12            M           NaN             NaN   \n",
       "450666  1941-11-18            M         1.730       /m/02w7gg   \n",
       "450667         NaN          NaN           NaN             NaN   \n",
       "450668         NaN          NaN           NaN             NaN   \n",
       "\n",
       "                actor_name  actor_age_release freebase_char_map  \\\n",
       "0           Wanda De Jesus               42.0        /m/0bgchxw   \n",
       "1       Natasha Henstridge               27.0         /m/0jys3m   \n",
       "2                 Ice Cube               32.0         /m/0jys3g   \n",
       "3            Jason Statham               33.0        /m/02vchl6   \n",
       "4              Clea DuVall               23.0        /m/02vbb3r   \n",
       "...                    ...                ...               ...   \n",
       "450664  Dorothy Elias-Fahn                NaN        /m/0kr406c   \n",
       "450665       Jonathan Fahn               27.0        /m/0kr405_   \n",
       "450666      David Hemmings               15.0        /m/0g8ngmc   \n",
       "450667    Roberta Paterson                NaN        /m/0g8ngmj   \n",
       "450668         John Rogers                NaN        /m/0g8ngmw   \n",
       "\n",
       "       freebase_char_id freebase_actor_id  \n",
       "0            /m/0bgcj3x        /m/03wcfv7  \n",
       "1            /m/0bgchn4         /m/0346l4  \n",
       "2            /m/0bgchn_        /m/01vw26l  \n",
       "3            /m/0bgchnq         /m/034hyc  \n",
       "4            /m/0bgchp9         /m/01y9xg  \n",
       "...                 ...               ...  \n",
       "450664       /m/0kr406h         /m/0b_vcv  \n",
       "450665       /m/0kr4090         /m/0bx7_j  \n",
       "450666              NaN         /m/022g44  \n",
       "450667              NaN        /m/0g8ngmm  \n",
       "450668              NaN        /m/0btz19d  \n",
       "\n",
       "[450669 rows x 12 columns]"
      ]
     },
     "execution_count": 3,
     "metadata": {},
     "output_type": "execute_result"
    }
   ],
   "source": [
    "characters_path = \"../Data/characters.csv\" \n",
    "characters = pd.read_csv(characters_path)\n",
    "characters"
   ]
  },
  {
   "cell_type": "code",
   "execution_count": 4,
   "id": "9719d2b5",
   "metadata": {},
   "outputs": [
    {
     "data": {
      "text/html": [
       "<div>\n",
       "<style scoped>\n",
       "    .dataframe tbody tr th:only-of-type {\n",
       "        vertical-align: middle;\n",
       "    }\n",
       "\n",
       "    .dataframe tbody tr th {\n",
       "        vertical-align: top;\n",
       "    }\n",
       "\n",
       "    .dataframe thead th {\n",
       "        text-align: right;\n",
       "    }\n",
       "</style>\n",
       "<table border=\"1\" class=\"dataframe\">\n",
       "  <thead>\n",
       "    <tr style=\"text-align: right;\">\n",
       "      <th></th>\n",
       "      <th>wikipedia_movie_id</th>\n",
       "      <th>freebase_movie_id</th>\n",
       "      <th>character_name</th>\n",
       "      <th>actor_dob</th>\n",
       "      <th>actor_gender</th>\n",
       "      <th>actor_height</th>\n",
       "      <th>actor_ethnicity</th>\n",
       "      <th>actor_name</th>\n",
       "      <th>actor_age_release</th>\n",
       "      <th>freebase_char_map</th>\n",
       "      <th>freebase_char_id</th>\n",
       "      <th>freebase_actor_id</th>\n",
       "    </tr>\n",
       "  </thead>\n",
       "  <tbody>\n",
       "    <tr>\n",
       "      <th>239891</th>\n",
       "      <td>3217</td>\n",
       "      <td>/m/014hr</td>\n",
       "      <td>S-Mart Clerk</td>\n",
       "      <td>1965-12-14</td>\n",
       "      <td>M</td>\n",
       "      <td>1.87</td>\n",
       "      <td>NaN</td>\n",
       "      <td>Ted Raimi</td>\n",
       "      <td>26.0</td>\n",
       "      <td>/m/0hgcnkm</td>\n",
       "      <td>/m/0hgcnkq</td>\n",
       "      <td>/m/07qn0</td>\n",
       "    </tr>\n",
       "    <tr>\n",
       "      <th>239892</th>\n",
       "      <td>3217</td>\n",
       "      <td>/m/014hr</td>\n",
       "      <td>Fake shemp</td>\n",
       "      <td>1956</td>\n",
       "      <td>M</td>\n",
       "      <td>NaN</td>\n",
       "      <td>NaN</td>\n",
       "      <td>Ivan Raimi</td>\n",
       "      <td>36.0</td>\n",
       "      <td>/m/04hzm56</td>\n",
       "      <td>/m/089hc6</td>\n",
       "      <td>/m/0gmjf8</td>\n",
       "    </tr>\n",
       "    <tr>\n",
       "      <th>239893</th>\n",
       "      <td>3217</td>\n",
       "      <td>/m/014hr</td>\n",
       "      <td>Ash Williams</td>\n",
       "      <td>1958-06-22</td>\n",
       "      <td>M</td>\n",
       "      <td>1.85</td>\n",
       "      <td>NaN</td>\n",
       "      <td>Bruce Campbell</td>\n",
       "      <td>34.0</td>\n",
       "      <td>/m/0jtqtd</td>\n",
       "      <td>/m/06_krl</td>\n",
       "      <td>/m/01h8f</td>\n",
       "    </tr>\n",
       "    <tr>\n",
       "      <th>239894</th>\n",
       "      <td>3217</td>\n",
       "      <td>/m/014hr</td>\n",
       "      <td>Evil Ash</td>\n",
       "      <td>1958-06-22</td>\n",
       "      <td>M</td>\n",
       "      <td>1.85</td>\n",
       "      <td>NaN</td>\n",
       "      <td>Bruce Campbell</td>\n",
       "      <td>34.0</td>\n",
       "      <td>/m/0jtgxg0</td>\n",
       "      <td>/m/0jtgxg3</td>\n",
       "      <td>/m/01h8f</td>\n",
       "    </tr>\n",
       "    <tr>\n",
       "      <th>239895</th>\n",
       "      <td>3217</td>\n",
       "      <td>/m/014hr</td>\n",
       "      <td>Cowardly Warrior</td>\n",
       "      <td>1965-12-14</td>\n",
       "      <td>M</td>\n",
       "      <td>1.87</td>\n",
       "      <td>NaN</td>\n",
       "      <td>Ted Raimi</td>\n",
       "      <td>26.0</td>\n",
       "      <td>/m/04hzm5x</td>\n",
       "      <td>/m/0hgcnjh</td>\n",
       "      <td>/m/07qn0</td>\n",
       "    </tr>\n",
       "    <tr>\n",
       "      <th>239896</th>\n",
       "      <td>3217</td>\n",
       "      <td>/m/014hr</td>\n",
       "      <td>Linda</td>\n",
       "      <td>1964-01-27</td>\n",
       "      <td>F</td>\n",
       "      <td>1.68</td>\n",
       "      <td>/m/07hwkr</td>\n",
       "      <td>Bridget Fonda</td>\n",
       "      <td>28.0</td>\n",
       "      <td>/m/0jtqtq</td>\n",
       "      <td>/m/0h2hxrl</td>\n",
       "      <td>/m/01yd8v</td>\n",
       "    </tr>\n",
       "    <tr>\n",
       "      <th>239897</th>\n",
       "      <td>3217</td>\n",
       "      <td>/m/014hr</td>\n",
       "      <td>Sheila</td>\n",
       "      <td>1965-08-11</td>\n",
       "      <td>F</td>\n",
       "      <td>1.73</td>\n",
       "      <td>/m/06v41q</td>\n",
       "      <td>Embeth Davidtz</td>\n",
       "      <td>27.0</td>\n",
       "      <td>/m/0jtqtk</td>\n",
       "      <td>/m/0h36j9w</td>\n",
       "      <td>/m/034b7r</td>\n",
       "    </tr>\n",
       "    <tr>\n",
       "      <th>239898</th>\n",
       "      <td>3217</td>\n",
       "      <td>/m/014hr</td>\n",
       "      <td>Possessed Witch</td>\n",
       "      <td>1957-09-04</td>\n",
       "      <td>F</td>\n",
       "      <td>1.75</td>\n",
       "      <td>NaN</td>\n",
       "      <td>Patricia Tallman</td>\n",
       "      <td>35.0</td>\n",
       "      <td>/m/04hzm5r</td>\n",
       "      <td>/m/0hgcnl6</td>\n",
       "      <td>/m/045kf0</td>\n",
       "    </tr>\n",
       "    <tr>\n",
       "      <th>239899</th>\n",
       "      <td>3217</td>\n",
       "      <td>/m/014hr</td>\n",
       "      <td>Duke Henry the Red</td>\n",
       "      <td>1955</td>\n",
       "      <td>M</td>\n",
       "      <td>NaN</td>\n",
       "      <td>NaN</td>\n",
       "      <td>Richard Grove</td>\n",
       "      <td>37.0</td>\n",
       "      <td>/m/04hzm5d</td>\n",
       "      <td>/m/0h5tv3s</td>\n",
       "      <td>/m/04hzm5h</td>\n",
       "    </tr>\n",
       "    <tr>\n",
       "      <th>239900</th>\n",
       "      <td>3217</td>\n",
       "      <td>/m/014hr</td>\n",
       "      <td>Second Supportive Villager</td>\n",
       "      <td>1965-12-14</td>\n",
       "      <td>M</td>\n",
       "      <td>1.87</td>\n",
       "      <td>NaN</td>\n",
       "      <td>Ted Raimi</td>\n",
       "      <td>26.0</td>\n",
       "      <td>/m/0hgcnk7</td>\n",
       "      <td>/m/0hgcnkb</td>\n",
       "      <td>/m/07qn0</td>\n",
       "    </tr>\n",
       "    <tr>\n",
       "      <th>239901</th>\n",
       "      <td>3217</td>\n",
       "      <td>/m/014hr</td>\n",
       "      <td>Wiseman</td>\n",
       "      <td>1936-09-11</td>\n",
       "      <td>M</td>\n",
       "      <td>NaN</td>\n",
       "      <td>NaN</td>\n",
       "      <td>Ian Abercrombie</td>\n",
       "      <td>56.0</td>\n",
       "      <td>/m/04hzm6d</td>\n",
       "      <td>/m/0hgcnjq</td>\n",
       "      <td>/m/090_hs</td>\n",
       "    </tr>\n",
       "    <tr>\n",
       "      <th>239902</th>\n",
       "      <td>3217</td>\n",
       "      <td>/m/014hr</td>\n",
       "      <td>Gold Tooth</td>\n",
       "      <td>NaN</td>\n",
       "      <td>NaN</td>\n",
       "      <td>NaN</td>\n",
       "      <td>NaN</td>\n",
       "      <td>Michael Earl Reid</td>\n",
       "      <td>NaN</td>\n",
       "      <td>/m/04hzm61</td>\n",
       "      <td>/m/0hgcnk0</td>\n",
       "      <td>/m/04hzm64</td>\n",
       "    </tr>\n",
       "    <tr>\n",
       "      <th>239903</th>\n",
       "      <td>3217</td>\n",
       "      <td>/m/014hr</td>\n",
       "      <td>Blacksmith</td>\n",
       "      <td>NaN</td>\n",
       "      <td>M</td>\n",
       "      <td>NaN</td>\n",
       "      <td>NaN</td>\n",
       "      <td>Timothy Patrick Quill</td>\n",
       "      <td>NaN</td>\n",
       "      <td>/m/0gbymb7</td>\n",
       "      <td>/m/0hgcnk_</td>\n",
       "      <td>/m/0gbymbb</td>\n",
       "    </tr>\n",
       "    <tr>\n",
       "      <th>239904</th>\n",
       "      <td>3217</td>\n",
       "      <td>/m/014hr</td>\n",
       "      <td>Lord Arthur</td>\n",
       "      <td>1958-07-29</td>\n",
       "      <td>M</td>\n",
       "      <td>1.87</td>\n",
       "      <td>NaN</td>\n",
       "      <td>Marcus Gilbert</td>\n",
       "      <td>34.0</td>\n",
       "      <td>/m/0jtqtw</td>\n",
       "      <td>/m/0h5tv35</td>\n",
       "      <td>/m/06hnmy</td>\n",
       "    </tr>\n",
       "  </tbody>\n",
       "</table>\n",
       "</div>"
      ],
      "text/plain": [
       "        wikipedia_movie_id freebase_movie_id              character_name  \\\n",
       "239891                3217          /m/014hr                S-Mart Clerk   \n",
       "239892                3217          /m/014hr                  Fake shemp   \n",
       "239893                3217          /m/014hr                Ash Williams   \n",
       "239894                3217          /m/014hr                    Evil Ash   \n",
       "239895                3217          /m/014hr            Cowardly Warrior   \n",
       "239896                3217          /m/014hr                       Linda   \n",
       "239897                3217          /m/014hr                      Sheila   \n",
       "239898                3217          /m/014hr             Possessed Witch   \n",
       "239899                3217          /m/014hr          Duke Henry the Red   \n",
       "239900                3217          /m/014hr  Second Supportive Villager   \n",
       "239901                3217          /m/014hr                     Wiseman   \n",
       "239902                3217          /m/014hr                  Gold Tooth   \n",
       "239903                3217          /m/014hr                  Blacksmith   \n",
       "239904                3217          /m/014hr                 Lord Arthur   \n",
       "\n",
       "         actor_dob actor_gender  actor_height actor_ethnicity  \\\n",
       "239891  1965-12-14            M          1.87             NaN   \n",
       "239892        1956            M           NaN             NaN   \n",
       "239893  1958-06-22            M          1.85             NaN   \n",
       "239894  1958-06-22            M          1.85             NaN   \n",
       "239895  1965-12-14            M          1.87             NaN   \n",
       "239896  1964-01-27            F          1.68       /m/07hwkr   \n",
       "239897  1965-08-11            F          1.73       /m/06v41q   \n",
       "239898  1957-09-04            F          1.75             NaN   \n",
       "239899        1955            M           NaN             NaN   \n",
       "239900  1965-12-14            M          1.87             NaN   \n",
       "239901  1936-09-11            M           NaN             NaN   \n",
       "239902         NaN          NaN           NaN             NaN   \n",
       "239903         NaN            M           NaN             NaN   \n",
       "239904  1958-07-29            M          1.87             NaN   \n",
       "\n",
       "                   actor_name  actor_age_release freebase_char_map  \\\n",
       "239891              Ted Raimi               26.0        /m/0hgcnkm   \n",
       "239892             Ivan Raimi               36.0        /m/04hzm56   \n",
       "239893         Bruce Campbell               34.0         /m/0jtqtd   \n",
       "239894         Bruce Campbell               34.0        /m/0jtgxg0   \n",
       "239895              Ted Raimi               26.0        /m/04hzm5x   \n",
       "239896          Bridget Fonda               28.0         /m/0jtqtq   \n",
       "239897         Embeth Davidtz               27.0         /m/0jtqtk   \n",
       "239898       Patricia Tallman               35.0        /m/04hzm5r   \n",
       "239899          Richard Grove               37.0        /m/04hzm5d   \n",
       "239900              Ted Raimi               26.0        /m/0hgcnk7   \n",
       "239901        Ian Abercrombie               56.0        /m/04hzm6d   \n",
       "239902      Michael Earl Reid                NaN        /m/04hzm61   \n",
       "239903  Timothy Patrick Quill                NaN        /m/0gbymb7   \n",
       "239904         Marcus Gilbert               34.0         /m/0jtqtw   \n",
       "\n",
       "       freebase_char_id freebase_actor_id  \n",
       "239891       /m/0hgcnkq          /m/07qn0  \n",
       "239892        /m/089hc6         /m/0gmjf8  \n",
       "239893        /m/06_krl          /m/01h8f  \n",
       "239894       /m/0jtgxg3          /m/01h8f  \n",
       "239895       /m/0hgcnjh          /m/07qn0  \n",
       "239896       /m/0h2hxrl         /m/01yd8v  \n",
       "239897       /m/0h36j9w         /m/034b7r  \n",
       "239898       /m/0hgcnl6         /m/045kf0  \n",
       "239899       /m/0h5tv3s        /m/04hzm5h  \n",
       "239900       /m/0hgcnkb          /m/07qn0  \n",
       "239901       /m/0hgcnjq         /m/090_hs  \n",
       "239902       /m/0hgcnk0        /m/04hzm64  \n",
       "239903       /m/0hgcnk_        /m/0gbymbb  \n",
       "239904       /m/0h5tv35         /m/06hnmy  "
      ]
     },
     "execution_count": 4,
     "metadata": {},
     "output_type": "execute_result"
    }
   ],
   "source": [
    "characters[characters['wikipedia_movie_id']==3217]"
   ]
  },
  {
   "cell_type": "markdown",
   "id": "f73618df",
   "metadata": {},
   "source": [
    "## Load Persona CMU"
   ]
  },
  {
   "cell_type": "code",
   "execution_count": 5,
   "id": "662e8676",
   "metadata": {},
   "outputs": [
    {
     "data": {
      "text/html": [
       "<div>\n",
       "<style scoped>\n",
       "    .dataframe tbody tr th:only-of-type {\n",
       "        vertical-align: middle;\n",
       "    }\n",
       "\n",
       "    .dataframe tbody tr th {\n",
       "        vertical-align: top;\n",
       "    }\n",
       "\n",
       "    .dataframe thead th {\n",
       "        text-align: right;\n",
       "    }\n",
       "</style>\n",
       "<table border=\"1\" class=\"dataframe\">\n",
       "  <thead>\n",
       "    <tr style=\"text-align: right;\">\n",
       "      <th></th>\n",
       "      <th>freebase_char_map</th>\n",
       "      <th>wikipedia_movie_id</th>\n",
       "      <th>movie_name</th>\n",
       "      <th>char_name</th>\n",
       "      <th>related_name</th>\n",
       "      <th>token</th>\n",
       "      <th>persona_code</th>\n",
       "      <th>persona_distribution</th>\n",
       "    </tr>\n",
       "  </thead>\n",
       "  <tbody>\n",
       "    <tr>\n",
       "      <th>0</th>\n",
       "      <td>e7</td>\n",
       "      <td>10000053</td>\n",
       "      <td>The Trap</td>\n",
       "      <td>she</td>\n",
       "      <td>her</td>\n",
       "      <td>5</td>\n",
       "      <td>36</td>\n",
       "      <td>[0.01, 0.01, 0.0, 0.0, 0.0, 0.0, 0.01, 0.0, 0....</td>\n",
       "    </tr>\n",
       "    <tr>\n",
       "      <th>1</th>\n",
       "      <td>e8</td>\n",
       "      <td>10000053</td>\n",
       "      <td>The Trap</td>\n",
       "      <td>she</td>\n",
       "      <td>her</td>\n",
       "      <td>5</td>\n",
       "      <td>49</td>\n",
       "      <td>[0.0, 0.0, 0.0, 0.01, 0.0, 0.0, 0.0, 0.0, 0.0,...</td>\n",
       "    </tr>\n",
       "    <tr>\n",
       "      <th>2</th>\n",
       "      <td>e12</td>\n",
       "      <td>10000053</td>\n",
       "      <td>The Trap</td>\n",
       "      <td>he</td>\n",
       "      <td>his</td>\n",
       "      <td>7</td>\n",
       "      <td>34</td>\n",
       "      <td>[0.1, 0.0, 0.0, 0.02, 0.0, 0.0, 0.02, 0.0, 0.0...</td>\n",
       "    </tr>\n",
       "    <tr>\n",
       "      <th>3</th>\n",
       "      <td>e19</td>\n",
       "      <td>10000053</td>\n",
       "      <td>The Trap</td>\n",
       "      <td>she</td>\n",
       "      <td>her</td>\n",
       "      <td>6</td>\n",
       "      <td>49</td>\n",
       "      <td>[0.01, 0.0, 0.0, 0.0, 0.0, 0.0, 0.0, 0.0, 0.0,...</td>\n",
       "    </tr>\n",
       "    <tr>\n",
       "      <th>4</th>\n",
       "      <td>e4</td>\n",
       "      <td>10000053</td>\n",
       "      <td>The Trap</td>\n",
       "      <td>Eve</td>\n",
       "      <td>Eve</td>\n",
       "      <td>11</td>\n",
       "      <td>31</td>\n",
       "      <td>[0.04, 0.0, 0.0, 0.0, 0.0, 0.0, 0.0, 0.0, 0.0,...</td>\n",
       "    </tr>\n",
       "  </tbody>\n",
       "</table>\n",
       "</div>"
      ],
      "text/plain": [
       "  freebase_char_map  wikipedia_movie_id movie_name char_name related_name  \\\n",
       "0                e7            10000053   The Trap       she          her   \n",
       "1                e8            10000053   The Trap       she          her   \n",
       "2               e12            10000053   The Trap        he          his   \n",
       "3               e19            10000053   The Trap       she          her   \n",
       "4                e4            10000053   The Trap       Eve          Eve   \n",
       "\n",
       "   token  persona_code                               persona_distribution  \n",
       "0      5            36  [0.01, 0.01, 0.0, 0.0, 0.0, 0.0, 0.01, 0.0, 0....  \n",
       "1      5            49  [0.0, 0.0, 0.0, 0.01, 0.0, 0.0, 0.0, 0.0, 0.0,...  \n",
       "2      7            34  [0.1, 0.0, 0.0, 0.02, 0.0, 0.0, 0.02, 0.0, 0.0...  \n",
       "3      6            49  [0.01, 0.0, 0.0, 0.0, 0.0, 0.0, 0.0, 0.0, 0.0,...  \n",
       "4     11            31  [0.04, 0.0, 0.0, 0.0, 0.0, 0.0, 0.0, 0.0, 0.0,...  "
      ]
     },
     "execution_count": 5,
     "metadata": {},
     "output_type": "execute_result"
    }
   ],
   "source": [
    "# Load Data\n",
    "personas = pd.read_csv('../Data/Persona/25.100.lda.log.txt', sep='\\t', header=None)\n",
    "personas.columns = [\n",
    "    'freebase_char_map',\n",
    "    'wikipedia_movie_id',\n",
    "    'movie_name',\n",
    "    'char_name',\n",
    "    'related_name',\n",
    "    'token',\n",
    "    'persona_code',\n",
    "    'persona_distribution'\n",
    "]\n",
    "\n",
    "personas['persona_distribution'] = personas['persona_distribution'].apply(\n",
    "    lambda x: np.array([float(num) for num in x.split()])\n",
    ")\n",
    "\n",
    "personas.head()"
   ]
  },
  {
   "cell_type": "markdown",
   "id": "9148afda",
   "metadata": {},
   "source": [
    "## Merge data"
   ]
  },
  {
   "cell_type": "code",
   "execution_count": 6,
   "id": "c2f41d6b",
   "metadata": {},
   "outputs": [
    {
     "data": {
      "text/html": [
       "<div>\n",
       "<style scoped>\n",
       "    .dataframe tbody tr th:only-of-type {\n",
       "        vertical-align: middle;\n",
       "    }\n",
       "\n",
       "    .dataframe tbody tr th {\n",
       "        vertical-align: top;\n",
       "    }\n",
       "\n",
       "    .dataframe thead th {\n",
       "        text-align: right;\n",
       "    }\n",
       "</style>\n",
       "<table border=\"1\" class=\"dataframe\">\n",
       "  <thead>\n",
       "    <tr style=\"text-align: right;\">\n",
       "      <th></th>\n",
       "      <th>freebase_char_map</th>\n",
       "      <th>wikipedia_movie_id</th>\n",
       "      <th>movie_name</th>\n",
       "      <th>char_name</th>\n",
       "      <th>related_name</th>\n",
       "      <th>token</th>\n",
       "      <th>persona_code</th>\n",
       "      <th>persona_distribution</th>\n",
       "      <th>freebase_movie_id</th>\n",
       "      <th>character_name</th>\n",
       "      <th>actor_dob</th>\n",
       "      <th>actor_gender</th>\n",
       "      <th>actor_height</th>\n",
       "      <th>actor_ethnicity</th>\n",
       "      <th>actor_name</th>\n",
       "      <th>actor_age_release</th>\n",
       "      <th>freebase_char_id</th>\n",
       "      <th>freebase_actor_id</th>\n",
       "    </tr>\n",
       "  </thead>\n",
       "  <tbody>\n",
       "    <tr>\n",
       "      <th>0</th>\n",
       "      <td>/m/02vcl4m</td>\n",
       "      <td>10004330</td>\n",
       "      <td>Halls of Montezuma</td>\n",
       "      <td>Pigeon Lane</td>\n",
       "      <td>Zelenko</td>\n",
       "      <td>5</td>\n",
       "      <td>5</td>\n",
       "      <td>[0.0, 0.0, 0.0, 0.0, 0.0, 0.58, 0.21, 0.0, 0.0...</td>\n",
       "      <td>/m/02pzjvb</td>\n",
       "      <td>Pigeon Lane</td>\n",
       "      <td>1919-02-18</td>\n",
       "      <td>M</td>\n",
       "      <td>1.930</td>\n",
       "      <td>/m/0ffjvd</td>\n",
       "      <td>Jack Palance</td>\n",
       "      <td>30.0</td>\n",
       "      <td>/m/0h5cz0m</td>\n",
       "      <td>/m/02t_w8</td>\n",
       "    </tr>\n",
       "    <tr>\n",
       "      <th>1</th>\n",
       "      <td>/m/02tb80v</td>\n",
       "      <td>10004330</td>\n",
       "      <td>Halls of Montezuma</td>\n",
       "      <td>Lt. Col. Gilfillan</td>\n",
       "      <td>Gilfillan</td>\n",
       "      <td>3</td>\n",
       "      <td>47</td>\n",
       "      <td>[0.0, 0.01, 0.0, 0.0, 0.0, 0.25, 0.0, 0.0, 0.0...</td>\n",
       "      <td>/m/02pzjvb</td>\n",
       "      <td>Lt. Col. Gilfillan</td>\n",
       "      <td>1917-06-18</td>\n",
       "      <td>M</td>\n",
       "      <td>1.854</td>\n",
       "      <td>NaN</td>\n",
       "      <td>Richard Boone</td>\n",
       "      <td>32.0</td>\n",
       "      <td>/m/0h4z9hs</td>\n",
       "      <td>/m/03c2b1</td>\n",
       "    </tr>\n",
       "    <tr>\n",
       "      <th>2</th>\n",
       "      <td>/m/02vc485</td>\n",
       "      <td>10016740</td>\n",
       "      <td>Mela</td>\n",
       "      <td>Roopa Singh</td>\n",
       "      <td>her</td>\n",
       "      <td>21</td>\n",
       "      <td>43</td>\n",
       "      <td>[0.0, 0.0, 0.0, 0.0, 0.0, 0.0, 0.0, 0.0, 0.0, ...</td>\n",
       "      <td>/m/02pzxpz</td>\n",
       "      <td>Roopa Singh</td>\n",
       "      <td>1974-12-29</td>\n",
       "      <td>F</td>\n",
       "      <td>1.630</td>\n",
       "      <td>/m/0dryh9k</td>\n",
       "      <td>Twinkle Khanna</td>\n",
       "      <td>25.0</td>\n",
       "      <td>/m/0h2t0j9</td>\n",
       "      <td>/m/04rs51</td>\n",
       "    </tr>\n",
       "    <tr>\n",
       "      <th>3</th>\n",
       "      <td>/m/02tbjr0</td>\n",
       "      <td>10016740</td>\n",
       "      <td>Mela</td>\n",
       "      <td>Kishan Pyare</td>\n",
       "      <td>Kishan and Roopa</td>\n",
       "      <td>14</td>\n",
       "      <td>18</td>\n",
       "      <td>[0.0, 0.0, 0.0, 0.0, 0.0, 0.0, 0.0, 0.0, 0.0, ...</td>\n",
       "      <td>/m/02pzxpz</td>\n",
       "      <td>Kishan Pyare</td>\n",
       "      <td>1965-03-14</td>\n",
       "      <td>M</td>\n",
       "      <td>1.680</td>\n",
       "      <td>/m/0dllcfn</td>\n",
       "      <td>Aamir Khan</td>\n",
       "      <td>34.0</td>\n",
       "      <td>/m/0gxp8dq</td>\n",
       "      <td>/m/015npr</td>\n",
       "    </tr>\n",
       "    <tr>\n",
       "      <th>4</th>\n",
       "      <td>/m/02vd85q</td>\n",
       "      <td>10016740</td>\n",
       "      <td>Mela</td>\n",
       "      <td>Shankar Shane</td>\n",
       "      <td>Shankar</td>\n",
       "      <td>10</td>\n",
       "      <td>18</td>\n",
       "      <td>[0.0, 0.0, 0.0, 0.0, 0.0, 0.0, 0.0, 0.0, 0.0, ...</td>\n",
       "      <td>/m/02pzxpz</td>\n",
       "      <td>Shankar Shane</td>\n",
       "      <td>1966-09</td>\n",
       "      <td>M</td>\n",
       "      <td>NaN</td>\n",
       "      <td>/m/0dryh9k</td>\n",
       "      <td>Faisal Khan</td>\n",
       "      <td>NaN</td>\n",
       "      <td>/m/0h74mpf</td>\n",
       "      <td>/m/07457s</td>\n",
       "    </tr>\n",
       "  </tbody>\n",
       "</table>\n",
       "</div>"
      ],
      "text/plain": [
       "  freebase_char_map  wikipedia_movie_id          movie_name  \\\n",
       "0        /m/02vcl4m            10004330  Halls of Montezuma   \n",
       "1        /m/02tb80v            10004330  Halls of Montezuma   \n",
       "2        /m/02vc485            10016740                Mela   \n",
       "3        /m/02tbjr0            10016740                Mela   \n",
       "4        /m/02vd85q            10016740                Mela   \n",
       "\n",
       "            char_name      related_name  token  persona_code  \\\n",
       "0         Pigeon Lane           Zelenko      5             5   \n",
       "1  Lt. Col. Gilfillan         Gilfillan      3            47   \n",
       "2         Roopa Singh               her     21            43   \n",
       "3        Kishan Pyare  Kishan and Roopa     14            18   \n",
       "4       Shankar Shane           Shankar     10            18   \n",
       "\n",
       "                                persona_distribution freebase_movie_id  \\\n",
       "0  [0.0, 0.0, 0.0, 0.0, 0.0, 0.58, 0.21, 0.0, 0.0...        /m/02pzjvb   \n",
       "1  [0.0, 0.01, 0.0, 0.0, 0.0, 0.25, 0.0, 0.0, 0.0...        /m/02pzjvb   \n",
       "2  [0.0, 0.0, 0.0, 0.0, 0.0, 0.0, 0.0, 0.0, 0.0, ...        /m/02pzxpz   \n",
       "3  [0.0, 0.0, 0.0, 0.0, 0.0, 0.0, 0.0, 0.0, 0.0, ...        /m/02pzxpz   \n",
       "4  [0.0, 0.0, 0.0, 0.0, 0.0, 0.0, 0.0, 0.0, 0.0, ...        /m/02pzxpz   \n",
       "\n",
       "       character_name   actor_dob actor_gender  actor_height actor_ethnicity  \\\n",
       "0         Pigeon Lane  1919-02-18            M         1.930       /m/0ffjvd   \n",
       "1  Lt. Col. Gilfillan  1917-06-18            M         1.854             NaN   \n",
       "2         Roopa Singh  1974-12-29            F         1.630      /m/0dryh9k   \n",
       "3        Kishan Pyare  1965-03-14            M         1.680      /m/0dllcfn   \n",
       "4       Shankar Shane     1966-09            M           NaN      /m/0dryh9k   \n",
       "\n",
       "       actor_name  actor_age_release freebase_char_id freebase_actor_id  \n",
       "0    Jack Palance               30.0       /m/0h5cz0m         /m/02t_w8  \n",
       "1   Richard Boone               32.0       /m/0h4z9hs         /m/03c2b1  \n",
       "2  Twinkle Khanna               25.0       /m/0h2t0j9         /m/04rs51  \n",
       "3      Aamir Khan               34.0       /m/0gxp8dq         /m/015npr  \n",
       "4     Faisal Khan                NaN       /m/0h74mpf         /m/07457s  "
      ]
     },
     "execution_count": 6,
     "metadata": {},
     "output_type": "execute_result"
    }
   ],
   "source": [
    "# personas + characters\n",
    "personas_characters = personas.merge(characters, on=['freebase_char_map','wikipedia_movie_id'], how='inner')\n",
    "personas_characters.head()"
   ]
  },
  {
   "cell_type": "code",
   "execution_count": 7,
   "id": "b886fc94",
   "metadata": {},
   "outputs": [
    {
     "name": "stdout",
     "output_type": "stream",
     "text": [
      "<class 'pandas.core.frame.DataFrame'>\n",
      "Int64Index: 38432 entries, 0 to 38431\n",
      "Data columns (total 18 columns):\n",
      " #   Column                Non-Null Count  Dtype  \n",
      "---  ------                --------------  -----  \n",
      " 0   freebase_char_map     38432 non-null  object \n",
      " 1   wikipedia_movie_id    38432 non-null  int64  \n",
      " 2   movie_name            38432 non-null  object \n",
      " 3   char_name             38432 non-null  object \n",
      " 4   related_name          38432 non-null  object \n",
      " 5   token                 38432 non-null  int64  \n",
      " 6   persona_code          38432 non-null  int64  \n",
      " 7   persona_distribution  38432 non-null  object \n",
      " 8   freebase_movie_id     38432 non-null  object \n",
      " 9   character_name        38432 non-null  object \n",
      " 10  actor_dob             35416 non-null  object \n",
      " 11  actor_gender          37787 non-null  object \n",
      " 12  actor_height          27025 non-null  float64\n",
      " 13  actor_ethnicity       19227 non-null  object \n",
      " 14  actor_name            38432 non-null  object \n",
      " 15  actor_age_release     33328 non-null  float64\n",
      " 16  freebase_char_id      38432 non-null  object \n",
      " 17  freebase_actor_id     38432 non-null  object \n",
      "dtypes: float64(2), int64(3), object(13)\n",
      "memory usage: 5.6+ MB\n"
     ]
    }
   ],
   "source": [
    "personas_characters.info()"
   ]
  },
  {
   "cell_type": "code",
   "execution_count": 8,
   "id": "ec0af805",
   "metadata": {},
   "outputs": [
    {
     "data": {
      "text/html": [
       "<div>\n",
       "<style scoped>\n",
       "    .dataframe tbody tr th:only-of-type {\n",
       "        vertical-align: middle;\n",
       "    }\n",
       "\n",
       "    .dataframe tbody tr th {\n",
       "        vertical-align: top;\n",
       "    }\n",
       "\n",
       "    .dataframe thead th {\n",
       "        text-align: right;\n",
       "    }\n",
       "</style>\n",
       "<table border=\"1\" class=\"dataframe\">\n",
       "  <thead>\n",
       "    <tr style=\"text-align: right;\">\n",
       "      <th></th>\n",
       "      <th>freebase_char_map</th>\n",
       "      <th>wikipedia_movie_id</th>\n",
       "      <th>movie_name</th>\n",
       "      <th>char_name</th>\n",
       "      <th>related_name</th>\n",
       "      <th>token</th>\n",
       "      <th>persona_code</th>\n",
       "      <th>persona_distribution</th>\n",
       "      <th>freebase_movie_id</th>\n",
       "      <th>character_name</th>\n",
       "      <th>...</th>\n",
       "      <th>actor_age_release</th>\n",
       "      <th>freebase_char_id</th>\n",
       "      <th>freebase_actor_id</th>\n",
       "      <th>movie_release_date</th>\n",
       "      <th>movie_box_office_revenue</th>\n",
       "      <th>movie_runtime</th>\n",
       "      <th>movie_genres_cleaned</th>\n",
       "      <th>movie_countries_cleaned</th>\n",
       "      <th>movie_languages_cleaned</th>\n",
       "      <th>movie_release_year</th>\n",
       "    </tr>\n",
       "  </thead>\n",
       "  <tbody>\n",
       "    <tr>\n",
       "      <th>0</th>\n",
       "      <td>/m/02vcl4m</td>\n",
       "      <td>10004330</td>\n",
       "      <td>Halls of Montezuma</td>\n",
       "      <td>Pigeon Lane</td>\n",
       "      <td>Zelenko</td>\n",
       "      <td>5</td>\n",
       "      <td>5</td>\n",
       "      <td>[0.0, 0.0, 0.0, 0.0, 0.0, 0.58, 0.21, 0.0, 0.0...</td>\n",
       "      <td>/m/02pzjvb</td>\n",
       "      <td>Pigeon Lane</td>\n",
       "      <td>...</td>\n",
       "      <td>30.0</td>\n",
       "      <td>/m/0h5cz0m</td>\n",
       "      <td>/m/02t_w8</td>\n",
       "      <td>1950</td>\n",
       "      <td>2650000.0</td>\n",
       "      <td>113.0</td>\n",
       "      <td>['Action/Adventure', 'Action', 'War film']</td>\n",
       "      <td>United States of America</td>\n",
       "      <td>['English']</td>\n",
       "      <td>1950.0</td>\n",
       "    </tr>\n",
       "    <tr>\n",
       "      <th>1</th>\n",
       "      <td>/m/02tb80v</td>\n",
       "      <td>10004330</td>\n",
       "      <td>Halls of Montezuma</td>\n",
       "      <td>Lt. Col. Gilfillan</td>\n",
       "      <td>Gilfillan</td>\n",
       "      <td>3</td>\n",
       "      <td>47</td>\n",
       "      <td>[0.0, 0.01, 0.0, 0.0, 0.0, 0.25, 0.0, 0.0, 0.0...</td>\n",
       "      <td>/m/02pzjvb</td>\n",
       "      <td>Lt. Col. Gilfillan</td>\n",
       "      <td>...</td>\n",
       "      <td>32.0</td>\n",
       "      <td>/m/0h4z9hs</td>\n",
       "      <td>/m/03c2b1</td>\n",
       "      <td>1950</td>\n",
       "      <td>2650000.0</td>\n",
       "      <td>113.0</td>\n",
       "      <td>['Action/Adventure', 'Action', 'War film']</td>\n",
       "      <td>United States of America</td>\n",
       "      <td>['English']</td>\n",
       "      <td>1950.0</td>\n",
       "    </tr>\n",
       "    <tr>\n",
       "      <th>2</th>\n",
       "      <td>/m/02vc485</td>\n",
       "      <td>10016740</td>\n",
       "      <td>Mela</td>\n",
       "      <td>Roopa Singh</td>\n",
       "      <td>her</td>\n",
       "      <td>21</td>\n",
       "      <td>43</td>\n",
       "      <td>[0.0, 0.0, 0.0, 0.0, 0.0, 0.0, 0.0, 0.0, 0.0, ...</td>\n",
       "      <td>/m/02pzxpz</td>\n",
       "      <td>Roopa Singh</td>\n",
       "      <td>...</td>\n",
       "      <td>25.0</td>\n",
       "      <td>/m/0h2t0j9</td>\n",
       "      <td>/m/04rs51</td>\n",
       "      <td>2000-01-07</td>\n",
       "      <td>NaN</td>\n",
       "      <td>NaN</td>\n",
       "      <td>['Action', 'Drama']</td>\n",
       "      <td>India</td>\n",
       "      <td>['Hindi']</td>\n",
       "      <td>2000.0</td>\n",
       "    </tr>\n",
       "    <tr>\n",
       "      <th>3</th>\n",
       "      <td>/m/02tbjr0</td>\n",
       "      <td>10016740</td>\n",
       "      <td>Mela</td>\n",
       "      <td>Kishan Pyare</td>\n",
       "      <td>Kishan and Roopa</td>\n",
       "      <td>14</td>\n",
       "      <td>18</td>\n",
       "      <td>[0.0, 0.0, 0.0, 0.0, 0.0, 0.0, 0.0, 0.0, 0.0, ...</td>\n",
       "      <td>/m/02pzxpz</td>\n",
       "      <td>Kishan Pyare</td>\n",
       "      <td>...</td>\n",
       "      <td>34.0</td>\n",
       "      <td>/m/0gxp8dq</td>\n",
       "      <td>/m/015npr</td>\n",
       "      <td>2000-01-07</td>\n",
       "      <td>NaN</td>\n",
       "      <td>NaN</td>\n",
       "      <td>['Action', 'Drama']</td>\n",
       "      <td>India</td>\n",
       "      <td>['Hindi']</td>\n",
       "      <td>2000.0</td>\n",
       "    </tr>\n",
       "    <tr>\n",
       "      <th>4</th>\n",
       "      <td>/m/02vd85q</td>\n",
       "      <td>10016740</td>\n",
       "      <td>Mela</td>\n",
       "      <td>Shankar Shane</td>\n",
       "      <td>Shankar</td>\n",
       "      <td>10</td>\n",
       "      <td>18</td>\n",
       "      <td>[0.0, 0.0, 0.0, 0.0, 0.0, 0.0, 0.0, 0.0, 0.0, ...</td>\n",
       "      <td>/m/02pzxpz</td>\n",
       "      <td>Shankar Shane</td>\n",
       "      <td>...</td>\n",
       "      <td>NaN</td>\n",
       "      <td>/m/0h74mpf</td>\n",
       "      <td>/m/07457s</td>\n",
       "      <td>2000-01-07</td>\n",
       "      <td>NaN</td>\n",
       "      <td>NaN</td>\n",
       "      <td>['Action', 'Drama']</td>\n",
       "      <td>India</td>\n",
       "      <td>['Hindi']</td>\n",
       "      <td>2000.0</td>\n",
       "    </tr>\n",
       "  </tbody>\n",
       "</table>\n",
       "<p>5 rows × 25 columns</p>\n",
       "</div>"
      ],
      "text/plain": [
       "  freebase_char_map  wikipedia_movie_id          movie_name  \\\n",
       "0        /m/02vcl4m            10004330  Halls of Montezuma   \n",
       "1        /m/02tb80v            10004330  Halls of Montezuma   \n",
       "2        /m/02vc485            10016740                Mela   \n",
       "3        /m/02tbjr0            10016740                Mela   \n",
       "4        /m/02vd85q            10016740                Mela   \n",
       "\n",
       "            char_name      related_name  token  persona_code  \\\n",
       "0         Pigeon Lane           Zelenko      5             5   \n",
       "1  Lt. Col. Gilfillan         Gilfillan      3            47   \n",
       "2         Roopa Singh               her     21            43   \n",
       "3        Kishan Pyare  Kishan and Roopa     14            18   \n",
       "4       Shankar Shane           Shankar     10            18   \n",
       "\n",
       "                                persona_distribution freebase_movie_id  \\\n",
       "0  [0.0, 0.0, 0.0, 0.0, 0.0, 0.58, 0.21, 0.0, 0.0...        /m/02pzjvb   \n",
       "1  [0.0, 0.01, 0.0, 0.0, 0.0, 0.25, 0.0, 0.0, 0.0...        /m/02pzjvb   \n",
       "2  [0.0, 0.0, 0.0, 0.0, 0.0, 0.0, 0.0, 0.0, 0.0, ...        /m/02pzxpz   \n",
       "3  [0.0, 0.0, 0.0, 0.0, 0.0, 0.0, 0.0, 0.0, 0.0, ...        /m/02pzxpz   \n",
       "4  [0.0, 0.0, 0.0, 0.0, 0.0, 0.0, 0.0, 0.0, 0.0, ...        /m/02pzxpz   \n",
       "\n",
       "       character_name  ... actor_age_release freebase_char_id  \\\n",
       "0         Pigeon Lane  ...              30.0       /m/0h5cz0m   \n",
       "1  Lt. Col. Gilfillan  ...              32.0       /m/0h4z9hs   \n",
       "2         Roopa Singh  ...              25.0       /m/0h2t0j9   \n",
       "3        Kishan Pyare  ...              34.0       /m/0gxp8dq   \n",
       "4       Shankar Shane  ...               NaN       /m/0h74mpf   \n",
       "\n",
       "   freebase_actor_id movie_release_date movie_box_office_revenue  \\\n",
       "0          /m/02t_w8               1950                2650000.0   \n",
       "1          /m/03c2b1               1950                2650000.0   \n",
       "2          /m/04rs51         2000-01-07                      NaN   \n",
       "3          /m/015npr         2000-01-07                      NaN   \n",
       "4          /m/07457s         2000-01-07                      NaN   \n",
       "\n",
       "   movie_runtime                        movie_genres_cleaned  \\\n",
       "0          113.0  ['Action/Adventure', 'Action', 'War film']   \n",
       "1          113.0  ['Action/Adventure', 'Action', 'War film']   \n",
       "2            NaN                         ['Action', 'Drama']   \n",
       "3            NaN                         ['Action', 'Drama']   \n",
       "4            NaN                         ['Action', 'Drama']   \n",
       "\n",
       "    movie_countries_cleaned movie_languages_cleaned  movie_release_year  \n",
       "0  United States of America             ['English']              1950.0  \n",
       "1  United States of America             ['English']              1950.0  \n",
       "2                     India               ['Hindi']              2000.0  \n",
       "3                     India               ['Hindi']              2000.0  \n",
       "4                     India               ['Hindi']              2000.0  \n",
       "\n",
       "[5 rows x 25 columns]"
      ]
     },
     "execution_count": 8,
     "metadata": {},
     "output_type": "execute_result"
    }
   ],
   "source": [
    "# personas + characters + movies\n",
    "persona_char_movie = personas_characters.merge(movies,  on=[\n",
    "    'movie_name','wikipedia_movie_id', 'freebase_movie_id'], how='inner')\n",
    "\n",
    "persona_char_movie.head()"
   ]
  },
  {
   "cell_type": "code",
   "execution_count": 9,
   "id": "8051df7f",
   "metadata": {},
   "outputs": [
    {
     "name": "stdout",
     "output_type": "stream",
     "text": [
      "different 'Wikipedia movie ID': 15156\n"
     ]
    }
   ],
   "source": [
    "# persona_char_movie\n",
    "unique_movie_ids_4 = persona_char_movie['wikipedia_movie_id'].nunique()\n",
    "print(\"different 'Wikipedia movie ID':\", unique_movie_ids_4)"
   ]
  },
  {
   "cell_type": "code",
   "execution_count": 10,
   "id": "a1f33f04",
   "metadata": {},
   "outputs": [],
   "source": [
    "# Save\n",
    "\n",
    "# persona_char_movie.to_csv('../Data/Persona/persona_char_movie.csv', index=False)"
   ]
  },
  {
   "cell_type": "code",
   "execution_count": 13,
   "id": "e2adc79b",
   "metadata": {},
   "outputs": [
    {
     "data": {
      "application/vnd.plotly.v1+json": {
       "config": {
        "plotlyServerURL": "https://plot.ly"
       },
       "data": [
        {
         "alignmentgroup": "True",
         "hovertemplate": "Gender=Male<br>Persona Code=%{x}<br>Percentage=%{y}<extra></extra>",
         "legendgroup": "Male",
         "marker": {
          "color": "#636efa",
          "pattern": {
           "shape": ""
          }
         },
         "name": "Male",
         "offsetgroup": "Male",
         "orientation": "v",
         "showlegend": true,
         "textposition": "auto",
         "type": "bar",
         "x": [
          0,
          1,
          2,
          3,
          4,
          5,
          6,
          7,
          8,
          9,
          10,
          11,
          12,
          13,
          14,
          15,
          16,
          17,
          18,
          19,
          20,
          21,
          22,
          23,
          24,
          25,
          26,
          27,
          28,
          29,
          30,
          31,
          32,
          33,
          34,
          35,
          36,
          37,
          38,
          39,
          40,
          41,
          42,
          43,
          44,
          45,
          46,
          47,
          48,
          49
         ],
         "xaxis": "x",
         "y": [
          2.5109080431382234,
          2.5808841689306,
          1.6176833786120028,
          6.478965999835349,
          0.13995225158475344,
          4.420844653000741,
          2.329793364616778,
          0.016464970774676874,
          0.05762739771136906,
          0.7121099860047749,
          7.964929612249938,
          0.18934716390878406,
          0.2922532312505145,
          1.0167119453362972,
          0.06997612579237672,
          0.14818473697209186,
          2.2474685107433934,
          3.556433687330205,
          5.00535111550177,
          0.2675557750884992,
          1.4201037293158805,
          0.2675557750884992,
          0.3087182020251914,
          1.918169095249856,
          3.2600642133860216,
          0.27167201778216843,
          2.5891166543179387,
          1.9305178233308635,
          0.1934634066024533,
          0.016464970774676874,
          0.3745780851238989,
          1.996377706429571,
          0.39515929859224497,
          4.74191158310694,
          0.3869268132049066,
          5.890343294640652,
          0.23874207623281468,
          0.5309953074833292,
          0.06997612579237672,
          0.07820861117971516,
          5.338766773688977,
          0.16053346505309954,
          0.3128344447188606,
          3.8281057051123737,
          0.3539968716555528,
          3.461760105375813,
          0.37046184243022967,
          16.79838643286408,
          0.131719766197415,
          0.7409236848604593
         ],
         "yaxis": "y"
        },
        {
         "alignmentgroup": "True",
         "hovertemplate": "Gender=Female<br>Persona Code=%{x}<br>Percentage=%{y}<extra></extra>",
         "legendgroup": "Female",
         "marker": {
          "color": "#EF553B",
          "pattern": {
           "shape": ""
          }
         },
         "name": "Female",
         "offsetgroup": "Female",
         "orientation": "v",
         "showlegend": true,
         "textposition": "auto",
         "type": "bar",
         "x": [
          0,
          1,
          2,
          3,
          4,
          5,
          6,
          7,
          8,
          9,
          10,
          11,
          12,
          13,
          14,
          15,
          16,
          17,
          18,
          19,
          20,
          21,
          22,
          23,
          24,
          25,
          26,
          27,
          28,
          29,
          30,
          31,
          32,
          33,
          34,
          35,
          36,
          37,
          38,
          39,
          40,
          41,
          42,
          43,
          44,
          45,
          46,
          47,
          48,
          49
         ],
         "xaxis": "x",
         "y": [
          4.587563922033647,
          1.6897650633661898,
          0.28162751056103164,
          2.379011339212925,
          0.007411250277921885,
          1.3710813014155487,
          0.192692507225969,
          0.05929000222337508,
          0.13340250500259393,
          1.3266137997480176,
          19.41747572815534,
          0.4446750166753132,
          0.0963462536129845,
          0.12599125472467207,
          0.022233750833765654,
          0.5632550211220633,
          0.5706662713999852,
          4.669087675090788,
          1.5267175572519083,
          0.04446750166753131,
          0.9486400355740012,
          0.051878751945453196,
          0.037056251389609426,
          4.728377677314163,
          1.1265100422441265,
          0.04446750166753131,
          0.3038612613947973,
          1.6971763136441116,
          0.10375750389090639,
          0.01482250055584377,
          0.39279626472985996,
          0.04446750166753131,
          0.41503001556362557,
          7.492774030979025,
          2.1937300822648784,
          7.8336915437634325,
          2.0529163269843624,
          1.1190987919662048,
          0.51137626917661,
          3.3795301267323796,
          1.80834506781294,
          null,
          0.2149262580597347,
          11.465204179945157,
          0.2742162602831098,
          5.9215889720595865,
          0.08893500333506262,
          2.794041354776551,
          1.0523975394649077,
          2.379011339212925
         ],
         "yaxis": "y"
        }
       ],
       "layout": {
        "barmode": "group",
        "legend": {
         "title": {
          "text": "Gender"
         },
         "tracegroupgap": 0
        },
        "template": {
         "data": {
          "bar": [
           {
            "error_x": {
             "color": "#2a3f5f"
            },
            "error_y": {
             "color": "#2a3f5f"
            },
            "marker": {
             "line": {
              "color": "#E5ECF6",
              "width": 0.5
             },
             "pattern": {
              "fillmode": "overlay",
              "size": 10,
              "solidity": 0.2
             }
            },
            "type": "bar"
           }
          ],
          "barpolar": [
           {
            "marker": {
             "line": {
              "color": "#E5ECF6",
              "width": 0.5
             },
             "pattern": {
              "fillmode": "overlay",
              "size": 10,
              "solidity": 0.2
             }
            },
            "type": "barpolar"
           }
          ],
          "carpet": [
           {
            "aaxis": {
             "endlinecolor": "#2a3f5f",
             "gridcolor": "white",
             "linecolor": "white",
             "minorgridcolor": "white",
             "startlinecolor": "#2a3f5f"
            },
            "baxis": {
             "endlinecolor": "#2a3f5f",
             "gridcolor": "white",
             "linecolor": "white",
             "minorgridcolor": "white",
             "startlinecolor": "#2a3f5f"
            },
            "type": "carpet"
           }
          ],
          "choropleth": [
           {
            "colorbar": {
             "outlinewidth": 0,
             "ticks": ""
            },
            "type": "choropleth"
           }
          ],
          "contour": [
           {
            "colorbar": {
             "outlinewidth": 0,
             "ticks": ""
            },
            "colorscale": [
             [
              0,
              "#0d0887"
             ],
             [
              0.1111111111111111,
              "#46039f"
             ],
             [
              0.2222222222222222,
              "#7201a8"
             ],
             [
              0.3333333333333333,
              "#9c179e"
             ],
             [
              0.4444444444444444,
              "#bd3786"
             ],
             [
              0.5555555555555556,
              "#d8576b"
             ],
             [
              0.6666666666666666,
              "#ed7953"
             ],
             [
              0.7777777777777778,
              "#fb9f3a"
             ],
             [
              0.8888888888888888,
              "#fdca26"
             ],
             [
              1,
              "#f0f921"
             ]
            ],
            "type": "contour"
           }
          ],
          "contourcarpet": [
           {
            "colorbar": {
             "outlinewidth": 0,
             "ticks": ""
            },
            "type": "contourcarpet"
           }
          ],
          "heatmap": [
           {
            "colorbar": {
             "outlinewidth": 0,
             "ticks": ""
            },
            "colorscale": [
             [
              0,
              "#0d0887"
             ],
             [
              0.1111111111111111,
              "#46039f"
             ],
             [
              0.2222222222222222,
              "#7201a8"
             ],
             [
              0.3333333333333333,
              "#9c179e"
             ],
             [
              0.4444444444444444,
              "#bd3786"
             ],
             [
              0.5555555555555556,
              "#d8576b"
             ],
             [
              0.6666666666666666,
              "#ed7953"
             ],
             [
              0.7777777777777778,
              "#fb9f3a"
             ],
             [
              0.8888888888888888,
              "#fdca26"
             ],
             [
              1,
              "#f0f921"
             ]
            ],
            "type": "heatmap"
           }
          ],
          "heatmapgl": [
           {
            "colorbar": {
             "outlinewidth": 0,
             "ticks": ""
            },
            "colorscale": [
             [
              0,
              "#0d0887"
             ],
             [
              0.1111111111111111,
              "#46039f"
             ],
             [
              0.2222222222222222,
              "#7201a8"
             ],
             [
              0.3333333333333333,
              "#9c179e"
             ],
             [
              0.4444444444444444,
              "#bd3786"
             ],
             [
              0.5555555555555556,
              "#d8576b"
             ],
             [
              0.6666666666666666,
              "#ed7953"
             ],
             [
              0.7777777777777778,
              "#fb9f3a"
             ],
             [
              0.8888888888888888,
              "#fdca26"
             ],
             [
              1,
              "#f0f921"
             ]
            ],
            "type": "heatmapgl"
           }
          ],
          "histogram": [
           {
            "marker": {
             "pattern": {
              "fillmode": "overlay",
              "size": 10,
              "solidity": 0.2
             }
            },
            "type": "histogram"
           }
          ],
          "histogram2d": [
           {
            "colorbar": {
             "outlinewidth": 0,
             "ticks": ""
            },
            "colorscale": [
             [
              0,
              "#0d0887"
             ],
             [
              0.1111111111111111,
              "#46039f"
             ],
             [
              0.2222222222222222,
              "#7201a8"
             ],
             [
              0.3333333333333333,
              "#9c179e"
             ],
             [
              0.4444444444444444,
              "#bd3786"
             ],
             [
              0.5555555555555556,
              "#d8576b"
             ],
             [
              0.6666666666666666,
              "#ed7953"
             ],
             [
              0.7777777777777778,
              "#fb9f3a"
             ],
             [
              0.8888888888888888,
              "#fdca26"
             ],
             [
              1,
              "#f0f921"
             ]
            ],
            "type": "histogram2d"
           }
          ],
          "histogram2dcontour": [
           {
            "colorbar": {
             "outlinewidth": 0,
             "ticks": ""
            },
            "colorscale": [
             [
              0,
              "#0d0887"
             ],
             [
              0.1111111111111111,
              "#46039f"
             ],
             [
              0.2222222222222222,
              "#7201a8"
             ],
             [
              0.3333333333333333,
              "#9c179e"
             ],
             [
              0.4444444444444444,
              "#bd3786"
             ],
             [
              0.5555555555555556,
              "#d8576b"
             ],
             [
              0.6666666666666666,
              "#ed7953"
             ],
             [
              0.7777777777777778,
              "#fb9f3a"
             ],
             [
              0.8888888888888888,
              "#fdca26"
             ],
             [
              1,
              "#f0f921"
             ]
            ],
            "type": "histogram2dcontour"
           }
          ],
          "mesh3d": [
           {
            "colorbar": {
             "outlinewidth": 0,
             "ticks": ""
            },
            "type": "mesh3d"
           }
          ],
          "parcoords": [
           {
            "line": {
             "colorbar": {
              "outlinewidth": 0,
              "ticks": ""
             }
            },
            "type": "parcoords"
           }
          ],
          "pie": [
           {
            "automargin": true,
            "type": "pie"
           }
          ],
          "scatter": [
           {
            "fillpattern": {
             "fillmode": "overlay",
             "size": 10,
             "solidity": 0.2
            },
            "type": "scatter"
           }
          ],
          "scatter3d": [
           {
            "line": {
             "colorbar": {
              "outlinewidth": 0,
              "ticks": ""
             }
            },
            "marker": {
             "colorbar": {
              "outlinewidth": 0,
              "ticks": ""
             }
            },
            "type": "scatter3d"
           }
          ],
          "scattercarpet": [
           {
            "marker": {
             "colorbar": {
              "outlinewidth": 0,
              "ticks": ""
             }
            },
            "type": "scattercarpet"
           }
          ],
          "scattergeo": [
           {
            "marker": {
             "colorbar": {
              "outlinewidth": 0,
              "ticks": ""
             }
            },
            "type": "scattergeo"
           }
          ],
          "scattergl": [
           {
            "marker": {
             "colorbar": {
              "outlinewidth": 0,
              "ticks": ""
             }
            },
            "type": "scattergl"
           }
          ],
          "scattermapbox": [
           {
            "marker": {
             "colorbar": {
              "outlinewidth": 0,
              "ticks": ""
             }
            },
            "type": "scattermapbox"
           }
          ],
          "scatterpolar": [
           {
            "marker": {
             "colorbar": {
              "outlinewidth": 0,
              "ticks": ""
             }
            },
            "type": "scatterpolar"
           }
          ],
          "scatterpolargl": [
           {
            "marker": {
             "colorbar": {
              "outlinewidth": 0,
              "ticks": ""
             }
            },
            "type": "scatterpolargl"
           }
          ],
          "scatterternary": [
           {
            "marker": {
             "colorbar": {
              "outlinewidth": 0,
              "ticks": ""
             }
            },
            "type": "scatterternary"
           }
          ],
          "surface": [
           {
            "colorbar": {
             "outlinewidth": 0,
             "ticks": ""
            },
            "colorscale": [
             [
              0,
              "#0d0887"
             ],
             [
              0.1111111111111111,
              "#46039f"
             ],
             [
              0.2222222222222222,
              "#7201a8"
             ],
             [
              0.3333333333333333,
              "#9c179e"
             ],
             [
              0.4444444444444444,
              "#bd3786"
             ],
             [
              0.5555555555555556,
              "#d8576b"
             ],
             [
              0.6666666666666666,
              "#ed7953"
             ],
             [
              0.7777777777777778,
              "#fb9f3a"
             ],
             [
              0.8888888888888888,
              "#fdca26"
             ],
             [
              1,
              "#f0f921"
             ]
            ],
            "type": "surface"
           }
          ],
          "table": [
           {
            "cells": {
             "fill": {
              "color": "#EBF0F8"
             },
             "line": {
              "color": "white"
             }
            },
            "header": {
             "fill": {
              "color": "#C8D4E3"
             },
             "line": {
              "color": "white"
             }
            },
            "type": "table"
           }
          ]
         },
         "layout": {
          "annotationdefaults": {
           "arrowcolor": "#2a3f5f",
           "arrowhead": 0,
           "arrowwidth": 1
          },
          "autotypenumbers": "strict",
          "coloraxis": {
           "colorbar": {
            "outlinewidth": 0,
            "ticks": ""
           }
          },
          "colorscale": {
           "diverging": [
            [
             0,
             "#8e0152"
            ],
            [
             0.1,
             "#c51b7d"
            ],
            [
             0.2,
             "#de77ae"
            ],
            [
             0.3,
             "#f1b6da"
            ],
            [
             0.4,
             "#fde0ef"
            ],
            [
             0.5,
             "#f7f7f7"
            ],
            [
             0.6,
             "#e6f5d0"
            ],
            [
             0.7,
             "#b8e186"
            ],
            [
             0.8,
             "#7fbc41"
            ],
            [
             0.9,
             "#4d9221"
            ],
            [
             1,
             "#276419"
            ]
           ],
           "sequential": [
            [
             0,
             "#0d0887"
            ],
            [
             0.1111111111111111,
             "#46039f"
            ],
            [
             0.2222222222222222,
             "#7201a8"
            ],
            [
             0.3333333333333333,
             "#9c179e"
            ],
            [
             0.4444444444444444,
             "#bd3786"
            ],
            [
             0.5555555555555556,
             "#d8576b"
            ],
            [
             0.6666666666666666,
             "#ed7953"
            ],
            [
             0.7777777777777778,
             "#fb9f3a"
            ],
            [
             0.8888888888888888,
             "#fdca26"
            ],
            [
             1,
             "#f0f921"
            ]
           ],
           "sequentialminus": [
            [
             0,
             "#0d0887"
            ],
            [
             0.1111111111111111,
             "#46039f"
            ],
            [
             0.2222222222222222,
             "#7201a8"
            ],
            [
             0.3333333333333333,
             "#9c179e"
            ],
            [
             0.4444444444444444,
             "#bd3786"
            ],
            [
             0.5555555555555556,
             "#d8576b"
            ],
            [
             0.6666666666666666,
             "#ed7953"
            ],
            [
             0.7777777777777778,
             "#fb9f3a"
            ],
            [
             0.8888888888888888,
             "#fdca26"
            ],
            [
             1,
             "#f0f921"
            ]
           ]
          },
          "colorway": [
           "#636efa",
           "#EF553B",
           "#00cc96",
           "#ab63fa",
           "#FFA15A",
           "#19d3f3",
           "#FF6692",
           "#B6E880",
           "#FF97FF",
           "#FECB52"
          ],
          "font": {
           "color": "#2a3f5f"
          },
          "geo": {
           "bgcolor": "white",
           "lakecolor": "white",
           "landcolor": "#E5ECF6",
           "showlakes": true,
           "showland": true,
           "subunitcolor": "white"
          },
          "hoverlabel": {
           "align": "left"
          },
          "hovermode": "closest",
          "mapbox": {
           "style": "light"
          },
          "paper_bgcolor": "white",
          "plot_bgcolor": "#E5ECF6",
          "polar": {
           "angularaxis": {
            "gridcolor": "white",
            "linecolor": "white",
            "ticks": ""
           },
           "bgcolor": "#E5ECF6",
           "radialaxis": {
            "gridcolor": "white",
            "linecolor": "white",
            "ticks": ""
           }
          },
          "scene": {
           "xaxis": {
            "backgroundcolor": "#E5ECF6",
            "gridcolor": "white",
            "gridwidth": 2,
            "linecolor": "white",
            "showbackground": true,
            "ticks": "",
            "zerolinecolor": "white"
           },
           "yaxis": {
            "backgroundcolor": "#E5ECF6",
            "gridcolor": "white",
            "gridwidth": 2,
            "linecolor": "white",
            "showbackground": true,
            "ticks": "",
            "zerolinecolor": "white"
           },
           "zaxis": {
            "backgroundcolor": "#E5ECF6",
            "gridcolor": "white",
            "gridwidth": 2,
            "linecolor": "white",
            "showbackground": true,
            "ticks": "",
            "zerolinecolor": "white"
           }
          },
          "shapedefaults": {
           "line": {
            "color": "#2a3f5f"
           }
          },
          "ternary": {
           "aaxis": {
            "gridcolor": "white",
            "linecolor": "white",
            "ticks": ""
           },
           "baxis": {
            "gridcolor": "white",
            "linecolor": "white",
            "ticks": ""
           },
           "bgcolor": "#E5ECF6",
           "caxis": {
            "gridcolor": "white",
            "linecolor": "white",
            "ticks": ""
           }
          },
          "title": {
           "x": 0.05
          },
          "xaxis": {
           "automargin": true,
           "gridcolor": "white",
           "linecolor": "white",
           "ticks": "",
           "title": {
            "standoff": 15
           },
           "zerolinecolor": "white",
           "zerolinewidth": 2
          },
          "yaxis": {
           "automargin": true,
           "gridcolor": "white",
           "linecolor": "white",
           "ticks": "",
           "title": {
            "standoff": 15
           },
           "zerolinecolor": "white",
           "zerolinewidth": 2
          }
         }
        },
        "title": {
         "text": "Personas for Male and Female Characters (Percentage)"
        },
        "xaxis": {
         "anchor": "y",
         "domain": [
          0,
          1
         ],
         "title": {
          "text": "Persona Code"
         }
        },
        "yaxis": {
         "anchor": "x",
         "domain": [
          0,
          1
         ],
         "title": {
          "text": "Percentage"
         }
        }
       }
      },
      "text/html": [
       "<div>                            <div id=\"f8309c85-64b8-478e-8183-4f2149285b97\" class=\"plotly-graph-div\" style=\"height:525px; width:100%;\"></div>            <script type=\"text/javascript\">                require([\"plotly\"], function(Plotly) {                    window.PLOTLYENV=window.PLOTLYENV || {};                                    if (document.getElementById(\"f8309c85-64b8-478e-8183-4f2149285b97\")) {                    Plotly.newPlot(                        \"f8309c85-64b8-478e-8183-4f2149285b97\",                        [{\"alignmentgroup\":\"True\",\"hovertemplate\":\"Gender=Male<br>Persona Code=%{x}<br>Percentage=%{y}<extra></extra>\",\"legendgroup\":\"Male\",\"marker\":{\"color\":\"#636efa\",\"pattern\":{\"shape\":\"\"}},\"name\":\"Male\",\"offsetgroup\":\"Male\",\"orientation\":\"v\",\"showlegend\":true,\"textposition\":\"auto\",\"x\":[0,1,2,3,4,5,6,7,8,9,10,11,12,13,14,15,16,17,18,19,20,21,22,23,24,25,26,27,28,29,30,31,32,33,34,35,36,37,38,39,40,41,42,43,44,45,46,47,48,49],\"xaxis\":\"x\",\"y\":[2.5109080431382234,2.5808841689306,1.6176833786120028,6.478965999835349,0.13995225158475344,4.420844653000741,2.329793364616778,0.016464970774676874,0.05762739771136906,0.7121099860047749,7.964929612249938,0.18934716390878406,0.2922532312505145,1.0167119453362972,0.06997612579237672,0.14818473697209186,2.2474685107433934,3.556433687330205,5.00535111550177,0.2675557750884992,1.4201037293158805,0.2675557750884992,0.3087182020251914,1.918169095249856,3.2600642133860216,0.27167201778216843,2.5891166543179387,1.9305178233308635,0.1934634066024533,0.016464970774676874,0.3745780851238989,1.996377706429571,0.39515929859224497,4.74191158310694,0.3869268132049066,5.890343294640652,0.23874207623281468,0.5309953074833292,0.06997612579237672,0.07820861117971516,5.338766773688977,0.16053346505309954,0.3128344447188606,3.8281057051123737,0.3539968716555528,3.461760105375813,0.37046184243022967,16.79838643286408,0.131719766197415,0.7409236848604593],\"yaxis\":\"y\",\"type\":\"bar\"},{\"alignmentgroup\":\"True\",\"hovertemplate\":\"Gender=Female<br>Persona Code=%{x}<br>Percentage=%{y}<extra></extra>\",\"legendgroup\":\"Female\",\"marker\":{\"color\":\"#EF553B\",\"pattern\":{\"shape\":\"\"}},\"name\":\"Female\",\"offsetgroup\":\"Female\",\"orientation\":\"v\",\"showlegend\":true,\"textposition\":\"auto\",\"x\":[0,1,2,3,4,5,6,7,8,9,10,11,12,13,14,15,16,17,18,19,20,21,22,23,24,25,26,27,28,29,30,31,32,33,34,35,36,37,38,39,40,41,42,43,44,45,46,47,48,49],\"xaxis\":\"x\",\"y\":[4.587563922033647,1.6897650633661898,0.28162751056103164,2.379011339212925,0.007411250277921885,1.3710813014155487,0.192692507225969,0.05929000222337508,0.13340250500259393,1.3266137997480176,19.41747572815534,0.4446750166753132,0.0963462536129845,0.12599125472467207,0.022233750833765654,0.5632550211220633,0.5706662713999852,4.669087675090788,1.5267175572519083,0.04446750166753131,0.9486400355740012,0.051878751945453196,0.037056251389609426,4.728377677314163,1.1265100422441265,0.04446750166753131,0.3038612613947973,1.6971763136441116,0.10375750389090639,0.01482250055584377,0.39279626472985996,0.04446750166753131,0.41503001556362557,7.492774030979025,2.1937300822648784,7.8336915437634325,2.0529163269843624,1.1190987919662048,0.51137626917661,3.3795301267323796,1.80834506781294,null,0.2149262580597347,11.465204179945157,0.2742162602831098,5.9215889720595865,0.08893500333506262,2.794041354776551,1.0523975394649077,2.379011339212925],\"yaxis\":\"y\",\"type\":\"bar\"}],                        {\"template\":{\"data\":{\"histogram2dcontour\":[{\"type\":\"histogram2dcontour\",\"colorbar\":{\"outlinewidth\":0,\"ticks\":\"\"},\"colorscale\":[[0.0,\"#0d0887\"],[0.1111111111111111,\"#46039f\"],[0.2222222222222222,\"#7201a8\"],[0.3333333333333333,\"#9c179e\"],[0.4444444444444444,\"#bd3786\"],[0.5555555555555556,\"#d8576b\"],[0.6666666666666666,\"#ed7953\"],[0.7777777777777778,\"#fb9f3a\"],[0.8888888888888888,\"#fdca26\"],[1.0,\"#f0f921\"]]}],\"choropleth\":[{\"type\":\"choropleth\",\"colorbar\":{\"outlinewidth\":0,\"ticks\":\"\"}}],\"histogram2d\":[{\"type\":\"histogram2d\",\"colorbar\":{\"outlinewidth\":0,\"ticks\":\"\"},\"colorscale\":[[0.0,\"#0d0887\"],[0.1111111111111111,\"#46039f\"],[0.2222222222222222,\"#7201a8\"],[0.3333333333333333,\"#9c179e\"],[0.4444444444444444,\"#bd3786\"],[0.5555555555555556,\"#d8576b\"],[0.6666666666666666,\"#ed7953\"],[0.7777777777777778,\"#fb9f3a\"],[0.8888888888888888,\"#fdca26\"],[1.0,\"#f0f921\"]]}],\"heatmap\":[{\"type\":\"heatmap\",\"colorbar\":{\"outlinewidth\":0,\"ticks\":\"\"},\"colorscale\":[[0.0,\"#0d0887\"],[0.1111111111111111,\"#46039f\"],[0.2222222222222222,\"#7201a8\"],[0.3333333333333333,\"#9c179e\"],[0.4444444444444444,\"#bd3786\"],[0.5555555555555556,\"#d8576b\"],[0.6666666666666666,\"#ed7953\"],[0.7777777777777778,\"#fb9f3a\"],[0.8888888888888888,\"#fdca26\"],[1.0,\"#f0f921\"]]}],\"heatmapgl\":[{\"type\":\"heatmapgl\",\"colorbar\":{\"outlinewidth\":0,\"ticks\":\"\"},\"colorscale\":[[0.0,\"#0d0887\"],[0.1111111111111111,\"#46039f\"],[0.2222222222222222,\"#7201a8\"],[0.3333333333333333,\"#9c179e\"],[0.4444444444444444,\"#bd3786\"],[0.5555555555555556,\"#d8576b\"],[0.6666666666666666,\"#ed7953\"],[0.7777777777777778,\"#fb9f3a\"],[0.8888888888888888,\"#fdca26\"],[1.0,\"#f0f921\"]]}],\"contourcarpet\":[{\"type\":\"contourcarpet\",\"colorbar\":{\"outlinewidth\":0,\"ticks\":\"\"}}],\"contour\":[{\"type\":\"contour\",\"colorbar\":{\"outlinewidth\":0,\"ticks\":\"\"},\"colorscale\":[[0.0,\"#0d0887\"],[0.1111111111111111,\"#46039f\"],[0.2222222222222222,\"#7201a8\"],[0.3333333333333333,\"#9c179e\"],[0.4444444444444444,\"#bd3786\"],[0.5555555555555556,\"#d8576b\"],[0.6666666666666666,\"#ed7953\"],[0.7777777777777778,\"#fb9f3a\"],[0.8888888888888888,\"#fdca26\"],[1.0,\"#f0f921\"]]}],\"surface\":[{\"type\":\"surface\",\"colorbar\":{\"outlinewidth\":0,\"ticks\":\"\"},\"colorscale\":[[0.0,\"#0d0887\"],[0.1111111111111111,\"#46039f\"],[0.2222222222222222,\"#7201a8\"],[0.3333333333333333,\"#9c179e\"],[0.4444444444444444,\"#bd3786\"],[0.5555555555555556,\"#d8576b\"],[0.6666666666666666,\"#ed7953\"],[0.7777777777777778,\"#fb9f3a\"],[0.8888888888888888,\"#fdca26\"],[1.0,\"#f0f921\"]]}],\"mesh3d\":[{\"type\":\"mesh3d\",\"colorbar\":{\"outlinewidth\":0,\"ticks\":\"\"}}],\"scatter\":[{\"fillpattern\":{\"fillmode\":\"overlay\",\"size\":10,\"solidity\":0.2},\"type\":\"scatter\"}],\"parcoords\":[{\"type\":\"parcoords\",\"line\":{\"colorbar\":{\"outlinewidth\":0,\"ticks\":\"\"}}}],\"scatterpolargl\":[{\"type\":\"scatterpolargl\",\"marker\":{\"colorbar\":{\"outlinewidth\":0,\"ticks\":\"\"}}}],\"bar\":[{\"error_x\":{\"color\":\"#2a3f5f\"},\"error_y\":{\"color\":\"#2a3f5f\"},\"marker\":{\"line\":{\"color\":\"#E5ECF6\",\"width\":0.5},\"pattern\":{\"fillmode\":\"overlay\",\"size\":10,\"solidity\":0.2}},\"type\":\"bar\"}],\"scattergeo\":[{\"type\":\"scattergeo\",\"marker\":{\"colorbar\":{\"outlinewidth\":0,\"ticks\":\"\"}}}],\"scatterpolar\":[{\"type\":\"scatterpolar\",\"marker\":{\"colorbar\":{\"outlinewidth\":0,\"ticks\":\"\"}}}],\"histogram\":[{\"marker\":{\"pattern\":{\"fillmode\":\"overlay\",\"size\":10,\"solidity\":0.2}},\"type\":\"histogram\"}],\"scattergl\":[{\"type\":\"scattergl\",\"marker\":{\"colorbar\":{\"outlinewidth\":0,\"ticks\":\"\"}}}],\"scatter3d\":[{\"type\":\"scatter3d\",\"line\":{\"colorbar\":{\"outlinewidth\":0,\"ticks\":\"\"}},\"marker\":{\"colorbar\":{\"outlinewidth\":0,\"ticks\":\"\"}}}],\"scattermapbox\":[{\"type\":\"scattermapbox\",\"marker\":{\"colorbar\":{\"outlinewidth\":0,\"ticks\":\"\"}}}],\"scatterternary\":[{\"type\":\"scatterternary\",\"marker\":{\"colorbar\":{\"outlinewidth\":0,\"ticks\":\"\"}}}],\"scattercarpet\":[{\"type\":\"scattercarpet\",\"marker\":{\"colorbar\":{\"outlinewidth\":0,\"ticks\":\"\"}}}],\"carpet\":[{\"aaxis\":{\"endlinecolor\":\"#2a3f5f\",\"gridcolor\":\"white\",\"linecolor\":\"white\",\"minorgridcolor\":\"white\",\"startlinecolor\":\"#2a3f5f\"},\"baxis\":{\"endlinecolor\":\"#2a3f5f\",\"gridcolor\":\"white\",\"linecolor\":\"white\",\"minorgridcolor\":\"white\",\"startlinecolor\":\"#2a3f5f\"},\"type\":\"carpet\"}],\"table\":[{\"cells\":{\"fill\":{\"color\":\"#EBF0F8\"},\"line\":{\"color\":\"white\"}},\"header\":{\"fill\":{\"color\":\"#C8D4E3\"},\"line\":{\"color\":\"white\"}},\"type\":\"table\"}],\"barpolar\":[{\"marker\":{\"line\":{\"color\":\"#E5ECF6\",\"width\":0.5},\"pattern\":{\"fillmode\":\"overlay\",\"size\":10,\"solidity\":0.2}},\"type\":\"barpolar\"}],\"pie\":[{\"automargin\":true,\"type\":\"pie\"}]},\"layout\":{\"autotypenumbers\":\"strict\",\"colorway\":[\"#636efa\",\"#EF553B\",\"#00cc96\",\"#ab63fa\",\"#FFA15A\",\"#19d3f3\",\"#FF6692\",\"#B6E880\",\"#FF97FF\",\"#FECB52\"],\"font\":{\"color\":\"#2a3f5f\"},\"hovermode\":\"closest\",\"hoverlabel\":{\"align\":\"left\"},\"paper_bgcolor\":\"white\",\"plot_bgcolor\":\"#E5ECF6\",\"polar\":{\"bgcolor\":\"#E5ECF6\",\"angularaxis\":{\"gridcolor\":\"white\",\"linecolor\":\"white\",\"ticks\":\"\"},\"radialaxis\":{\"gridcolor\":\"white\",\"linecolor\":\"white\",\"ticks\":\"\"}},\"ternary\":{\"bgcolor\":\"#E5ECF6\",\"aaxis\":{\"gridcolor\":\"white\",\"linecolor\":\"white\",\"ticks\":\"\"},\"baxis\":{\"gridcolor\":\"white\",\"linecolor\":\"white\",\"ticks\":\"\"},\"caxis\":{\"gridcolor\":\"white\",\"linecolor\":\"white\",\"ticks\":\"\"}},\"coloraxis\":{\"colorbar\":{\"outlinewidth\":0,\"ticks\":\"\"}},\"colorscale\":{\"sequential\":[[0.0,\"#0d0887\"],[0.1111111111111111,\"#46039f\"],[0.2222222222222222,\"#7201a8\"],[0.3333333333333333,\"#9c179e\"],[0.4444444444444444,\"#bd3786\"],[0.5555555555555556,\"#d8576b\"],[0.6666666666666666,\"#ed7953\"],[0.7777777777777778,\"#fb9f3a\"],[0.8888888888888888,\"#fdca26\"],[1.0,\"#f0f921\"]],\"sequentialminus\":[[0.0,\"#0d0887\"],[0.1111111111111111,\"#46039f\"],[0.2222222222222222,\"#7201a8\"],[0.3333333333333333,\"#9c179e\"],[0.4444444444444444,\"#bd3786\"],[0.5555555555555556,\"#d8576b\"],[0.6666666666666666,\"#ed7953\"],[0.7777777777777778,\"#fb9f3a\"],[0.8888888888888888,\"#fdca26\"],[1.0,\"#f0f921\"]],\"diverging\":[[0,\"#8e0152\"],[0.1,\"#c51b7d\"],[0.2,\"#de77ae\"],[0.3,\"#f1b6da\"],[0.4,\"#fde0ef\"],[0.5,\"#f7f7f7\"],[0.6,\"#e6f5d0\"],[0.7,\"#b8e186\"],[0.8,\"#7fbc41\"],[0.9,\"#4d9221\"],[1,\"#276419\"]]},\"xaxis\":{\"gridcolor\":\"white\",\"linecolor\":\"white\",\"ticks\":\"\",\"title\":{\"standoff\":15},\"zerolinecolor\":\"white\",\"automargin\":true,\"zerolinewidth\":2},\"yaxis\":{\"gridcolor\":\"white\",\"linecolor\":\"white\",\"ticks\":\"\",\"title\":{\"standoff\":15},\"zerolinecolor\":\"white\",\"automargin\":true,\"zerolinewidth\":2},\"scene\":{\"xaxis\":{\"backgroundcolor\":\"#E5ECF6\",\"gridcolor\":\"white\",\"linecolor\":\"white\",\"showbackground\":true,\"ticks\":\"\",\"zerolinecolor\":\"white\",\"gridwidth\":2},\"yaxis\":{\"backgroundcolor\":\"#E5ECF6\",\"gridcolor\":\"white\",\"linecolor\":\"white\",\"showbackground\":true,\"ticks\":\"\",\"zerolinecolor\":\"white\",\"gridwidth\":2},\"zaxis\":{\"backgroundcolor\":\"#E5ECF6\",\"gridcolor\":\"white\",\"linecolor\":\"white\",\"showbackground\":true,\"ticks\":\"\",\"zerolinecolor\":\"white\",\"gridwidth\":2}},\"shapedefaults\":{\"line\":{\"color\":\"#2a3f5f\"}},\"annotationdefaults\":{\"arrowcolor\":\"#2a3f5f\",\"arrowhead\":0,\"arrowwidth\":1},\"geo\":{\"bgcolor\":\"white\",\"landcolor\":\"#E5ECF6\",\"subunitcolor\":\"white\",\"showland\":true,\"showlakes\":true,\"lakecolor\":\"white\"},\"title\":{\"x\":0.05},\"mapbox\":{\"style\":\"light\"}}},\"xaxis\":{\"anchor\":\"y\",\"domain\":[0.0,1.0],\"title\":{\"text\":\"Persona Code\"}},\"yaxis\":{\"anchor\":\"x\",\"domain\":[0.0,1.0],\"title\":{\"text\":\"Percentage\"}},\"legend\":{\"title\":{\"text\":\"Gender\"},\"tracegroupgap\":0},\"title\":{\"text\":\"Personas for Male and Female Characters (Percentage)\"},\"barmode\":\"group\"},                        {\"responsive\": true}                    ).then(function(){\n",
       "                            \n",
       "var gd = document.getElementById('f8309c85-64b8-478e-8183-4f2149285b97');\n",
       "var x = new MutationObserver(function (mutations, observer) {{\n",
       "        var display = window.getComputedStyle(gd).display;\n",
       "        if (!display || display === 'none') {{\n",
       "            console.log([gd, 'removed!']);\n",
       "            Plotly.purge(gd);\n",
       "            observer.disconnect();\n",
       "        }}\n",
       "}});\n",
       "\n",
       "// Listen for the removal of the full notebook cells\n",
       "var notebookContainer = gd.closest('#notebook-container');\n",
       "if (notebookContainer) {{\n",
       "    x.observe(notebookContainer, {childList: true});\n",
       "}}\n",
       "\n",
       "// Listen for the clearing of the current output cell\n",
       "var outputEl = gd.closest('.output');\n",
       "if (outputEl) {{\n",
       "    x.observe(outputEl, {childList: true});\n",
       "}}\n",
       "\n",
       "                        })                };                });            </script>        </div>"
      ]
     },
     "metadata": {},
     "output_type": "display_data"
    }
   ],
   "source": [
    "import pandas as pd\n",
    "import plotly.express as px\n",
    "\n",
    "# Assume you have a DataFrame named persona_char_movie\n",
    "# containing columns 'persona_code', 'actor_gender', and others.\n",
    "\n",
    "# Calculate the total number of male and female actors\n",
    "total_male_actors = persona_char_movie[persona_char_movie['actor_gender'] == 'M'].shape[0]\n",
    "total_female_actors = persona_char_movie[persona_char_movie['actor_gender'] == 'F'].shape[0]\n",
    "\n",
    "# Analyze the relationship between \"persona_code\" and \"actor_gender\"\n",
    "persona_gender_counts = persona_char_movie.groupby(['persona_code', 'actor_gender']).size().unstack()\n",
    "\n",
    "# Calculate the percentages for each persona separately\n",
    "persona_gender_percentages_male = persona_gender_counts['M'] / total_male_actors * 100\n",
    "persona_gender_percentages_female = persona_gender_counts['F'] / total_female_actors * 100\n",
    "\n",
    "# Combine the percentages for both male and female actors\n",
    "combined_percentages = pd.concat([persona_gender_percentages_male, persona_gender_percentages_female], axis=1, keys=['Male', 'Female'])\n",
    "\n",
    "# Reset index to have 'persona_code' as a regular column\n",
    "combined_percentages = combined_percentages.reset_index()\n",
    "\n",
    "# Melt the DataFrame for easier plotting with Plotly Express\n",
    "melted_data = pd.melt(combined_percentages, id_vars=['persona_code'], var_name='Gender', value_name='Percentage')\n",
    "\n",
    "# Create an interactive grouped bar plot with Plotly Express\n",
    "fig = px.bar(\n",
    "    melted_data,\n",
    "    x='persona_code',\n",
    "    y='Percentage',\n",
    "    color='Gender',\n",
    "    barmode='group',\n",
    "    title='Personas for Male and Female Characters (Percentage)',\n",
    "    labels={'Percentage': 'Percentage', 'persona_code': 'Persona Code'},\n",
    ")\n",
    "\n",
    "# Show the plot\n",
    "fig.show()\n",
    "\n",
    "fig.write_html(\"../generated/html/gender_persona_percentage.html\")"
   ]
  },
  {
   "cell_type": "markdown",
   "id": "cdb181ea",
   "metadata": {},
   "source": [
    "# Persona analysis"
   ]
  },
  {
   "cell_type": "code",
   "execution_count": null,
   "id": "e32bdb12",
   "metadata": {},
   "outputs": [],
   "source": [
    "if 'movie_genres_cleaned' in persona_char_movie.columns:\n",
    "    persona_char_movie['movie_genres_cleaned'] = persona_char_movie['movie_genres_cleaned'].apply(lambda x: ast.literal_eval(x))\n",
    "else:\n",
    "    print(\"'movie_genres_cleaned' column does not exist or already contains real list data\")\n",
    "\n",
    "# Expand the list data in the 'movie_genres_cleaned' column into separate rows.\n",
    "if 'movie_genres_cleaned' in persona_char_movie.columns:\n",
    "    movie_genres_exploded = persona_char_movie.explode('movie_genres_cleaned')\n",
    "    # print(movie_genres_exploded.head())\n",
    "else:\n",
    "    print(\"'movie_genres_cleaned' column does not exist or does not contain list data\")\n",
    "\n",
    "movie_genres_exploded.head()"
   ]
  },
  {
   "cell_type": "code",
   "execution_count": null,
   "id": "8b88b021",
   "metadata": {},
   "outputs": [],
   "source": [
    "unique_genres = movie_genres_exploded['movie_genres_cleaned'].unique()\n",
    "print(unique_genres)\n"
   ]
  },
  {
   "cell_type": "markdown",
   "id": "b3f5ceef",
   "metadata": {},
   "source": [
    "## Genre"
   ]
  },
  {
   "cell_type": "code",
   "execution_count": null,
   "id": "29020983",
   "metadata": {},
   "outputs": [],
   "source": [
    "# Count the number of occurrences of each persona in different movie types\n",
    "persona_genre_counts = (\n",
    "    movie_genres_exploded\n",
    "    .groupby(['persona_code', 'movie_genres_cleaned'])\n",
    "    .size()\n",
    "    .reset_index(name='count')\n",
    ")\n",
    "\n",
    "# Find the most common movie genres for each persona\n",
    "top_genre_for_persona = (\n",
    "    persona_genre_counts\n",
    "    .groupby('persona_code')\n",
    "    .apply(lambda x: x.loc[x['count'].idxmax()])\n",
    "    .reset_index(drop=True)\n",
    ")\n",
    "\n",
    "print(top_genre_for_persona)"
   ]
  },
  {
   "cell_type": "code",
   "execution_count": null,
   "id": "0e43c4d1",
   "metadata": {},
   "outputs": [],
   "source": [
    "import pandas as pd\n",
    "import seaborn as sns\n",
    "import matplotlib.pyplot as plt\n",
    "\n",
    "# Assuming movie_genres_exploded is your DataFrame\n",
    "# You may need to adjust column names if they differ in your actual DataFrame\n",
    "\n",
    "# Predefined list of top genres\n",
    "top_genres_list = [\"Drama\", \"Comedy\", \"Romance Film\", \"Thriller\", \"Action\", \"World cinema\", \"Black-and-white\", \"Crime Fiction\", \"Short Film\", \"Indie\"]\n",
    "\n",
    "# Filter the DataFrame for the top genres\n",
    "df_top_genres = movie_genres_exploded[movie_genres_exploded['movie_genres_cleaned'].isin(top_genres_list)]\n",
    "\n",
    "# Function to find the top personas for each combination of genre, character type, and actor gender\n",
    "def top_personas(group, top_n=3):\n",
    "    return group['persona_code'].value_counts().nlargest(top_n).index.tolist()\n",
    "\n",
    "# Group by genre, character type, and actor gender, then apply the function\n",
    "result_top_personas = df_top_genres.groupby(['movie_genres_cleaned', 'actor_gender']).apply(top_personas).reset_index(name='top_personas')\n",
    "\n",
    "# Expand the list of top personas into separate columns\n",
    "result_top_personas_expanded = pd.DataFrame(result_top_personas['top_personas'].tolist(), index=result_top_personas.index)\n",
    "\n",
    "# Concatenate the expanded DataFrame with the original result\n",
    "result_top_personas_final = pd.concat([result_top_personas[['movie_genres_cleaned', 'actor_gender']], result_top_personas_expanded], axis=1)\n",
    "\n",
    "# Create a grouped bar chart\n",
    "plt.figure(figsize=(16, 8))\n",
    "sns.countplot(x='movie_genres_cleaned', data=result_top_personas_final.melt(id_vars=['movie_genres_cleaned', 'actor_gender']), palette='viridis', order=top_genres_list)\n",
    "plt.title('Top 3 Personas by Genre and Gender')\n",
    "plt.xlabel('Movie Genre')\n",
    "plt.ylabel('Count')\n",
    "plt.xticks(rotation=45, ha='right')\n",
    "plt.legend(title='Top Personas', bbox_to_anchor=(1, 1))\n",
    "plt.show()\n"
   ]
  },
  {
   "cell_type": "code",
   "execution_count": null,
   "id": "08923786",
   "metadata": {
    "scrolled": true
   },
   "outputs": [],
   "source": [
    "import pandas as pd\n",
    "import seaborn as sns\n",
    "import matplotlib.pyplot as plt\n",
    "\n",
    "# Assuming movie_genres_exploded is your DataFrame\n",
    "# You may need to adjust column names if they differ in your actual DataFrame\n",
    "\n",
    "# Predefined list of top genres\n",
    "top_genres_list = [\"Drama\", \"Comedy\", \"Romance Film\", \"Thriller\", \"Action\", \"World cinema\", \"Black-and-white\", \"Crime Fiction\", \"Short Film\", \"Indie\"]\n",
    "\n",
    "# Filter the DataFrame for the top genres\n",
    "df_top_genres = movie_genres_exploded[movie_genres_exploded['movie_genres_cleaned'].isin(top_genres_list)]\n",
    "\n",
    "# Function to find the top personas for each combination of genre, character type, and actor gender\n",
    "def top_personas(group, top_n=3):\n",
    "    return group['persona_code'].value_counts().nlargest(top_n) / group.shape[0]\n",
    "\n",
    "# Group by genre, character type, and actor gender, then apply the function\n",
    "result_top_personas = df_top_genres.groupby(['movie_genres_cleaned', 'actor_gender']).apply(top_personas).reset_index(name='proportion_top_personas')\n",
    "\n",
    "# Create a grouped bar chart\n",
    "plt.figure(figsize=(16, 8))\n",
    "sns.barplot(x='movie_genres_cleaned', y='proportion_top_personas', hue='actor_gender', data=result_top_personas, palette='viridis', order=top_genres_list)\n",
    "plt.title('Proportion of Top 3 Personas by Genre, Character Type, and Actor Gender')\n",
    "plt.xlabel('Movie Genre')\n",
    "plt.ylabel('Proportion')\n",
    "plt.xticks(rotation=45, ha='right')\n",
    "plt.legend(title='Actor Gender', bbox_to_anchor=(1, 1))\n",
    "plt.show()\n"
   ]
  },
  {
   "cell_type": "code",
   "execution_count": null,
   "id": "310383b8",
   "metadata": {},
   "outputs": [],
   "source": [
    "import pandas as pd\n",
    "import seaborn as sns\n",
    "import matplotlib.pyplot as plt\n",
    "\n",
    "# Assuming movie_genres_exploded is your DataFrame\n",
    "# You may need to adjust column names if they differ in your actual DataFrame\n",
    "\n",
    "# Predefined list of top genres\n",
    "top_genres_list = [\"Drama\", \"Comedy\", \"Romance Film\", \"Thriller\", \"Action\", \"World cinema\", \"Black-and-white\", \"Crime Fiction\", \"Short Film\", \"Indie\"]\n",
    "\n",
    "# Filter the DataFrame for the top genres\n",
    "df_top_genres = movie_genres_exploded[movie_genres_exploded['movie_genres_cleaned'].isin(top_genres_list)]\n",
    "\n",
    "# Function to find the top personas for each combination of genre, character type, and actor gender\n",
    "def top_personas(group, top_n=3):\n",
    "    top_persona_counts = group['persona_code'].value_counts().nlargest(top_n)\n",
    "    total_count = top_persona_counts.sum()\n",
    "    return top_persona_counts / total_count\n",
    "\n",
    "# Group by genre, character type, and actor gender, then apply the function\n",
    "result_top_personas = df_top_genres.groupby(['movie_genres_cleaned', 'actor_gender']).apply(top_personas).reset_index(name='proportion_top_personas')\n",
    "\n",
    "# Create a stacked bar chart\n",
    "plt.figure(figsize=(16, 8))\n",
    "sns.barplot(x='movie_genres_cleaned', y='proportion_top_personas', hue='actor_gender', data=result_top_personas, palette='viridis', order=top_genres_list)\n",
    "plt.title('Proportion of Top 3 Personas by Genre, Character Type, and Actor Gender')\n",
    "plt.xlabel('Movie Genre')\n",
    "plt.ylabel('Proportion')\n",
    "plt.xticks(rotation=45, ha='right')\n",
    "plt.legend(title='Actor Gender', bbox_to_anchor=(1, 1))\n",
    "plt.ylim(0, 1)  # Set y-axis limit from 0 to 1\n",
    "plt.show()\n"
   ]
  },
  {
   "cell_type": "code",
   "execution_count": null,
   "id": "3a74b706",
   "metadata": {},
   "outputs": [],
   "source": [
    "import pandas as pd\n",
    "import plotly.subplots as sp\n",
    "import plotly.graph_objects as go\n",
    "\n",
    "# Assuming movie_genres_exploded is your DataFrame\n",
    "# You may need to adjust column names if they differ in your actual DataFrame\n",
    "\n",
    "# Predefined list of top genres\n",
    "top_genres_list = [\"Drama\", \"Comedy\", \"Romance Film\", \"Thriller\", \"Action\", \"World cinema\", \"Black-and-white\", \"Crime Fiction\", \"Short Film\", \"Indie\"]\n",
    "\n",
    "# Filter the DataFrame for the top genres\n",
    "df_top_genres = movie_genres_exploded[movie_genres_exploded['movie_genres_cleaned'].isin(top_genres_list)]\n",
    "\n",
    "# Function to get the top 3 personas for each combination of genre and gender\n",
    "def top_personas(group, top_n=3):\n",
    "    return group['persona_code'].value_counts().nlargest(top_n)\n",
    "\n",
    "# Group by genre and gender, then apply the function\n",
    "result_top_personas = df_top_genres.groupby(['movie_genres_cleaned', 'actor_gender']).apply(top_personas).reset_index(name='top_personas')\n",
    "\n",
    "# Calculate the total count for each genre and gender\n",
    "result_top_personas['total_count'] = result_top_personas.groupby(['movie_genres_cleaned', 'actor_gender'])['top_personas'].transform('sum')\n",
    "\n",
    "# Calculate the percentage for each persona\n",
    "result_top_personas['percentage'] = result_top_personas['top_personas'] / result_top_personas['total_count'] * 100\n",
    "\n",
    "# Display the updated DataFrame\n",
    "#print(result_top_personas)\n",
    "\n",
    "# Calculate the total count for each genre and gender\n",
    "result_top_personas['total_count'] = result_top_personas.groupby(['movie_genres_cleaned', 'actor_gender'])['top_personas'].transform('sum')\n",
    "\n",
    "# Calculate the percentage for each persona\n",
    "result_top_personas['percentage'] = result_top_personas['top_personas'] / result_top_personas['total_count']\n",
    "\n",
    "# Display the updated DataFrame\n",
    "#print(result_top_personas)\n",
    "\n",
    "# Rename the column\n",
    "result_top_personas = result_top_personas.rename(columns={'level_2': 'persona_code'})\n",
    "\n",
    "# Filter data for male and create an interactive stacked bar graph\n",
    "fig_male = px.bar(result_top_personas[result_top_personas['actor_gender'] == 'M'], \n",
    "                  x='movie_genres_cleaned', \n",
    "                  y='percentage', \n",
    "                  color='persona_code',\n",
    "                  category_orders={'persona_code': ['1', '2', '3']},\n",
    "                  labels={'percentage': 'Percentage'},\n",
    "                  title='Percentage of Top 3 Personas by Genre and Persona Code (Male)',\n",
    "                  height=500,\n",
    "                  width=800)\n",
    "\n",
    "# Update axis labels and facet labels for male graph\n",
    "fig_male.update_layout(xaxis_title='Movie Genre',\n",
    "                       yaxis_title='Percentage',\n",
    "                       xaxis={'categoryorder': 'array', 'categoryarray': top_genres_list},\n",
    "                       yaxis_tickformat='%')\n",
    "\n",
    "# Filter data for female and create an interactive stacked bar graph\n",
    "fig_female = px.bar(result_top_personas[result_top_personas['actor_gender'] == 'F'], \n",
    "                    x='movie_genres_cleaned', \n",
    "                    y='percentage', \n",
    "                    color='persona_code',\n",
    "                    category_orders={'persona_code': ['1', '2', '3']},\n",
    "                    labels={'percentage': 'Percentage'},\n",
    "                    title='Percentage of Top 3 Personas by Genre and Persona Code (Female)',\n",
    "                    height=500,\n",
    "                    width=800)\n",
    "\n",
    "# Update axis labels and facet labels for female graph\n",
    "fig_female.update_layout(xaxis_title='Movie Genre',\n",
    "                         yaxis_title='Percentage',\n",
    "                         xaxis={'categoryorder': 'array', 'categoryarray': top_genres_list},\n",
    "                         yaxis_tickformat='%')\n",
    "\n",
    "# Show the interactive plots\n",
    "fig_male.show()\n",
    "fig_female.show()\n",
    "\n",
    "# Save the interactive plots as HTML files\n",
    "fig_male.write_html(\"../generated/html/male_genre_persona.html\")\n",
    "fig_female.write_html(\"../generated/html/female_genre_persona.html\")"
   ]
  },
  {
   "cell_type": "code",
   "execution_count": null,
   "id": "0d6f0ee0",
   "metadata": {},
   "outputs": [],
   "source": [
    "\n",
    "# Melt the DataFrame for plotting\n",
    "result_top_personas_melted = result_top_personas_pivot_percentage.melt(id_vars=['movie_genres_cleaned', 'actor_gender'], var_name='Persona', value_name='Percentage')\n",
    "\n",
    "# Create a stacked bar chart\n",
    "plt.figure(figsize=(16, 8))\n",
    "sns.barplot(x='movie_genres_cleaned', y='Percentage', hue='actor_gender', data=result_top_personas_melted, palette='viridis', order=top_genres_list)\n",
    "plt.title('Percentage of Top 3 Personas by Genre and Actor Gender')\n",
    "plt.xlabel('Movie Genre')\n",
    "plt.ylabel('Percentage')\n",
    "plt.xticks(rotation=45, ha='right')\n",
    "plt.legend(title='Actor Gender', bbox_to_anchor=(1, 1))\n",
    "plt.show()\n"
   ]
  },
  {
   "cell_type": "code",
   "execution_count": null,
   "id": "9e9a58c1",
   "metadata": {},
   "outputs": [],
   "source": [
    "# Interactive Bar Chart of Persona and Movie Genres Count\n",
    "\n",
    "# Create an interactive histogram\n",
    "fig = px.bar(persona_genre_counts, x='persona_code', y='count', color='movie_genres_cleaned',\n",
    "             title='Interactive Bar Chart of Persona and Movie Genres Count')\n",
    "\n",
    "# Sort by the number of occurrences of persona\n",
    "fig.update_layout(\n",
    "    xaxis_title='Persona',\n",
    "    yaxis_title='Count',\n",
    "    xaxis={'categoryorder': 'total descending'},\n",
    "    height=600\n",
    ")\n",
    "\n",
    "fig.show()"
   ]
  },
  {
   "cell_type": "code",
   "execution_count": null,
   "id": "aed52178",
   "metadata": {},
   "outputs": [],
   "source": [
    "# Show Persona distribution\n",
    "persona_fig = px.bar(persona_genre_counts, x='persona_code', y='count', color='movie_genres_cleaned',\n",
    "                     title='Interactive Bar Chart of Persona and Movie Genres Count')\n",
    "persona_fig.update_layout(\n",
    "    xaxis_title='Persona',\n",
    "    yaxis_title='Count',\n",
    "    xaxis={'categoryorder': 'total descending'},\n",
    "    height=600\n",
    ")\n",
    "\n",
    "# Create the function \n",
    "def show_genre_distribution(selected_persona):\n",
    "    filtered_data = persona_genre_counts[persona_genre_counts['persona_code'] == selected_persona]\n",
    "\n",
    "    fig = px.bar(filtered_data, x='movie_genres_cleaned', y='count',\n",
    "                 title=f'Distribution of Genres for Persona {selected_persona}')\n",
    "    fig.update_layout(xaxis_title='Movie Genres', yaxis_title='Count')\n",
    "    fig.show()\n",
    "\n",
    "persona_dropdown = widgets.Dropdown(\n",
    "    options=sorted(persona_genre_counts['persona_code'].unique()),\n",
    "    description='Select Persona:', \n",
    "    style={'description_width': 'initial', 'width': '300px'}\n",
    ")\n",
    "\n",
    "interact(show_genre_distribution, selected_persona=persona_dropdown)"
   ]
  },
  {
   "cell_type": "code",
   "execution_count": null,
   "id": "b5561dfe",
   "metadata": {},
   "outputs": [],
   "source": [
    "import plotly.express as px\n",
    "from ipywidgets import interact, widgets\n",
    "import pandas as pd\n",
    "\n",
    "# Create the function to show genre distribution for a selected persona\n",
    "def show_genre_distribution(selected_persona):\n",
    "    filtered_data = persona_genre_counts[persona_genre_counts['persona_code'] == selected_persona]\n",
    "\n",
    "    fig = px.bar(filtered_data, x='movie_genres_cleaned', y='count',\n",
    "                 title=f'Distribution of Genres for Persona {selected_persona}',\n",
    "                 color='movie_genres_cleaned',\n",
    "                 labels={'movie_genres_cleaned': 'Movie Genres', 'count': 'Count'},\n",
    "                 category_orders={'movie_genres_cleaned': filtered_data['movie_genres_cleaned'].tolist()}\n",
    "                )\n",
    "    fig.update_layout(xaxis_title='Movie Genres', yaxis_title='Count')\n",
    "\n",
    "    fig.show()\n",
    "\n",
    "# Dropdown widget to select Persona\n",
    "persona_dropdown = widgets.Dropdown(\n",
    "    options=sorted(persona_genre_counts['persona_code'].unique()),\n",
    "    description='Select Persona:', \n",
    "    style={'description_width': 'initial', 'width': '300px'}\n",
    ")\n",
    "\n",
    "# Display the interactive chart\n",
    "interact(show_genre_distribution, selected_persona=persona_dropdown)\n"
   ]
  },
  {
   "cell_type": "code",
   "execution_count": null,
   "id": "37fec647",
   "metadata": {},
   "outputs": [],
   "source": [
    "import plotly.express as px\n",
    "from ipywidgets import interact, widgets\n",
    "import pandas as pd\n",
    "\n",
    "# Assuming you have the 'persona_genre_counts' DataFrame\n",
    "\n",
    "# Create the function to show genre distribution for a selected persona\n",
    "def show_genre_distribution(selected_persona):\n",
    "    filtered_data = persona_genre_counts[persona_genre_counts['persona_code'] == selected_persona]\n",
    "\n",
    "    fig = px.bar(filtered_data, x='movie_genres_cleaned', y='count',\n",
    "                 title=f'Distribution of Genres for Persona {selected_persona}',\n",
    "                 color='movie_genres_cleaned',\n",
    "                 labels={'movie_genres_cleaned': 'Movie Genres', 'count': 'Count'},\n",
    "                 category_orders={'movie_genres_cleaned': filtered_data['movie_genres_cleaned'].tolist()}\n",
    "                )\n",
    "    fig.update_layout(xaxis_title='Movie Genres', yaxis_title='Count')\n",
    "\n",
    "    # Highlight top 10 bars with annotations\n",
    "    top_10 = filtered_data.nlargest(10, 'count')\n",
    "    for index, row in top_10.iterrows():\n",
    "        fig.add_annotation(x=row['movie_genres_cleaned'], y=row['count'],\n",
    "                           text=row['count'], showarrow=True, arrowhead=1)\n",
    "\n",
    "    fig.show()\n",
    "\n",
    "# Dropdown widget to select Persona\n",
    "persona_dropdown = widgets.Dropdown(\n",
    "    options=sorted(persona_genre_counts['persona_code'].unique()),\n",
    "    description='Select Persona:', \n",
    "    style={'description_width': 'initial', 'width': '300px'}\n",
    ")\n",
    "\n",
    "# Display the interactive chart\n",
    "interact(show_genre_distribution, selected_persona=persona_dropdown)\n"
   ]
  },
  {
   "cell_type": "code",
   "execution_count": null,
   "id": "3bc46778",
   "metadata": {},
   "outputs": [],
   "source": [
    "# Visualize the favorite movie genres for each persona\n",
    "plt.figure(figsize=(12, 8))\n",
    "sns.barplot(data=top_genre_for_persona, x='persona_code', y='count', hue='movie_genres_cleaned', dodge=False)\n",
    "plt.title('Top Movie Genre for Each Persona')\n",
    "plt.xlabel('Persona')\n",
    "plt.ylabel('Count')\n",
    "plt.legend(title='Movie Genres', bbox_to_anchor=(1.05, 1), loc='upper left')\n",
    "plt.xticks(rotation=45)\n",
    "plt.tight_layout()\n",
    "plt.show()"
   ]
  },
  {
   "cell_type": "markdown",
   "id": "1ad39469",
   "metadata": {},
   "source": [
    "## Gender"
   ]
  },
  {
   "cell_type": "markdown",
   "id": "3ce62256",
   "metadata": {},
   "source": [
    "## Temporal factors"
   ]
  },
  {
   "cell_type": "markdown",
   "id": "2c8ac634",
   "metadata": {},
   "source": [
    "# Main & side characters"
   ]
  },
  {
   "cell_type": "markdown",
   "id": "4f68a0c1",
   "metadata": {},
   "source": [
    "## Load graph data"
   ]
  },
  {
   "cell_type": "code",
   "execution_count": null,
   "id": "a22a2214",
   "metadata": {},
   "outputs": [],
   "source": []
  },
  {
   "cell_type": "markdown",
   "id": "109ee4ad",
   "metadata": {},
   "source": [
    "## Calculate pagerank"
   ]
  },
  {
   "cell_type": "markdown",
   "id": "f82029cf",
   "metadata": {},
   "source": [
    "Create a directed graph for each movie and calculate three centrality measures for characters."
   ]
  },
  {
   "cell_type": "markdown",
   "id": "6ae7c33f",
   "metadata": {},
   "source": [
    "## Use pagerank to define the main & side char"
   ]
  },
  {
   "cell_type": "markdown",
   "id": "6b3ccbf1",
   "metadata": {},
   "source": [
    "## Assign main & side roles"
   ]
  },
  {
   "cell_type": "markdown",
   "id": "598ba03a",
   "metadata": {},
   "source": [
    "Calculate the difference in PageRank values to identify the maximum difference, which serves as the boundary between main and side characters."
   ]
  },
  {
   "cell_type": "markdown",
   "id": "933b29ee",
   "metadata": {},
   "source": [
    "## Merge"
   ]
  },
  {
   "cell_type": "markdown",
   "id": "19f74658",
   "metadata": {},
   "source": [
    "## Main & side analysis"
   ]
  },
  {
   "cell_type": "code",
   "execution_count": null,
   "id": "bcc5bbf7",
   "metadata": {},
   "outputs": [],
   "source": []
  }
 ],
 "metadata": {
  "kernelspec": {
   "display_name": "Python 3 (ipykernel)",
   "language": "python",
   "name": "python3"
  },
  "language_info": {
   "codemirror_mode": {
    "name": "ipython",
    "version": 3
   },
   "file_extension": ".py",
   "mimetype": "text/x-python",
   "name": "python",
   "nbconvert_exporter": "python",
   "pygments_lexer": "ipython3",
   "version": "3.7.16"
  },
  "toc": {
   "base_numbering": 1,
   "nav_menu": {},
   "number_sections": true,
   "sideBar": true,
   "skip_h1_title": false,
   "title_cell": "Table of Contents",
   "title_sidebar": "Contents",
   "toc_cell": true,
   "toc_position": {},
   "toc_section_display": true,
   "toc_window_display": false
  }
 },
 "nbformat": 4,
 "nbformat_minor": 5
}
